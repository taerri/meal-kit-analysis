{
  "nbformat": 4,
  "nbformat_minor": 0,
  "metadata": {
    "colab": {
      "name": "02_빅카인즈_밀키트_전처리_Mecab.ipynb",
      "provenance": [],
      "collapsed_sections": [],
      "authorship_tag": "ABX9TyMdEPurnU0ATUda9p3Qi/Xq",
      "include_colab_link": true
    },
    "kernelspec": {
      "display_name": "Python 3",
      "name": "python3"
    },
    "language_info": {
      "name": "python"
    }
  },
  "cells": [
    {
      "cell_type": "markdown",
      "metadata": {
        "id": "view-in-github",
        "colab_type": "text"
      },
      "source": [
        "<a href=\"https://colab.research.google.com/github/taerri/meal-kit-analysis/blob/main/02_%EB%B9%85%EC%B9%B4%EC%9D%B8%EC%A6%88_%EB%B0%80%ED%82%A4%ED%8A%B8_%EC%A0%84%EC%B2%98%EB%A6%AC_Mecab.ipynb\" target=\"_parent\"><img src=\"https://colab.research.google.com/assets/colab-badge.svg\" alt=\"Open In Colab\"/></a>"
      ]
    },
    {
      "cell_type": "markdown",
      "metadata": {
        "id": "mD5hlW96jR87"
      },
      "source": [
        "konlpy 설치"
      ]
    },
    {
      "cell_type": "code",
      "metadata": {
        "colab": {
          "base_uri": "https://localhost:8080/"
        },
        "id": "VfYCwhy_I8uU",
        "outputId": "1f435b76-da7c-462c-8a3c-a7bf8fd0f04f"
      },
      "source": [
        "pip install konlpy"
      ],
      "execution_count": 1,
      "outputs": [
        {
          "output_type": "stream",
          "name": "stdout",
          "text": [
            "Requirement already satisfied: konlpy in /usr/local/lib/python3.7/dist-packages (0.5.2)\n",
            "Requirement already satisfied: JPype1>=0.7.0 in /usr/local/lib/python3.7/dist-packages (from konlpy) (1.3.0)\n",
            "Requirement already satisfied: tweepy>=3.7.0 in /usr/local/lib/python3.7/dist-packages (from konlpy) (3.10.0)\n",
            "Requirement already satisfied: beautifulsoup4==4.6.0 in /usr/local/lib/python3.7/dist-packages (from konlpy) (4.6.0)\n",
            "Requirement already satisfied: numpy>=1.6 in /usr/local/lib/python3.7/dist-packages (from konlpy) (1.19.5)\n",
            "Requirement already satisfied: colorama in /usr/local/lib/python3.7/dist-packages (from konlpy) (0.4.4)\n",
            "Requirement already satisfied: lxml>=4.1.0 in /usr/local/lib/python3.7/dist-packages (from konlpy) (4.2.6)\n",
            "Requirement already satisfied: typing-extensions in /usr/local/lib/python3.7/dist-packages (from JPype1>=0.7.0->konlpy) (3.7.4.3)\n",
            "Requirement already satisfied: requests[socks]>=2.11.1 in /usr/local/lib/python3.7/dist-packages (from tweepy>=3.7.0->konlpy) (2.23.0)\n",
            "Requirement already satisfied: requests-oauthlib>=0.7.0 in /usr/local/lib/python3.7/dist-packages (from tweepy>=3.7.0->konlpy) (1.3.0)\n",
            "Requirement already satisfied: six>=1.10.0 in /usr/local/lib/python3.7/dist-packages (from tweepy>=3.7.0->konlpy) (1.15.0)\n",
            "Requirement already satisfied: oauthlib>=3.0.0 in /usr/local/lib/python3.7/dist-packages (from requests-oauthlib>=0.7.0->tweepy>=3.7.0->konlpy) (3.1.1)\n",
            "Requirement already satisfied: chardet<4,>=3.0.2 in /usr/local/lib/python3.7/dist-packages (from requests[socks]>=2.11.1->tweepy>=3.7.0->konlpy) (3.0.4)\n",
            "Requirement already satisfied: urllib3!=1.25.0,!=1.25.1,<1.26,>=1.21.1 in /usr/local/lib/python3.7/dist-packages (from requests[socks]>=2.11.1->tweepy>=3.7.0->konlpy) (1.24.3)\n",
            "Requirement already satisfied: idna<3,>=2.5 in /usr/local/lib/python3.7/dist-packages (from requests[socks]>=2.11.1->tweepy>=3.7.0->konlpy) (2.10)\n",
            "Requirement already satisfied: certifi>=2017.4.17 in /usr/local/lib/python3.7/dist-packages (from requests[socks]>=2.11.1->tweepy>=3.7.0->konlpy) (2021.5.30)\n",
            "Requirement already satisfied: PySocks!=1.5.7,>=1.5.6 in /usr/local/lib/python3.7/dist-packages (from requests[socks]>=2.11.1->tweepy>=3.7.0->konlpy) (1.7.1)\n"
          ]
        }
      ]
    },
    {
      "cell_type": "markdown",
      "metadata": {
        "id": "MOs4sTgGjljM"
      },
      "source": [
        "Mecab 설치"
      ]
    },
    {
      "cell_type": "code",
      "metadata": {
        "colab": {
          "base_uri": "https://localhost:8080/"
        },
        "id": "n_54GrHoS0WR",
        "outputId": "85ab1070-1cfe-47bb-dbe9-a01a9f71f78c"
      },
      "source": [
        "%%bash\n",
        "bash <(curl -s https://raw.githubusercontent.com/konlpy/konlpy/master/scripts/mecab.sh)\n",
        "pip3 install /tmp/mecab-python-0.996"
      ],
      "execution_count": 2,
      "outputs": [
        {
          "output_type": "stream",
          "name": "stdout",
          "text": [
            "mecab-ko is already installed\n",
            "mecab-ko-dic is already installed\n",
            "mecab-python is already installed\n",
            "Done.\n",
            "Processing /tmp/mecab-python-0.996\n",
            "Building wheels for collected packages: mecab-python\n",
            "  Building wheel for mecab-python (setup.py): started\n",
            "  Building wheel for mecab-python (setup.py): finished with status 'done'\n",
            "  Created wheel for mecab-python: filename=mecab_python-0.996_ko_0.9.2-cp37-cp37m-linux_x86_64.whl size=141817 sha256=b9361d70cdcaf42a4cba861b7dc1f41a63de9be302f2cda77ee59e0e42b21716\n",
            "  Stored in directory: /root/.cache/pip/wheels/40/7b/9f/2922869bef86c3354ae7034f7a3647c573ee1997c2dad0290a\n",
            "Failed to build mecab-python\n",
            "Installing collected packages: mecab-python\n",
            "  Attempting uninstall: mecab-python\n",
            "    Found existing installation: mecab-python 0.996-ko-0.9.2\n",
            "    Uninstalling mecab-python-0.996-ko-0.9.2:\n",
            "      Successfully uninstalled mecab-python-0.996-ko-0.9.2\n",
            "    Running setup.py install for mecab-python: started\n",
            "    Running setup.py install for mecab-python: finished with status 'done'\n",
            "Successfully installed mecab-python-0.996-ko-0.9.2\n"
          ]
        },
        {
          "output_type": "stream",
          "name": "stderr",
          "text": [
            "  DEPRECATION: A future pip version will change local packages to be built in-place without first copying to a temporary directory. We recommend you use --use-feature=in-tree-build to test your packages with this new behavior before it becomes the default.\n",
            "   pip 21.3 will remove support for this functionality. You can find discussion regarding this at https://github.com/pypa/pip/issues/7555.\n",
            "  WARNING: Built wheel for mecab-python is invalid: Metadata 1.2 mandates PEP 440 version, but '0.996-ko-0.9.2' is not\n",
            "  DEPRECATION: mecab-python was installed using the legacy 'setup.py install' method, because a wheel could not be built for it. A possible replacement is to fix the wheel build issue reported above. You can find discussion regarding this at https://github.com/pypa/pip/issues/8368.\n"
          ]
        }
      ]
    },
    {
      "cell_type": "code",
      "metadata": {
        "id": "cmYi8BHEITpw"
      },
      "source": [
        "import konlpy\n",
        "import MeCab\n",
        "from konlpy.tag import Mecab\n",
        "import pandas as pd\n",
        "import numpy as np\n",
        "import re"
      ],
      "execution_count": 3,
      "outputs": []
    },
    {
      "cell_type": "code",
      "metadata": {
        "colab": {
          "base_uri": "https://localhost:8080/",
          "height": 203
        },
        "id": "oY17GmpBJCO9",
        "outputId": "f13e1634-d126-46fe-b161-fd3c7455b083"
      },
      "source": [
        "df=pd.read_csv(\"크롤링 결과.csv\")\n",
        "df.head()"
      ],
      "execution_count": 4,
      "outputs": [
        {
          "output_type": "execute_result",
          "data": {
            "text/html": [
              "<div>\n",
              "<style scoped>\n",
              "    .dataframe tbody tr th:only-of-type {\n",
              "        vertical-align: middle;\n",
              "    }\n",
              "\n",
              "    .dataframe tbody tr th {\n",
              "        vertical-align: top;\n",
              "    }\n",
              "\n",
              "    .dataframe thead th {\n",
              "        text-align: right;\n",
              "    }\n",
              "</style>\n",
              "<table border=\"1\" class=\"dataframe\">\n",
              "  <thead>\n",
              "    <tr style=\"text-align: right;\">\n",
              "      <th></th>\n",
              "      <th>Unnamed: 0</th>\n",
              "      <th>Date</th>\n",
              "      <th>Title</th>\n",
              "      <th>Content</th>\n",
              "    </tr>\n",
              "  </thead>\n",
              "  <tbody>\n",
              "    <tr>\n",
              "      <th>0</th>\n",
              "      <td>0</td>\n",
              "      <td>2017-12-27</td>\n",
              "      <td>연말연시 ‘홈파티족’ 확산, 홈파티 ‘잇츠온’ 간편식 직접 체험해보니</td>\n",
              "      <td>요리하는 재미 ‘쏠쏠~~’ 맛도 ‘일품’ 분위기는 ‘덤’\\n\\n\\n\\n거리를 가득 ...</td>\n",
              "    </tr>\n",
              "    <tr>\n",
              "      <th>1</th>\n",
              "      <td>1</td>\n",
              "      <td>2017-12-27</td>\n",
              "      <td>식물성·간편식·슈퍼곡물에 빠졌던 2017년</td>\n",
              "      <td>식품을 낭비없이 먹는 ‘제로 웨이스트’…SNS발달로 이국적 맛 ‘에스닉 푸드’ 등 ...</td>\n",
              "    </tr>\n",
              "    <tr>\n",
              "      <th>2</th>\n",
              "      <td>2</td>\n",
              "      <td>2017-12-27</td>\n",
              "      <td>올해만 10여개 브랜드 출시, 가정간편식 '춘추전국시대'</td>\n",
              "      <td>야구르트 아줌마가 배달하는 간편식,백화점의 프리미엄 간편식, 편의점에서 간단히 만나...</td>\n",
              "    </tr>\n",
              "    <tr>\n",
              "      <th>3</th>\n",
              "      <td>3</td>\n",
              "      <td>2017-12-26</td>\n",
              "      <td>유통업계 '밀 솔루션' 경쟁 본격화</td>\n",
              "      <td>유통업계가 소비자 라이프스타일 변화에 발맞춰 간편한 한끼 식사가 가능한 제품과 서비...</td>\n",
              "    </tr>\n",
              "    <tr>\n",
              "      <th>4</th>\n",
              "      <td>4</td>\n",
              "      <td>2017-12-19</td>\n",
              "      <td>해먹남녀, GS리테일 ‘심플리쿡’ 판매 진행 “칼질 없이 일품요리 즐겨”</td>\n",
              "      <td>푸드 콘텐츠 커머스 플랫폼 ‘해먹남녀’를 운영하는 바이탈힌트 코리아(대표 정지웅)는...</td>\n",
              "    </tr>\n",
              "  </tbody>\n",
              "</table>\n",
              "</div>"
            ],
            "text/plain": [
              "   Unnamed: 0  ...                                            Content\n",
              "0           0  ...  요리하는 재미 ‘쏠쏠~~’ 맛도 ‘일품’ 분위기는 ‘덤’\\n\\n\\n\\n거리를 가득 ...\n",
              "1           1  ...  식품을 낭비없이 먹는 ‘제로 웨이스트’…SNS발달로 이국적 맛 ‘에스닉 푸드’ 등 ...\n",
              "2           2  ...  야구르트 아줌마가 배달하는 간편식,백화점의 프리미엄 간편식, 편의점에서 간단히 만나...\n",
              "3           3  ...  유통업계가 소비자 라이프스타일 변화에 발맞춰 간편한 한끼 식사가 가능한 제품과 서비...\n",
              "4           4  ...  푸드 콘텐츠 커머스 플랫폼 ‘해먹남녀’를 운영하는 바이탈힌트 코리아(대표 정지웅)는...\n",
              "\n",
              "[5 rows x 4 columns]"
            ]
          },
          "metadata": {},
          "execution_count": 4
        }
      ]
    },
    {
      "cell_type": "code",
      "metadata": {
        "colab": {
          "base_uri": "https://localhost:8080/"
        },
        "id": "LwdRV_2d0D-E",
        "outputId": "b74d34f8-af5d-499e-899b-3b016cfc0078"
      },
      "source": [
        "len(df)"
      ],
      "execution_count": 5,
      "outputs": [
        {
          "output_type": "execute_result",
          "data": {
            "text/plain": [
              "5630"
            ]
          },
          "metadata": {},
          "execution_count": 5
        }
      ]
    },
    {
      "cell_type": "code",
      "metadata": {
        "id": "vFi4BQ6bhuGB"
      },
      "source": [
        "#본문 리스트 만들기\n",
        "word_list=[]\n",
        "word_list=df['Content']\n",
        "word_list=word_list.reset_index(drop=True)"
      ],
      "execution_count": 6,
      "outputs": []
    },
    {
      "cell_type": "code",
      "metadata": {
        "id": "5Z1Z1FAlJv2J"
      },
      "source": [
        "#기사중복 삭제\n",
        "df_drop=df.drop_duplicates(['Date','Title','Content'], keep='first')"
      ],
      "execution_count": 7,
      "outputs": []
    },
    {
      "cell_type": "code",
      "metadata": {
        "id": "snjNyBbfJ08D"
      },
      "source": [
        "#index reset\n",
        "df=df_drop.reset_index(drop=True)"
      ],
      "execution_count": 8,
      "outputs": []
    },
    {
      "cell_type": "code",
      "metadata": {
        "id": "kWkAVr--J2rj"
      },
      "source": [
        "#행,열 최대로 보기\n",
        "pd.set_option('display.max_row', None)\n",
        "pd.set_option('display.max_columns', None)"
      ],
      "execution_count": 9,
      "outputs": []
    },
    {
      "cell_type": "code",
      "metadata": {
        "colab": {
          "base_uri": "https://localhost:8080/"
        },
        "id": "CSKmSeI-0R_s",
        "outputId": "2ff79003-5da7-47f1-8080-8c6f0edf354d"
      },
      "source": [
        "df.head()\n",
        "len(df)"
      ],
      "execution_count": 10,
      "outputs": [
        {
          "output_type": "execute_result",
          "data": {
            "text/plain": [
              "5507"
            ]
          },
          "metadata": {},
          "execution_count": 10
        }
      ]
    },
    {
      "cell_type": "code",
      "metadata": {
        "colab": {
          "base_uri": "https://localhost:8080/"
        },
        "id": "iV8yqFHmJ4O_",
        "outputId": "a66a2270-5551-4abe-e167-098d911c063d"
      },
      "source": [
        "#기사 본문만 가져오기\n",
        "content=df[\"Content\"]\n",
        "content.head()"
      ],
      "execution_count": 11,
      "outputs": [
        {
          "output_type": "execute_result",
          "data": {
            "text/plain": [
              "0    요리하는 재미 ‘쏠쏠~~’ 맛도 ‘일품’ 분위기는 ‘덤’\\n\\n\\n\\n거리를 가득 ...\n",
              "1    식품을 낭비없이 먹는 ‘제로 웨이스트’…SNS발달로 이국적 맛 ‘에스닉 푸드’ 등 ...\n",
              "2    야구르트 아줌마가 배달하는 간편식,백화점의 프리미엄 간편식, 편의점에서 간단히 만나...\n",
              "3    유통업계가 소비자 라이프스타일 변화에 발맞춰 간편한 한끼 식사가 가능한 제품과 서비...\n",
              "4    푸드 콘텐츠 커머스 플랫폼 ‘해먹남녀’를 운영하는 바이탈힌트 코리아(대표 정지웅)는...\n",
              "Name: Content, dtype: object"
            ]
          },
          "metadata": {},
          "execution_count": 11
        }
      ]
    },
    {
      "cell_type": "code",
      "metadata": {
        "id": "jI81WVjJQ7yy"
      },
      "source": [
        "#None값 제거\n",
        "drop_row = content.dropna(axis=0)\n",
        "df=pd.DataFrame([drop_row])\n",
        "df= df.transpose()"
      ],
      "execution_count": 12,
      "outputs": []
    },
    {
      "cell_type": "code",
      "metadata": {
        "id": "Sgn5db4AipG5"
      },
      "source": [
        "#단어 교체\n",
        "content=df['Content'].map(lambda x: str(x).replace('밀 키트','밀키트'))"
      ],
      "execution_count": 13,
      "outputs": []
    },
    {
      "cell_type": "markdown",
      "metadata": {
        "id": "_3saCRfomNKE"
      },
      "source": [
        "# **명사 추출**"
      ]
    },
    {
      "cell_type": "code",
      "metadata": {
        "id": "E6Q0QSgF1tiB"
      },
      "source": [
        "mecab=Mecab()"
      ],
      "execution_count": 14,
      "outputs": []
    },
    {
      "cell_type": "code",
      "metadata": {
        "colab": {
          "base_uri": "https://localhost:8080/"
        },
        "id": "WPFkZ9nZU0ME",
        "outputId": "ed4d01f0-0af7-4d2b-f572-3169872b8719"
      },
      "source": [
        "#명사 추출\n",
        "from tqdm import tqdm\n",
        "nouns = [] \n",
        "for x in tqdm(content):\n",
        "    try:\n",
        "        nouns.append(mecab.nouns(x))\n",
        "    except:\n",
        "        nouns.append([\"None\"])"
      ],
      "execution_count": 15,
      "outputs": [
        {
          "output_type": "stream",
          "name": "stderr",
          "text": [
            "100%|██████████| 5506/5506 [00:20<00:00, 274.27it/s]\n"
          ]
        }
      ]
    },
    {
      "cell_type": "code",
      "metadata": {
        "id": "VMsLj3xChMuI"
      },
      "source": [
        "#명사 추출 결과값 열에 추가\n",
        "konlpy_df= df.copy()\n",
        "konlpy_df[\"ContentNoun\"] = nouns"
      ],
      "execution_count": 16,
      "outputs": []
    },
    {
      "cell_type": "code",
      "metadata": {
        "id": "-hseqLdkZYpk"
      },
      "source": [
        "#json 파일로 저장\n",
        "konlpy_df.to_json(\"mealkit_전처리.json\",orient=\"table\")"
      ],
      "execution_count": 17,
      "outputs": []
    },
    {
      "cell_type": "code",
      "metadata": {
        "id": "Wks49lgVZfNz"
      },
      "source": [
        "from sklearn.feature_extraction.text import TfidfVectorizer\n",
        "from collections import defaultdict\n",
        "import pandas as pd\n",
        "from sklearn.decomposition import LatentDirichletAllocation\n",
        "import pickle\n",
        "import re"
      ],
      "execution_count": 18,
      "outputs": []
    },
    {
      "cell_type": "code",
      "metadata": {
        "id": "_UGElpFlZg7l"
      },
      "source": [
        "corpus = pd.read_json(\"mealkit_전처리.json\",orient=\"table\")"
      ],
      "execution_count": 19,
      "outputs": []
    },
    {
      "cell_type": "markdown",
      "metadata": {
        "id": "GPFtOOwba3vc"
      },
      "source": [
        "# **단어 교체**"
      ]
    },
    {
      "cell_type": "code",
      "metadata": {
        "id": "I4AB6S6Pa5bA"
      },
      "source": [
        "#단어 교체(11번 -> 11번가)\n",
        "def change(text):\n",
        "    text=','.join(text)\n",
        "    text_list=text.split(',')\n",
        "    result=[]\n",
        "    for c in text_list:\n",
        "        if c=='11번':\n",
        "            c=c.replace('11번','11번가')\n",
        "        if c=='인공지능':\n",
        "            c=c.replace('인공지능','AI')\n",
        "        result.append(c)\n",
        "    result=','.join(result)\n",
        "    return result"
      ],
      "execution_count": 20,
      "outputs": []
    },
    {
      "cell_type": "code",
      "metadata": {
        "id": "girXZsBwa86T"
      },
      "source": [
        "corpus['ContentNoun']=corpus['ContentNoun'].map(lambda x: change(x))"
      ],
      "execution_count": 21,
      "outputs": []
    },
    {
      "cell_type": "code",
      "metadata": {
        "id": "UC7E2rDem43X"
      },
      "source": [
        "tokenized_doc = list(corpus[\"ContentNoun\"])"
      ],
      "execution_count": 22,
      "outputs": []
    },
    {
      "cell_type": "markdown",
      "metadata": {
        "id": "oYqmCkPKhJkm"
      },
      "source": [
        "# **단어 한글자 이하 제거**"
      ]
    },
    {
      "cell_type": "code",
      "metadata": {
        "id": "-xEIyrt2hCWd"
      },
      "source": [
        "tokenized_doc = [n for n in tokenized_doc if len(n)>1]"
      ],
      "execution_count": 23,
      "outputs": []
    },
    {
      "cell_type": "markdown",
      "metadata": {
        "id": "dF1pMYpvmGVo"
      },
      "source": [
        "# **불용어 처리**"
      ]
    },
    {
      "cell_type": "markdown",
      "metadata": {
        "id": "063Cd8lJfsgc"
      },
      "source": [
        "## 불용어 제거\n",
        "- 사이트 이용\n",
        "    - [사이트1](https://bab2min.tistory.com/544)\n",
        "    - [사이트2](https://www.ranks.nl/stopwords/korean)\n",
        "- 직접 제거\n",
        "    - ./삭제 단어.xlsx"
      ]
    },
    {
      "cell_type": "code",
      "metadata": {
        "id": "Mp4LtGS-XqH0",
        "colab": {
          "base_uri": "https://localhost:8080/"
        },
        "outputId": "a4a43797-486b-4d27-bc9d-b69afc6dbef5"
      },
      "source": [
        "#직접 제거\n",
        "stopword1 = pd.read_csv(\"./불용어 처리.txt\",header=None,sep=\"\\t\")\n",
        "stopword1 = list(stopword1[0])\n",
        "len(stopword1)"
      ],
      "execution_count": 24,
      "outputs": [
        {
          "output_type": "execute_result",
          "data": {
            "text/plain": [
              "139"
            ]
          },
          "metadata": {},
          "execution_count": 24
        }
      ]
    },
    {
      "cell_type": "code",
      "metadata": {
        "colab": {
          "base_uri": "https://localhost:8080/"
        },
        "id": "n8uzrhftfNQF",
        "outputId": "1069c022-9c21-4086-d348-9e22b374cb46"
      },
      "source": [
        "stopword2 = pd.read_csv(\"한국어불용어100.txt\",header=None,sep=\"\\t\")\n",
        "stopword2 = list(stopword2[0])\n",
        "len(stopword2)"
      ],
      "execution_count": 25,
      "outputs": [
        {
          "output_type": "execute_result",
          "data": {
            "text/plain": [
              "100"
            ]
          },
          "metadata": {},
          "execution_count": 25
        }
      ]
    },
    {
      "cell_type": "code",
      "metadata": {
        "colab": {
          "base_uri": "https://localhost:8080/"
        },
        "id": "l1zyQo-rfPH-",
        "outputId": "0d1866d7-14b7-4a17-8089-a863ee896c4b"
      },
      "source": [
        "stopword3 = pd.read_csv(\"한국어불용어100_2.txt\",header=None)\n",
        "stopword3 = list(stopword3[0])\n",
        "len(stopword3)"
      ],
      "execution_count": 26,
      "outputs": [
        {
          "output_type": "execute_result",
          "data": {
            "text/plain": [
              "675"
            ]
          },
          "metadata": {},
          "execution_count": 26
        }
      ]
    },
    {
      "cell_type": "code",
      "metadata": {
        "colab": {
          "base_uri": "https://localhost:8080/"
        },
        "id": "VNvAnrLXaJuS",
        "outputId": "92a0935d-3381-409f-b439-c0bb20d55d79"
      },
      "source": [
        "stopword = list(set(stopword1 + stopword2 + stopword3))\n",
        "print(\"불용어 개수 :\",len(stopword))"
      ],
      "execution_count": 27,
      "outputs": [
        {
          "output_type": "stream",
          "name": "stdout",
          "text": [
            "불용어 개수 : 803\n"
          ]
        }
      ]
    },
    {
      "cell_type": "code",
      "metadata": {
        "id": "wRasXCh_mzfa"
      },
      "source": [
        "tokenized_doc = [[x for x in y if x not in stopword] for y in tokenized_doc]"
      ],
      "execution_count": 28,
      "outputs": []
    },
    {
      "cell_type": "code",
      "metadata": {
        "id": "3B9IbYuNoL-G"
      },
      "source": [
        "corpus.to_json(\"mealkit_전처리.json\",orient=\"table\")"
      ],
      "execution_count": 29,
      "outputs": []
    },
    {
      "cell_type": "code",
      "metadata": {
        "id": "uhdJ9OfcoRRV"
      },
      "source": [
        "file=corpus[[\"ContentNoun\"]]\n",
        "file.columns=['키워드']\n",
        "file.to_csv(\"단어(전처리 후).csv\",encoding=\"utf-8-sig\")"
      ],
      "execution_count": 30,
      "outputs": []
    },
    {
      "cell_type": "code",
      "metadata": {
        "colab": {
          "base_uri": "https://localhost:8080/",
          "height": 203
        },
        "id": "5jRfU-XCsskW",
        "outputId": "8426786f-ff40-413f-bde3-14388ea8d41d"
      },
      "source": [
        "file.head()"
      ],
      "execution_count": 31,
      "outputs": [
        {
          "output_type": "execute_result",
          "data": {
            "text/html": [
              "<div>\n",
              "<style scoped>\n",
              "    .dataframe tbody tr th:only-of-type {\n",
              "        vertical-align: middle;\n",
              "    }\n",
              "\n",
              "    .dataframe tbody tr th {\n",
              "        vertical-align: top;\n",
              "    }\n",
              "\n",
              "    .dataframe thead th {\n",
              "        text-align: right;\n",
              "    }\n",
              "</style>\n",
              "<table border=\"1\" class=\"dataframe\">\n",
              "  <thead>\n",
              "    <tr style=\"text-align: right;\">\n",
              "      <th></th>\n",
              "      <th>키워드</th>\n",
              "    </tr>\n",
              "  </thead>\n",
              "  <tbody>\n",
              "    <tr>\n",
              "      <th>0</th>\n",
              "      <td>요리,재미,맛,일품,분위기,덤,거리,인파,시간,기본,식당,카페,대기,시간,고가,크리...</td>\n",
              "    </tr>\n",
              "    <tr>\n",
              "      <th>1</th>\n",
              "      <td>식품,낭비,제로,웨이스트,발달,이국,맛,스닉,푸드,등,식품,트렌드,가지,건강,삶,중...</td>\n",
              "    </tr>\n",
              "    <tr>\n",
              "      <th>2</th>\n",
              "      <td>야구르트,아줌마,배달,간,편식,백화점,프리미엄,간,편식,편의점,간,편식,등,간,편식...</td>\n",
              "    </tr>\n",
              "    <tr>\n",
              "      <th>3</th>\n",
              "      <td>유통,업계,소비자,라이프,스타일,변화,끼,식사,가능,제품,서비스,제공,밀,솔루션,시...</td>\n",
              "    </tr>\n",
              "    <tr>\n",
              "      <th>4</th>\n",
              "      <td>푸드,콘텐츠,커머스,플랫,폼,해먹,남녀,운영,바이탈,힌트,코리아,대표,정지웅,리,테...</td>\n",
              "    </tr>\n",
              "  </tbody>\n",
              "</table>\n",
              "</div>"
            ],
            "text/plain": [
              "                                                 키워드\n",
              "0  요리,재미,맛,일품,분위기,덤,거리,인파,시간,기본,식당,카페,대기,시간,고가,크리...\n",
              "1  식품,낭비,제로,웨이스트,발달,이국,맛,스닉,푸드,등,식품,트렌드,가지,건강,삶,중...\n",
              "2  야구르트,아줌마,배달,간,편식,백화점,프리미엄,간,편식,편의점,간,편식,등,간,편식...\n",
              "3  유통,업계,소비자,라이프,스타일,변화,끼,식사,가능,제품,서비스,제공,밀,솔루션,시...\n",
              "4  푸드,콘텐츠,커머스,플랫,폼,해먹,남녀,운영,바이탈,힌트,코리아,대표,정지웅,리,테..."
            ]
          },
          "metadata": {},
          "execution_count": 31
        }
      ]
    },
    {
      "cell_type": "code",
      "metadata": {
        "id": "oZI9SSdXk1AV"
      },
      "source": [
        ""
      ],
      "execution_count": 31,
      "outputs": []
    }
  ]
}