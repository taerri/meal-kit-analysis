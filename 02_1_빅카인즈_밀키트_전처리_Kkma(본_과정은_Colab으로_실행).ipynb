{
  "nbformat": 4,
  "nbformat_minor": 0,
  "metadata": {
    "colab": {
      "name": "02-1_빅카인즈_밀키트_전처리_Kkma(본 과정은 Colab으로 실행).ipynb",
      "provenance": [],
      "collapsed_sections": [],
      "include_colab_link": true
    },
    "kernelspec": {
      "display_name": "Python 3",
      "language": "python",
      "name": "python3"
    },
    "language_info": {
      "codemirror_mode": {
        "name": "ipython",
        "version": 3
      },
      "file_extension": ".py",
      "mimetype": "text/x-python",
      "name": "python",
      "nbconvert_exporter": "python",
      "pygments_lexer": "ipython3",
      "version": "3.8.5"
    }
  },
  "cells": [
    {
      "cell_type": "markdown",
      "metadata": {
        "id": "view-in-github",
        "colab_type": "text"
      },
      "source": [
        "<a href=\"https://colab.research.google.com/github/taerri/meal-kit-analysis/blob/main/02_1_%EB%B9%85%EC%B9%B4%EC%9D%B8%EC%A6%88_%EB%B0%80%ED%82%A4%ED%8A%B8_%EC%A0%84%EC%B2%98%EB%A6%AC_Kkma(%EB%B3%B8_%EA%B3%BC%EC%A0%95%EC%9D%80_Colab%EC%9C%BC%EB%A1%9C_%EC%8B%A4%ED%96%89).ipynb\" target=\"_parent\"><img src=\"https://colab.research.google.com/assets/colab-badge.svg\" alt=\"Open In Colab\"/></a>"
      ]
    },
    {
      "cell_type": "markdown",
      "metadata": {
        "id": "wMbSDi0Wh3zY"
      },
      "source": [
        "# **2. 데이터 전처리**"
      ]
    },
    {
      "cell_type": "code",
      "metadata": {
        "colab": {
          "base_uri": "https://localhost:8080/"
        },
        "id": "IRb2ZNlO2AUi",
        "outputId": "f4aed767-870b-4814-ca73-f926256f54d5"
      },
      "source": [
        "pip install konlpy"
      ],
      "execution_count": null,
      "outputs": [
        {
          "output_type": "stream",
          "name": "stdout",
          "text": [
            "Requirement already satisfied: konlpy in /usr/local/lib/python3.7/dist-packages (0.5.2)\n",
            "Requirement already satisfied: colorama in /usr/local/lib/python3.7/dist-packages (from konlpy) (0.4.4)\n",
            "Requirement already satisfied: JPype1>=0.7.0 in /usr/local/lib/python3.7/dist-packages (from konlpy) (1.3.0)\n",
            "Requirement already satisfied: beautifulsoup4==4.6.0 in /usr/local/lib/python3.7/dist-packages (from konlpy) (4.6.0)\n",
            "Requirement already satisfied: lxml>=4.1.0 in /usr/local/lib/python3.7/dist-packages (from konlpy) (4.2.6)\n",
            "Requirement already satisfied: numpy>=1.6 in /usr/local/lib/python3.7/dist-packages (from konlpy) (1.19.5)\n",
            "Requirement already satisfied: tweepy>=3.7.0 in /usr/local/lib/python3.7/dist-packages (from konlpy) (3.10.0)\n",
            "Requirement already satisfied: typing-extensions in /usr/local/lib/python3.7/dist-packages (from JPype1>=0.7.0->konlpy) (3.7.4.3)\n",
            "Requirement already satisfied: requests[socks]>=2.11.1 in /usr/local/lib/python3.7/dist-packages (from tweepy>=3.7.0->konlpy) (2.23.0)\n",
            "Requirement already satisfied: six>=1.10.0 in /usr/local/lib/python3.7/dist-packages (from tweepy>=3.7.0->konlpy) (1.15.0)\n",
            "Requirement already satisfied: requests-oauthlib>=0.7.0 in /usr/local/lib/python3.7/dist-packages (from tweepy>=3.7.0->konlpy) (1.3.0)\n",
            "Requirement already satisfied: oauthlib>=3.0.0 in /usr/local/lib/python3.7/dist-packages (from requests-oauthlib>=0.7.0->tweepy>=3.7.0->konlpy) (3.1.1)\n",
            "Requirement already satisfied: certifi>=2017.4.17 in /usr/local/lib/python3.7/dist-packages (from requests[socks]>=2.11.1->tweepy>=3.7.0->konlpy) (2021.5.30)\n",
            "Requirement already satisfied: chardet<4,>=3.0.2 in /usr/local/lib/python3.7/dist-packages (from requests[socks]>=2.11.1->tweepy>=3.7.0->konlpy) (3.0.4)\n",
            "Requirement already satisfied: urllib3!=1.25.0,!=1.25.1,<1.26,>=1.21.1 in /usr/local/lib/python3.7/dist-packages (from requests[socks]>=2.11.1->tweepy>=3.7.0->konlpy) (1.24.3)\n",
            "Requirement already satisfied: idna<3,>=2.5 in /usr/local/lib/python3.7/dist-packages (from requests[socks]>=2.11.1->tweepy>=3.7.0->konlpy) (2.10)\n",
            "Requirement already satisfied: PySocks!=1.5.7,>=1.5.6 in /usr/local/lib/python3.7/dist-packages (from requests[socks]>=2.11.1->tweepy>=3.7.0->konlpy) (1.7.1)\n"
          ]
        }
      ]
    },
    {
      "cell_type": "code",
      "metadata": {
        "colab": {
          "base_uri": "https://localhost:8080/"
        },
        "id": "CPqVW3yI95Qv",
        "outputId": "920d040d-6797-41e5-8793-63a7636305d6"
      },
      "source": [
        "pip install customized_konlpy"
      ],
      "execution_count": null,
      "outputs": [
        {
          "output_type": "stream",
          "name": "stdout",
          "text": [
            "Requirement already satisfied: customized_konlpy in /usr/local/lib/python3.7/dist-packages (0.0.64)\n",
            "Requirement already satisfied: konlpy>=0.4.4 in /usr/local/lib/python3.7/dist-packages (from customized_konlpy) (0.5.2)\n",
            "Requirement already satisfied: Jpype1>=0.6.1 in /usr/local/lib/python3.7/dist-packages (from customized_konlpy) (1.3.0)\n",
            "Requirement already satisfied: typing-extensions in /usr/local/lib/python3.7/dist-packages (from Jpype1>=0.6.1->customized_konlpy) (3.7.4.3)\n",
            "Requirement already satisfied: beautifulsoup4==4.6.0 in /usr/local/lib/python3.7/dist-packages (from konlpy>=0.4.4->customized_konlpy) (4.6.0)\n",
            "Requirement already satisfied: numpy>=1.6 in /usr/local/lib/python3.7/dist-packages (from konlpy>=0.4.4->customized_konlpy) (1.19.5)\n",
            "Requirement already satisfied: tweepy>=3.7.0 in /usr/local/lib/python3.7/dist-packages (from konlpy>=0.4.4->customized_konlpy) (3.10.0)\n",
            "Requirement already satisfied: lxml>=4.1.0 in /usr/local/lib/python3.7/dist-packages (from konlpy>=0.4.4->customized_konlpy) (4.2.6)\n",
            "Requirement already satisfied: colorama in /usr/local/lib/python3.7/dist-packages (from konlpy>=0.4.4->customized_konlpy) (0.4.4)\n",
            "Requirement already satisfied: six>=1.10.0 in /usr/local/lib/python3.7/dist-packages (from tweepy>=3.7.0->konlpy>=0.4.4->customized_konlpy) (1.15.0)\n",
            "Requirement already satisfied: requests-oauthlib>=0.7.0 in /usr/local/lib/python3.7/dist-packages (from tweepy>=3.7.0->konlpy>=0.4.4->customized_konlpy) (1.3.0)\n",
            "Requirement already satisfied: requests[socks]>=2.11.1 in /usr/local/lib/python3.7/dist-packages (from tweepy>=3.7.0->konlpy>=0.4.4->customized_konlpy) (2.23.0)\n",
            "Requirement already satisfied: oauthlib>=3.0.0 in /usr/local/lib/python3.7/dist-packages (from requests-oauthlib>=0.7.0->tweepy>=3.7.0->konlpy>=0.4.4->customized_konlpy) (3.1.1)\n",
            "Requirement already satisfied: chardet<4,>=3.0.2 in /usr/local/lib/python3.7/dist-packages (from requests[socks]>=2.11.1->tweepy>=3.7.0->konlpy>=0.4.4->customized_konlpy) (3.0.4)\n",
            "Requirement already satisfied: urllib3!=1.25.0,!=1.25.1,<1.26,>=1.21.1 in /usr/local/lib/python3.7/dist-packages (from requests[socks]>=2.11.1->tweepy>=3.7.0->konlpy>=0.4.4->customized_konlpy) (1.24.3)\n",
            "Requirement already satisfied: certifi>=2017.4.17 in /usr/local/lib/python3.7/dist-packages (from requests[socks]>=2.11.1->tweepy>=3.7.0->konlpy>=0.4.4->customized_konlpy) (2021.5.30)\n",
            "Requirement already satisfied: idna<3,>=2.5 in /usr/local/lib/python3.7/dist-packages (from requests[socks]>=2.11.1->tweepy>=3.7.0->konlpy>=0.4.4->customized_konlpy) (2.10)\n",
            "Requirement already satisfied: PySocks!=1.5.7,>=1.5.6 in /usr/local/lib/python3.7/dist-packages (from requests[socks]>=2.11.1->tweepy>=3.7.0->konlpy>=0.4.4->customized_konlpy) (1.7.1)\n"
          ]
        }
      ]
    },
    {
      "cell_type": "code",
      "metadata": {
        "id": "jVZEUhRp2OiH"
      },
      "source": [
        "import numpy as np\n",
        "import pandas as pd\n",
        "import matplotlib.pyplot as plt\n",
        "import re\n",
        "\n",
        "from ckonlpy.tag import Twitter\n",
        "from konlpy.tag import Okt\n",
        "from konlpy.tag import Komoran\n",
        "from collections import Counter\n",
        "from wordcloud import WordCloud"
      ],
      "execution_count": null,
      "outputs": []
    },
    {
      "cell_type": "code",
      "metadata": {
        "colab": {
          "base_uri": "https://localhost:8080/"
        },
        "id": "MfXdil6L2WAz",
        "outputId": "7844f6f8-6df0-4e19-ee75-120e1a1e5af4"
      },
      "source": [
        "twitter=Twitter()"
      ],
      "execution_count": null,
      "outputs": [
        {
          "output_type": "stream",
          "name": "stderr",
          "text": [
            "/usr/local/lib/python3.7/dist-packages/konlpy/tag/_okt.py:16: UserWarning: \"Twitter\" has changed to \"Okt\" since KoNLPy v0.4.5.\n",
            "  warn('\"Twitter\" has changed to \"Okt\" since KoNLPy v0.4.5.')\n"
          ]
        }
      ]
    },
    {
      "cell_type": "code",
      "metadata": {
        "colab": {
          "base_uri": "https://localhost:8080/",
          "height": 204
        },
        "id": "YjW6-Jo0dpaE",
        "outputId": "237a6239-3080-4a87-db05-633715fa1184"
      },
      "source": [
        "df=pd.read_csv(\"크롤링 결과.csv\")\n",
        "df.head()"
      ],
      "execution_count": null,
      "outputs": [
        {
          "output_type": "execute_result",
          "data": {
            "text/html": [
              "<div>\n",
              "<style scoped>\n",
              "    .dataframe tbody tr th:only-of-type {\n",
              "        vertical-align: middle;\n",
              "    }\n",
              "\n",
              "    .dataframe tbody tr th {\n",
              "        vertical-align: top;\n",
              "    }\n",
              "\n",
              "    .dataframe thead th {\n",
              "        text-align: right;\n",
              "    }\n",
              "</style>\n",
              "<table border=\"1\" class=\"dataframe\">\n",
              "  <thead>\n",
              "    <tr style=\"text-align: right;\">\n",
              "      <th></th>\n",
              "      <th>Unnamed: 0</th>\n",
              "      <th>Date</th>\n",
              "      <th>Title</th>\n",
              "      <th>Content</th>\n",
              "    </tr>\n",
              "  </thead>\n",
              "  <tbody>\n",
              "    <tr>\n",
              "      <th>0</th>\n",
              "      <td>0</td>\n",
              "      <td>2017-12-27</td>\n",
              "      <td>연말연시 ‘홈파티족’ 확산, 홈파티 ‘잇츠온’ 간편식 직접 체험해보니</td>\n",
              "      <td>요리하는 재미 ‘쏠쏠~~’ 맛도 ‘일품’ 분위기는 ‘덤’\\n\\n\\n\\n거리를 가득 ...</td>\n",
              "    </tr>\n",
              "    <tr>\n",
              "      <th>1</th>\n",
              "      <td>1</td>\n",
              "      <td>2017-12-27</td>\n",
              "      <td>식물성·간편식·슈퍼곡물에 빠졌던 2017년</td>\n",
              "      <td>식품을 낭비없이 먹는 ‘제로 웨이스트’…SNS발달로 이국적 맛 ‘에스닉 푸드’ 등 ...</td>\n",
              "    </tr>\n",
              "    <tr>\n",
              "      <th>2</th>\n",
              "      <td>2</td>\n",
              "      <td>2017-12-27</td>\n",
              "      <td>올해만 10여개 브랜드 출시, 가정간편식 '춘추전국시대'</td>\n",
              "      <td>야구르트 아줌마가 배달하는 간편식,백화점의 프리미엄 간편식, 편의점에서 간단히 만나...</td>\n",
              "    </tr>\n",
              "    <tr>\n",
              "      <th>3</th>\n",
              "      <td>3</td>\n",
              "      <td>2017-12-26</td>\n",
              "      <td>유통업계 '밀 솔루션' 경쟁 본격화</td>\n",
              "      <td>유통업계가 소비자 라이프스타일 변화에 발맞춰 간편한 한끼 식사가 가능한 제품과 서비...</td>\n",
              "    </tr>\n",
              "    <tr>\n",
              "      <th>4</th>\n",
              "      <td>4</td>\n",
              "      <td>2017-12-19</td>\n",
              "      <td>해먹남녀, GS리테일 ‘심플리쿡’ 판매 진행 “칼질 없이 일품요리 즐겨”</td>\n",
              "      <td>푸드 콘텐츠 커머스 플랫폼 ‘해먹남녀’를 운영하는 바이탈힌트 코리아(대표 정지웅)는...</td>\n",
              "    </tr>\n",
              "  </tbody>\n",
              "</table>\n",
              "</div>"
            ],
            "text/plain": [
              "   Unnamed: 0  ...                                            Content\n",
              "0           0  ...  요리하는 재미 ‘쏠쏠~~’ 맛도 ‘일품’ 분위기는 ‘덤’\\n\\n\\n\\n거리를 가득 ...\n",
              "1           1  ...  식품을 낭비없이 먹는 ‘제로 웨이스트’…SNS발달로 이국적 맛 ‘에스닉 푸드’ 등 ...\n",
              "2           2  ...  야구르트 아줌마가 배달하는 간편식,백화점의 프리미엄 간편식, 편의점에서 간단히 만나...\n",
              "3           3  ...  유통업계가 소비자 라이프스타일 변화에 발맞춰 간편한 한끼 식사가 가능한 제품과 서비...\n",
              "4           4  ...  푸드 콘텐츠 커머스 플랫폼 ‘해먹남녀’를 운영하는 바이탈힌트 코리아(대표 정지웅)는...\n",
              "\n",
              "[5 rows x 4 columns]"
            ]
          },
          "metadata": {},
          "execution_count": 5
        }
      ]
    },
    {
      "cell_type": "code",
      "metadata": {
        "colab": {
          "base_uri": "https://localhost:8080/"
        },
        "id": "cpSvCFNF3Ovh",
        "outputId": "826cbe54-10ad-4641-a3aa-80b0f8136c53"
      },
      "source": [
        "#본문 리스트 만들기\n",
        "word_list=[]\n",
        "word_list=df['Content']\n",
        "word_list=word_list.reset_index(drop=True)\n",
        "word_list"
      ],
      "execution_count": null,
      "outputs": [
        {
          "output_type": "execute_result",
          "data": {
            "text/plain": [
              "0       요리하는 재미 ‘쏠쏠~~’ 맛도 ‘일품’ 분위기는 ‘덤’\\n\\n\\n\\n거리를 가득 ...\n",
              "1       식품을 낭비없이 먹는 ‘제로 웨이스트’…SNS발달로 이국적 맛 ‘에스닉 푸드’ 등 ...\n",
              "2       야구르트 아줌마가 배달하는 간편식,백화점의 프리미엄 간편식, 편의점에서 간단히 만나...\n",
              "3       유통업계가 소비자 라이프스타일 변화에 발맞춰 간편한 한끼 식사가 가능한 제품과 서비...\n",
              "4       푸드 콘텐츠 커머스 플랫폼 ‘해먹남녀’를 운영하는 바이탈힌트 코리아(대표 정지웅)는...\n",
              "                              ...                        \n",
              "5625    △편의점 GS25가 8월 한 달간 먹거리, 생필품 등을 전국 최저가 수준으로 선보이...\n",
              "5626    [머니투데이 김건우 기자]\\n코로나19(COVID-19) 재확산에 따른 사회적 거리...\n",
              "5627    'AI, 빅데이터, 클라우드로 사회 기여하자'는 인식코로나19 사태로 어려움 겪는 ...\n",
              "5628    [머니투데이 세종=안재용 기자]\\n━\\n◆국무총리실\\n━\\n\\n\\n2일(월)\\n*김...\n",
              "5629    [헤럴드경제=오연주 기자] 사회적 거리두기 장기화로 집밥 수요가 꾸준히 늘어나면서 ...\n",
              "Name: Content, Length: 5630, dtype: object"
            ]
          },
          "metadata": {},
          "execution_count": 6
        }
      ]
    },
    {
      "cell_type": "code",
      "metadata": {
        "id": "K5n5SOGubv2W"
      },
      "source": [
        "#기사중복 삭제\n",
        "df_drop=df.drop_duplicates(['Date','Title','Content'], keep='first')"
      ],
      "execution_count": null,
      "outputs": []
    },
    {
      "cell_type": "code",
      "metadata": {
        "id": "mn4jO6LwTgnl"
      },
      "source": [
        "#index reset\n",
        "df=df_drop.reset_index(drop=True)"
      ],
      "execution_count": null,
      "outputs": []
    },
    {
      "cell_type": "code",
      "metadata": {
        "id": "H-6NRQTxT9cn"
      },
      "source": [
        "#행,열 최대로 보기\n",
        "pd.set_option('display.max_row', None)\n",
        "pd.set_option('display.max_columns', None)"
      ],
      "execution_count": null,
      "outputs": []
    },
    {
      "cell_type": "code",
      "metadata": {
        "colab": {
          "base_uri": "https://localhost:8080/"
        },
        "id": "EuFYhC4Z_T7V",
        "outputId": "270cb9b9-1737-4c32-d9de-c8b7e9e1bcf5"
      },
      "source": [
        "df.head()\n",
        "len(df)"
      ],
      "execution_count": null,
      "outputs": [
        {
          "output_type": "execute_result",
          "data": {
            "text/plain": [
              "5507"
            ]
          },
          "metadata": {},
          "execution_count": 10
        }
      ]
    },
    {
      "cell_type": "code",
      "metadata": {
        "colab": {
          "base_uri": "https://localhost:8080/"
        },
        "id": "fvyusQST_Xni",
        "outputId": "9dac5a29-97b7-4b75-d6a0-6a51838833df"
      },
      "source": [
        "#기사 본문만 가져오기\n",
        "content=df[\"Content\"]\n",
        "content.head()"
      ],
      "execution_count": null,
      "outputs": [
        {
          "output_type": "execute_result",
          "data": {
            "text/plain": [
              "0    요리하는 재미 ‘쏠쏠~~’ 맛도 ‘일품’ 분위기는 ‘덤’\\n\\n\\n\\n거리를 가득 ...\n",
              "1    식품을 낭비없이 먹는 ‘제로 웨이스트’…SNS발달로 이국적 맛 ‘에스닉 푸드’ 등 ...\n",
              "2    야구르트 아줌마가 배달하는 간편식,백화점의 프리미엄 간편식, 편의점에서 간단히 만나...\n",
              "3    유통업계가 소비자 라이프스타일 변화에 발맞춰 간편한 한끼 식사가 가능한 제품과 서비...\n",
              "4    푸드 콘텐츠 커머스 플랫폼 ‘해먹남녀’를 운영하는 바이탈힌트 코리아(대표 정지웅)는...\n",
              "Name: Content, dtype: object"
            ]
          },
          "metadata": {},
          "execution_count": 11
        }
      ]
    },
    {
      "cell_type": "code",
      "metadata": {
        "id": "IJs3SCmt_bD_"
      },
      "source": [
        "#None값 제거\n",
        "drop_row = content.dropna(axis=0)\n",
        "df=pd.DataFrame([drop_row])\n",
        "df= df.transpose()"
      ],
      "execution_count": null,
      "outputs": []
    },
    {
      "cell_type": "code",
      "metadata": {
        "colab": {
          "base_uri": "https://localhost:8080/"
        },
        "id": "8yxW9MWMQJjY",
        "outputId": "79271654-de84-4859-c404-ce96f29dbf75"
      },
      "source": [
        "len(df)"
      ],
      "execution_count": null,
      "outputs": [
        {
          "output_type": "execute_result",
          "data": {
            "text/plain": [
              "5506"
            ]
          },
          "metadata": {},
          "execution_count": 13
        }
      ]
    },
    {
      "cell_type": "markdown",
      "metadata": {
        "id": "Y5QBYyFr_eNf"
      },
      "source": [
        "# **2-1 kkma 사용자 사전 추가**"
      ]
    },
    {
      "cell_type": "code",
      "metadata": {
        "id": "_Zvc4iml8ii4"
      },
      "source": [
        "#사전에 단어 추가\n",
        "twitter.add_dictionary('밀키트', 'Noun')\n",
        "twitter.add_dictionary('코로나19', 'Noun')\n",
        "twitter.add_dictionary('간편식', 'Noun')\n",
        "twitter.add_dictionary('프레시지', 'Noun')\n",
        "twitter.add_dictionary('식재료', 'Noun')\n",
        "twitter.add_dictionary('GS리테일', 'Noun')\n",
        "twitter.add_dictionary('한국야쿠르트', 'Noun')\n",
        "twitter.add_dictionary('소상공인', 'Noun')\n",
        "twitter.add_dictionary('심플리쿡', 'Noun')\n",
        "twitter.add_dictionary('피코크', 'Noun')\n",
        "twitter.add_dictionary('집밥', 'Noun')\n",
        "twitter.add_dictionary('CJ제일제당', 'Noun')\n",
        "twitter.add_dictionary('잇츠온', 'Noun')\n",
        "twitter.add_dictionary('CJ', 'Noun')\n",
        "twitter.add_dictionary('GS25', 'Noun')\n",
        "twitter.add_dictionary('론칭', 'Noun')\n",
        "twitter.add_dictionary('SSG닷컴', 'Noun')\n",
        "twitter.add_dictionary('쿡킷', 'Noun')\n",
        "twitter.add_dictionary('현대백화점', 'Noun')\n",
        "twitter.add_dictionary('지속적', 'Noun')\n",
        "twitter.add_dictionary('리테일', 'Noun')\n",
        "twitter.add_dictionary('KT', 'Noun')\n",
        "twitter.add_dictionary('1인', 'Noun')\n",
        "twitter.add_dictionary('새벽배송', 'Noun')\n",
        "twitter.add_dictionary('마켓컬리', 'Noun')\n",
        "twitter.add_dictionary('SNS', 'Noun')\n",
        "twitter.add_dictionary('신선식품', 'Noun')\n",
        "twitter.add_dictionary('롯데백화점', 'Noun')\n",
        "twitter.add_dictionary('대표적', 'Noun')\n",
        "twitter.add_dictionary('편스토랑', 'Noun')\n",
        "twitter.add_dictionary('온라인몰', 'Noun')\n",
        "twitter.add_dictionary('기획전', 'Noun')\n",
        "twitter.add_dictionary('언택트', 'Noun')\n",
        "twitter.add_dictionary('마이셰프', 'Noun')\n",
        "twitter.add_dictionary('집콕', 'Noun')\n",
        "twitter.add_dictionary('본격적', 'Noun')\n",
        "twitter.add_dictionary('현대그린푸드', 'Noun')\n",
        "twitter.add_dictionary('시그니처', 'Noun')\n",
        "twitter.add_dictionary('PB', 'Noun')\n",
        "twitter.add_dictionary('11번가', 'Noun')\n",
        "twitter.add_dictionary('RMR', 'Noun')\n",
        "twitter.add_dictionary('식품업계', 'Noun')\n",
        "twitter.add_dictionary('아이들', 'Noun')\n",
        "twitter.add_dictionary('LG', 'Noun')"
      ],
      "execution_count": null,
      "outputs": []
    },
    {
      "cell_type": "code",
      "metadata": {
        "id": "4tnnB2U1Z0Ap",
        "colab": {
          "base_uri": "https://localhost:8080/"
        },
        "outputId": "c8026625-18a1-4bcd-fb8f-97dce29ed447"
      },
      "source": [
        "#단어 교체(밀 키트 -> 밀키트)\n",
        "content=df['Content'].map(lambda x: str(x).replace('밀 키트','밀키트'))\n",
        "len(content)"
      ],
      "execution_count": null,
      "outputs": [
        {
          "output_type": "execute_result",
          "data": {
            "text/plain": [
              "5506"
            ]
          },
          "metadata": {},
          "execution_count": 15
        }
      ]
    },
    {
      "cell_type": "markdown",
      "metadata": {
        "id": "cvdNsvNyhrbf"
      },
      "source": [
        "# **2-2 형태소 분석(명사 추출)**"
      ]
    },
    {
      "cell_type": "code",
      "metadata": {
        "id": "mIEx_ZhUhdeH"
      },
      "source": [
        "from konlpy.tag import Kkma\n",
        "from konlpy.utils import pprint\n",
        "from tqdm import tqdm\n",
        "kkma = Kkma()"
      ],
      "execution_count": null,
      "outputs": []
    },
    {
      "cell_type": "code",
      "metadata": {
        "colab": {
          "base_uri": "https://localhost:8080/"
        },
        "id": "-IJT50g6jumy",
        "outputId": "32fb40b8-6c5a-4ed5-eba1-302aca88bdf0"
      },
      "source": [
        "nouns = [] \n",
        "for x in tqdm(content):\n",
        "    try:\n",
        "        nouns.append(kkma.nouns(x))\n",
        "    except:\n",
        "        nouns.append([\"None\"])"
      ],
      "execution_count": null,
      "outputs": [
        {
          "output_type": "stream",
          "name": "stderr",
          "text": [
            "100%|██████████| 5506/5506 [1:13:10<00:00,  1.25it/s]\n"
          ]
        }
      ]
    },
    {
      "cell_type": "code",
      "metadata": {
        "id": "eVOQb1MMkS4y"
      },
      "source": [
        "#명사 추출 결과값 열에 추가\n",
        "konlpy_df= df.copy()\n",
        "konlpy_df[\"ContentNoun\"] = nouns"
      ],
      "execution_count": null,
      "outputs": []
    },
    {
      "cell_type": "code",
      "metadata": {
        "id": "xUmeSYKalc36"
      },
      "source": [
        "#json 파일로 저장\n",
        "konlpy_df.to_json(\"mealkit_전처리.json\",orient=\"table\")"
      ],
      "execution_count": null,
      "outputs": []
    },
    {
      "cell_type": "code",
      "metadata": {
        "id": "z68uqk9XAAzM"
      },
      "source": [
        "from sklearn.feature_extraction.text import TfidfVectorizer\n",
        "from collections import defaultdict\n",
        "import pandas as pd\n",
        "from sklearn.decomposition import LatentDirichletAllocation\n",
        "import pickle\n",
        "import re"
      ],
      "execution_count": null,
      "outputs": []
    },
    {
      "cell_type": "code",
      "metadata": {
        "id": "QkWuEq2TGRdI"
      },
      "source": [
        "corpus = pd.read_json(\"mealkit_전처리.json\",orient=\"table\")"
      ],
      "execution_count": null,
      "outputs": []
    },
    {
      "cell_type": "markdown",
      "metadata": {
        "id": "vtRFGzvellDi"
      },
      "source": [
        "# **2-3 정규화**"
      ]
    },
    {
      "cell_type": "code",
      "metadata": {
        "id": "LAmC_2_IlqpR"
      },
      "source": [
        "#단어 교체(11번 -> 11번가)\n",
        "def change(text):\n",
        "    text=','.join(text)\n",
        "    text_list=text.split(',')\n",
        "    result=[]\n",
        "    for c in text_list:\n",
        "        if c=='11번':\n",
        "            c=c.replace('11번','11번가')\n",
        "        if c=='인공지능':\n",
        "            c=c.replace('인공지능','AI')\n",
        "        result.append(c)\n",
        "    result=','.join(result)\n",
        "    return result"
      ],
      "execution_count": null,
      "outputs": []
    },
    {
      "cell_type": "code",
      "metadata": {
        "id": "YqZV7HDGlsxM"
      },
      "source": [
        "corpus['ContentNoun']=corpus['ContentNoun'].map(lambda x: change(x))"
      ],
      "execution_count": null,
      "outputs": []
    },
    {
      "cell_type": "markdown",
      "metadata": {
        "id": "uNy-gUDqALXd"
      },
      "source": [
        "# **2-4 한글자 제거**"
      ]
    },
    {
      "cell_type": "code",
      "metadata": {
        "id": "Hgp7-gmwANPU"
      },
      "source": [
        "def remove(text):\n",
        "    text_list=text.split(',')\n",
        "    result=[]\n",
        "    for n in text_list:\n",
        "        if len(n)>1:\n",
        "            result.append(n)\n",
        "    result=','.join(result)\n",
        "    return result\n",
        "\n",
        "corpus['ContentNoun']=corpus['ContentNoun'].map(lambda x: remove(x))"
      ],
      "execution_count": null,
      "outputs": []
    },
    {
      "cell_type": "markdown",
      "metadata": {
        "id": "T-rFJTJfiMmB"
      },
      "source": [
        "# **2-5 불용어 처리**"
      ]
    },
    {
      "cell_type": "markdown",
      "metadata": {
        "id": "xToNRlpWAQpr"
      },
      "source": [
        "## 불용어 제거\n",
        "- 사이트 이용\n",
        "    - [사이트1](https://bab2min.tistory.com/544)\n",
        "    - [사이트2](https://www.ranks.nl/stopwords/korean)\n",
        "- 직접 제거\n",
        "    - ./삭제 단어.xlsx"
      ]
    },
    {
      "cell_type": "code",
      "metadata": {
        "id": "xIlP0UuNVL8S",
        "colab": {
          "base_uri": "https://localhost:8080/"
        },
        "outputId": "97b9f22b-551c-449f-be7f-99a1b7e7dc90"
      },
      "source": [
        "#직접 제거\n",
        "stopword1 = pd.read_csv(\"./불용어 처리.txt\",header=None,sep=\"\\t\")\n",
        "stopword1 = list(stopword1[0])\n",
        "len(stopword1)"
      ],
      "execution_count": null,
      "outputs": [
        {
          "output_type": "execute_result",
          "data": {
            "text/plain": [
              "139"
            ]
          },
          "metadata": {},
          "execution_count": 45
        }
      ]
    },
    {
      "cell_type": "code",
      "metadata": {
        "id": "bqGGRKv5fPVH",
        "colab": {
          "base_uri": "https://localhost:8080/"
        },
        "outputId": "b68e42da-6c01-4aef-beb1-f16d2d0bba8b"
      },
      "source": [
        "stopword2 = pd.read_csv(\"한국어불용어100.txt\",header=None,sep=\"\\t\")\n",
        "stopword2 = list(stopword2[0])\n",
        "len(stopword2)"
      ],
      "execution_count": null,
      "outputs": [
        {
          "output_type": "execute_result",
          "data": {
            "text/plain": [
              "100"
            ]
          },
          "metadata": {},
          "execution_count": 46
        }
      ]
    },
    {
      "cell_type": "code",
      "metadata": {
        "id": "HCGfS2STfYtp",
        "colab": {
          "base_uri": "https://localhost:8080/"
        },
        "outputId": "1569fd4e-3f87-46d1-8b10-9eaa12e8a313"
      },
      "source": [
        "stopword3 = pd.read_csv(\"한국어불용어100_2.txt\",header=None)\n",
        "stopword3 = list(stopword3[0])\n",
        "len(stopword3)"
      ],
      "execution_count": null,
      "outputs": [
        {
          "output_type": "execute_result",
          "data": {
            "text/plain": [
              "675"
            ]
          },
          "metadata": {},
          "execution_count": 47
        }
      ]
    },
    {
      "cell_type": "code",
      "metadata": {
        "id": "fd3qlPeJVPA-",
        "colab": {
          "base_uri": "https://localhost:8080/"
        },
        "outputId": "31310afd-169a-4ec4-976b-974a390e0886"
      },
      "source": [
        "stopword = list(set(stopword1 + stopword2 + stopword3))\n",
        "print(\"불용어 개수 :\",len(stopword))"
      ],
      "execution_count": null,
      "outputs": [
        {
          "output_type": "stream",
          "name": "stdout",
          "text": [
            "불용어 개수 : 803\n"
          ]
        }
      ]
    },
    {
      "cell_type": "code",
      "metadata": {
        "id": "kywqVy3FVb7h"
      },
      "source": [
        "noun=corpus['ContentNoun']"
      ],
      "execution_count": null,
      "outputs": []
    },
    {
      "cell_type": "code",
      "metadata": {
        "id": "v6LGOGBbfjUI",
        "colab": {
          "base_uri": "https://localhost:8080/"
        },
        "outputId": "df675749-b24d-4255-edea-456a66cf6513"
      },
      "source": [
        "noun = [x for x in noun if x not in stopword]\n",
        "print(noun[:1])"
      ],
      "execution_count": null,
      "outputs": [
        {
          "output_type": "stream",
          "name": "stdout",
          "text": [
            "['요리,재미,일품,분위기,거리,인파,1시간,시간,기본,식당,카페,대기,대기시간,고가,크리스마스,특별,특별메뉴,메뉴,주문,가능,방침,등등,연말,모임,부담,생각,가성,가성비,추구,소비자,실속,의미,홈파티족,파티,확산,유통,유통업계,업계,최근,식품,매출,견인,가정,가정간편식,편식,홈파티,제품,그중,한국,한국야쿠르트,야쿠르트,잇츠온,간편,건강,재료,밀키트,키트,중심,다양,비밀,선물,포함,럭키,럭키박스,박스,출시,반응,일반적,레토르트,마감,매일,냉장,냉장상태,상태,배송,때문,풍미,장점,2차,조리,제대,기분,기자,이번,크리스마스이브,이브,친구,결정,체험,21,21일,오전,하이,하이프레시,다운로드,다운로드해,프라임,프라임스테이크,스테이크,쉬림프크림파스타,림프,크림,파스타,4만1900원,1900,감바스,바스,히요,1만6800원,6800,이틀,후인,23,23일,저녁,시간대,날짜,지정,단위,희망,선택,쿠르트,아줌마,배달,배달비,무료,빨간색,랜덤,3가지,가지,이상,커트,커트러리,크림치즈,치즈,브랜드,하루,하루야채,야채,마스크,마스크팩,콜드브,드브,커피,구미,젤리,풍족,우리,위장,평가,기준,3명,3개,무리,림프크림파스타,제외,고기,스파,거스,송이,송이버섯,버섯,토마토,양파,웨지,웨지감자,감자,크기,손질,해당,등급,척아이롤,아이,생고기,품질,마블링,군침,동봉,종이,스마트,스마트폰,정보,15,15분간,분간,4번,과정,완성,사진,의문,먼저,키친,키친타월,타월,핏물,제거,허브,허브솔트,솔트,오일,마리,이드,동안,10,10분,숙성,나머지,레시피상,피상,재고,램지에,지에,지금,큰소리,재촉,강불,앞뒤,1분,약불,3번,5분간,미디엄,의도,인덕션,화력,2분,정도,레시피,새우,브로콜리,베트남,베트남고추,고추,마늘,로즈,로즈메리,메리,모든,정량,음식물,쓰레기,접시,향초,와인,캐럴,레스토랑,만큼,마지막,버터,두께,식감도,감도,시들,조화,히요의,요의,사이즈,사이즈여,올리브,올리브오일,김동주,동주,마케팅,이사,1인,가구,증가,필요,만큼,식재료,인기,잇츠온,방식,신선도,유지,설명,7월,전국,판매,시작,올해,목표,60,60억,11,11월,누적,77,77억,돌파,10월,45,45억,12,12월,전망,건수,72,72만,방문자,530,530만,기록,현재,판매품목,품목,80,80여,2018,2018년,다양화,예정,유현']\n"
          ]
        }
      ]
    },
    {
      "cell_type": "markdown",
      "metadata": {
        "id": "Pa3vMkr6vP5l"
      },
      "source": [
        "# **2-6 전처리 결과값**"
      ]
    },
    {
      "cell_type": "code",
      "metadata": {
        "id": "Evy5CF1dfljC"
      },
      "source": [
        "file=pd.DataFrame(noun, columns=['키워드'])\n",
        "file.to_csv(\"단어(전처리 후).csv\",encoding=\"utf-8-sig\")"
      ],
      "execution_count": null,
      "outputs": []
    },
    {
      "cell_type": "code",
      "metadata": {
        "id": "WlgTxtX1gWIK",
        "colab": {
          "base_uri": "https://localhost:8080/",
          "height": 204
        },
        "outputId": "8bb45508-8846-4165-c4a1-f0dc1cfa674d"
      },
      "source": [
        "file.head()"
      ],
      "execution_count": null,
      "outputs": [
        {
          "output_type": "execute_result",
          "data": {
            "text/html": [
              "<div>\n",
              "<style scoped>\n",
              "    .dataframe tbody tr th:only-of-type {\n",
              "        vertical-align: middle;\n",
              "    }\n",
              "\n",
              "    .dataframe tbody tr th {\n",
              "        vertical-align: top;\n",
              "    }\n",
              "\n",
              "    .dataframe thead th {\n",
              "        text-align: right;\n",
              "    }\n",
              "</style>\n",
              "<table border=\"1\" class=\"dataframe\">\n",
              "  <thead>\n",
              "    <tr style=\"text-align: right;\">\n",
              "      <th></th>\n",
              "      <th>키워드</th>\n",
              "    </tr>\n",
              "  </thead>\n",
              "  <tbody>\n",
              "    <tr>\n",
              "      <th>0</th>\n",
              "      <td>요리,재미,일품,분위기,거리,인파,1시간,시간,기본,식당,카페,대기,대기시간,고가,...</td>\n",
              "    </tr>\n",
              "    <tr>\n",
              "      <th>1</th>\n",
              "      <td>식품,낭비,제로,웨이스트,발달,이국적,에스,에스닉,푸드,트렌드,9가지,가지,건강,중...</td>\n",
              "    </tr>\n",
              "    <tr>\n",
              "      <th>2</th>\n",
              "      <td>야구르트,아줌마,배달,간편,간편식,백화점,프리미엄,편식,편의점,춘추,전국,시대,올해...</td>\n",
              "    </tr>\n",
              "    <tr>\n",
              "      <th>3</th>\n",
              "      <td>유통,유통업계,업계,소비자,라이프,라이프스타일,스타일,변화,식사,가능,제품,서비스,...</td>\n",
              "    </tr>\n",
              "    <tr>\n",
              "      <th>4</th>\n",
              "      <td>푸드,콘텐츠,머스,플랫폼,해먹,해먹남녀,남녀,운영,바이탈,바이탈힌트,힌트,코리아,대...</td>\n",
              "    </tr>\n",
              "  </tbody>\n",
              "</table>\n",
              "</div>"
            ],
            "text/plain": [
              "                                                 키워드\n",
              "0  요리,재미,일품,분위기,거리,인파,1시간,시간,기본,식당,카페,대기,대기시간,고가,...\n",
              "1  식품,낭비,제로,웨이스트,발달,이국적,에스,에스닉,푸드,트렌드,9가지,가지,건강,중...\n",
              "2  야구르트,아줌마,배달,간편,간편식,백화점,프리미엄,편식,편의점,춘추,전국,시대,올해...\n",
              "3  유통,유통업계,업계,소비자,라이프,라이프스타일,스타일,변화,식사,가능,제품,서비스,...\n",
              "4  푸드,콘텐츠,머스,플랫폼,해먹,해먹남녀,남녀,운영,바이탈,바이탈힌트,힌트,코리아,대..."
            ]
          },
          "metadata": {},
          "execution_count": 52
        }
      ]
    },
    {
      "cell_type": "markdown",
      "metadata": {
        "id": "K4YxkYV6vP5m"
      },
      "source": [
        "### **※ 전처리 중 bigkinds에서 전처리 키워드를 제공하여, 이후부터는 해당 데이터(밀키트 뉴스데이터.csv)를 사용함**"
      ]
    }
  ]
}