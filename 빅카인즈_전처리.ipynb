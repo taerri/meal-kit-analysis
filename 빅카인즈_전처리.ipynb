{
  "nbformat": 4,
  "nbformat_minor": 0,
  "metadata": {
    "colab": {
      "name": "빅카인즈_전처리ipynb",
      "provenance": [],
      "collapsed_sections": [],
      "authorship_tag": "ABX9TyORp/5fs8c3ZNJp4iJM8gGA",
      "include_colab_link": true
    },
    "kernelspec": {
      "display_name": "Python 3",
      "name": "python3"
    },
    "language_info": {
      "name": "python"
    }
  },
  "cells": [
    {
      "cell_type": "markdown",
      "metadata": {
        "id": "view-in-github",
        "colab_type": "text"
      },
      "source": [
        "<a href=\"https://colab.research.google.com/github/taerri/meal-kit-analysis/blob/main/%EB%B9%85%EC%B9%B4%EC%9D%B8%EC%A6%88_%EC%A0%84%EC%B2%98%EB%A6%ACipynb.ipynb\" target=\"_parent\"><img src=\"https://colab.research.google.com/assets/colab-badge.svg\" alt=\"Open In Colab\"/></a>"
      ]
    },
    {
      "cell_type": "markdown",
      "metadata": {
        "id": "wMbSDi0Wh3zY"
      },
      "source": [
        "# **준비**"
      ]
    },
    {
      "cell_type": "code",
      "metadata": {
        "colab": {
          "base_uri": "https://localhost:8080/"
        },
        "id": "IRb2ZNlO2AUi",
        "outputId": "bb3d7b82-2318-48a6-bae2-c2371aebe658"
      },
      "source": [
        "pip install konlpy"
      ],
      "execution_count": 1,
      "outputs": [
        {
          "output_type": "stream",
          "text": [
            "Requirement already satisfied: konlpy in /usr/local/lib/python3.7/dist-packages (0.5.2)\n",
            "Requirement already satisfied: numpy>=1.6 in /usr/local/lib/python3.7/dist-packages (from konlpy) (1.19.5)\n",
            "Requirement already satisfied: lxml>=4.1.0 in /usr/local/lib/python3.7/dist-packages (from konlpy) (4.2.6)\n",
            "Requirement already satisfied: tweepy>=3.7.0 in /usr/local/lib/python3.7/dist-packages (from konlpy) (3.10.0)\n",
            "Requirement already satisfied: colorama in /usr/local/lib/python3.7/dist-packages (from konlpy) (0.4.4)\n",
            "Requirement already satisfied: JPype1>=0.7.0 in /usr/local/lib/python3.7/dist-packages (from konlpy) (1.3.0)\n",
            "Requirement already satisfied: beautifulsoup4==4.6.0 in /usr/local/lib/python3.7/dist-packages (from konlpy) (4.6.0)\n",
            "Requirement already satisfied: typing-extensions in /usr/local/lib/python3.7/dist-packages (from JPype1>=0.7.0->konlpy) (3.7.4.3)\n",
            "Requirement already satisfied: requests[socks]>=2.11.1 in /usr/local/lib/python3.7/dist-packages (from tweepy>=3.7.0->konlpy) (2.23.0)\n",
            "Requirement already satisfied: requests-oauthlib>=0.7.0 in /usr/local/lib/python3.7/dist-packages (from tweepy>=3.7.0->konlpy) (1.3.0)\n",
            "Requirement already satisfied: six>=1.10.0 in /usr/local/lib/python3.7/dist-packages (from tweepy>=3.7.0->konlpy) (1.15.0)\n",
            "Requirement already satisfied: oauthlib>=3.0.0 in /usr/local/lib/python3.7/dist-packages (from requests-oauthlib>=0.7.0->tweepy>=3.7.0->konlpy) (3.1.1)\n",
            "Requirement already satisfied: urllib3!=1.25.0,!=1.25.1,<1.26,>=1.21.1 in /usr/local/lib/python3.7/dist-packages (from requests[socks]>=2.11.1->tweepy>=3.7.0->konlpy) (1.24.3)\n",
            "Requirement already satisfied: chardet<4,>=3.0.2 in /usr/local/lib/python3.7/dist-packages (from requests[socks]>=2.11.1->tweepy>=3.7.0->konlpy) (3.0.4)\n",
            "Requirement already satisfied: certifi>=2017.4.17 in /usr/local/lib/python3.7/dist-packages (from requests[socks]>=2.11.1->tweepy>=3.7.0->konlpy) (2021.5.30)\n",
            "Requirement already satisfied: idna<3,>=2.5 in /usr/local/lib/python3.7/dist-packages (from requests[socks]>=2.11.1->tweepy>=3.7.0->konlpy) (2.10)\n",
            "Requirement already satisfied: PySocks!=1.5.7,>=1.5.6 in /usr/local/lib/python3.7/dist-packages (from requests[socks]>=2.11.1->tweepy>=3.7.0->konlpy) (1.7.1)\n"
          ],
          "name": "stdout"
        }
      ]
    },
    {
      "cell_type": "code",
      "metadata": {
        "colab": {
          "base_uri": "https://localhost:8080/"
        },
        "id": "_ZqMzZLjgNJ6",
        "outputId": "c34828af-48c7-4125-a1ca-4f88c42ad2fd"
      },
      "source": [
        "pip install Counter"
      ],
      "execution_count": 2,
      "outputs": [
        {
          "output_type": "stream",
          "text": [
            "Requirement already satisfied: Counter in /usr/local/lib/python3.7/dist-packages (1.0.0)\n"
          ],
          "name": "stdout"
        }
      ]
    },
    {
      "cell_type": "code",
      "metadata": {
        "colab": {
          "base_uri": "https://localhost:8080/"
        },
        "id": "CPqVW3yI95Qv",
        "outputId": "21181839-bb2b-4bcb-d0a5-a452bff5415d"
      },
      "source": [
        "pip install customized_konlpy"
      ],
      "execution_count": 3,
      "outputs": [
        {
          "output_type": "stream",
          "text": [
            "Requirement already satisfied: customized_konlpy in /usr/local/lib/python3.7/dist-packages (0.0.64)\n",
            "Requirement already satisfied: konlpy>=0.4.4 in /usr/local/lib/python3.7/dist-packages (from customized_konlpy) (0.5.2)\n",
            "Requirement already satisfied: Jpype1>=0.6.1 in /usr/local/lib/python3.7/dist-packages (from customized_konlpy) (1.3.0)\n",
            "Requirement already satisfied: typing-extensions in /usr/local/lib/python3.7/dist-packages (from Jpype1>=0.6.1->customized_konlpy) (3.7.4.3)\n",
            "Requirement already satisfied: lxml>=4.1.0 in /usr/local/lib/python3.7/dist-packages (from konlpy>=0.4.4->customized_konlpy) (4.2.6)\n",
            "Requirement already satisfied: tweepy>=3.7.0 in /usr/local/lib/python3.7/dist-packages (from konlpy>=0.4.4->customized_konlpy) (3.10.0)\n",
            "Requirement already satisfied: beautifulsoup4==4.6.0 in /usr/local/lib/python3.7/dist-packages (from konlpy>=0.4.4->customized_konlpy) (4.6.0)\n",
            "Requirement already satisfied: colorama in /usr/local/lib/python3.7/dist-packages (from konlpy>=0.4.4->customized_konlpy) (0.4.4)\n",
            "Requirement already satisfied: numpy>=1.6 in /usr/local/lib/python3.7/dist-packages (from konlpy>=0.4.4->customized_konlpy) (1.19.5)\n",
            "Requirement already satisfied: requests[socks]>=2.11.1 in /usr/local/lib/python3.7/dist-packages (from tweepy>=3.7.0->konlpy>=0.4.4->customized_konlpy) (2.23.0)\n",
            "Requirement already satisfied: requests-oauthlib>=0.7.0 in /usr/local/lib/python3.7/dist-packages (from tweepy>=3.7.0->konlpy>=0.4.4->customized_konlpy) (1.3.0)\n",
            "Requirement already satisfied: six>=1.10.0 in /usr/local/lib/python3.7/dist-packages (from tweepy>=3.7.0->konlpy>=0.4.4->customized_konlpy) (1.15.0)\n",
            "Requirement already satisfied: oauthlib>=3.0.0 in /usr/local/lib/python3.7/dist-packages (from requests-oauthlib>=0.7.0->tweepy>=3.7.0->konlpy>=0.4.4->customized_konlpy) (3.1.1)\n",
            "Requirement already satisfied: urllib3!=1.25.0,!=1.25.1,<1.26,>=1.21.1 in /usr/local/lib/python3.7/dist-packages (from requests[socks]>=2.11.1->tweepy>=3.7.0->konlpy>=0.4.4->customized_konlpy) (1.24.3)\n",
            "Requirement already satisfied: certifi>=2017.4.17 in /usr/local/lib/python3.7/dist-packages (from requests[socks]>=2.11.1->tweepy>=3.7.0->konlpy>=0.4.4->customized_konlpy) (2021.5.30)\n",
            "Requirement already satisfied: chardet<4,>=3.0.2 in /usr/local/lib/python3.7/dist-packages (from requests[socks]>=2.11.1->tweepy>=3.7.0->konlpy>=0.4.4->customized_konlpy) (3.0.4)\n",
            "Requirement already satisfied: idna<3,>=2.5 in /usr/local/lib/python3.7/dist-packages (from requests[socks]>=2.11.1->tweepy>=3.7.0->konlpy>=0.4.4->customized_konlpy) (2.10)\n",
            "Requirement already satisfied: PySocks!=1.5.7,>=1.5.6 in /usr/local/lib/python3.7/dist-packages (from requests[socks]>=2.11.1->tweepy>=3.7.0->konlpy>=0.4.4->customized_konlpy) (1.7.1)\n"
          ],
          "name": "stdout"
        }
      ]
    },
    {
      "cell_type": "code",
      "metadata": {
        "id": "jVZEUhRp2OiH"
      },
      "source": [
        "import numpy as np\n",
        "import pandas as pd\n",
        "import matplotlib.pyplot as plt\n",
        "import re\n",
        "\n",
        "from ckonlpy.tag import Twitter\n",
        "from konlpy.tag import Okt\n",
        "from konlpy.tag import Komoran\n",
        "from collections import Counter\n",
        "from wordcloud import WordCloud"
      ],
      "execution_count": 4,
      "outputs": []
    },
    {
      "cell_type": "code",
      "metadata": {
        "colab": {
          "base_uri": "https://localhost:8080/"
        },
        "id": "MfXdil6L2WAz",
        "outputId": "d5335186-49fd-4b37-ce72-e9b8fd6ed8da"
      },
      "source": [
        "twitter=Twitter()"
      ],
      "execution_count": 5,
      "outputs": [
        {
          "output_type": "stream",
          "text": [
            "/usr/local/lib/python3.7/dist-packages/konlpy/tag/_okt.py:16: UserWarning: \"Twitter\" has changed to \"Okt\" since KoNLPy v0.4.5.\n",
            "  warn('\"Twitter\" has changed to \"Okt\" since KoNLPy v0.4.5.')\n"
          ],
          "name": "stderr"
        }
      ]
    },
    {
      "cell_type": "markdown",
      "metadata": {
        "id": "Th15JNbBh8dR"
      },
      "source": [
        "# **하나의 데이터로 만들기**"
      ]
    },
    {
      "cell_type": "code",
      "metadata": {
        "id": "IwCfKkwk2Xxv"
      },
      "source": [
        "df1=pd.read_csv(\"밀키트_20170101_20171231.csv\")\n",
        "df2=pd.read_csv(\"밀키트_20180101_20180701.csv\")\n",
        "df3=pd.read_csv(\"밀키트_20180701_20180715.csv\")\n",
        "df4=pd.read_csv(\"밀키트_20180715_20181231.csv\")\n",
        "df5=pd.read_csv(\"밀키트_20181231_20190101.csv\")\n",
        "df6=pd.read_csv(\"밀키트_20190101_20190301.csv\")\n",
        "df7=pd.read_csv(\"밀키트_20190301_20190601.csv\")\n",
        "df8=pd.read_csv(\"밀키트_20190601_20190901.csv\")\n",
        "df9=pd.read_csv(\"밀키트_20190901_20200101.csv\")\n",
        "df10=pd.read_csv(\"밀키트_20200101_20200401.csv\")\n",
        "df11=pd.read_csv(\"밀키트_20200401_20200501.csv\")\n",
        "df12=pd.read_csv(\"밀키트_20200501_20200701.csv\")\n",
        "df13=pd.read_csv(\"밀키트_20200701_20200801.csv\")\n",
        "df14=pd.read_csv(\"밀키트_20200801_20200901.csv\")\n",
        "df15=pd.read_csv(\"밀키트_20200901_20201001.csv\")\n",
        "df16=pd.read_csv(\"밀키트_20201001_20201101.csv\")"
      ],
      "execution_count": 6,
      "outputs": []
    },
    {
      "cell_type": "code",
      "metadata": {
        "id": "cBsEVpRz2Z8I",
        "colab": {
          "base_uri": "https://localhost:8080/",
          "height": 204
        },
        "outputId": "5d740a58-f302-42a3-a5e7-890f0a143c55"
      },
      "source": [
        "#데이터 합치기\n",
        "df=pd.concat((df1,df2,df3,df4,df5),axis=0)\n",
        "df.head()"
      ],
      "execution_count": 7,
      "outputs": [
        {
          "output_type": "execute_result",
          "data": {
            "text/html": [
              "<div>\n",
              "<style scoped>\n",
              "    .dataframe tbody tr th:only-of-type {\n",
              "        vertical-align: middle;\n",
              "    }\n",
              "\n",
              "    .dataframe tbody tr th {\n",
              "        vertical-align: top;\n",
              "    }\n",
              "\n",
              "    .dataframe thead th {\n",
              "        text-align: right;\n",
              "    }\n",
              "</style>\n",
              "<table border=\"1\" class=\"dataframe\">\n",
              "  <thead>\n",
              "    <tr style=\"text-align: right;\">\n",
              "      <th></th>\n",
              "      <th>Date</th>\n",
              "      <th>Title</th>\n",
              "      <th>Content</th>\n",
              "    </tr>\n",
              "  </thead>\n",
              "  <tbody>\n",
              "    <tr>\n",
              "      <th>0</th>\n",
              "      <td>2017-12-27</td>\n",
              "      <td>연말연시 ‘홈파티족’ 확산, 홈파티 ‘잇츠온’ 간편식 직접 체험해보니</td>\n",
              "      <td>요리하는 재미 ‘쏠쏠~~’ 맛도 ‘일품’ 분위기는 ‘덤’\\n\\n\\n\\n거리를 가득 ...</td>\n",
              "    </tr>\n",
              "    <tr>\n",
              "      <th>1</th>\n",
              "      <td>2017-12-27</td>\n",
              "      <td>식물성·간편식·슈퍼곡물에 빠졌던 2017년</td>\n",
              "      <td>식품을 낭비없이 먹는 ‘제로 웨이스트’…SNS발달로 이국적 맛 ‘에스닉 푸드’ 등 ...</td>\n",
              "    </tr>\n",
              "    <tr>\n",
              "      <th>2</th>\n",
              "      <td>2017-12-27</td>\n",
              "      <td>올해만 10여개 브랜드 출시, 가정간편식 '춘추전국시대'</td>\n",
              "      <td>야구르트 아줌마가 배달하는 간편식,백화점의 프리미엄 간편식, 편의점에서 간단히 만나...</td>\n",
              "    </tr>\n",
              "    <tr>\n",
              "      <th>3</th>\n",
              "      <td>2017-12-26</td>\n",
              "      <td>유통업계 '밀 솔루션' 경쟁 본격화</td>\n",
              "      <td>유통업계가 소비자 라이프스타일 변화에 발맞춰 간편한 한끼 식사가 가능한 제품과 서비...</td>\n",
              "    </tr>\n",
              "    <tr>\n",
              "      <th>4</th>\n",
              "      <td>2017-12-19</td>\n",
              "      <td>해먹남녀, GS리테일 ‘심플리쿡’ 판매 진행 “칼질 없이 일품요리 즐겨”</td>\n",
              "      <td>푸드 콘텐츠 커머스 플랫폼 ‘해먹남녀’를 운영하는 바이탈힌트 코리아(대표 정지웅)는...</td>\n",
              "    </tr>\n",
              "  </tbody>\n",
              "</table>\n",
              "</div>"
            ],
            "text/plain": [
              "         Date  ...                                            Content\n",
              "0  2017-12-27  ...  요리하는 재미 ‘쏠쏠~~’ 맛도 ‘일품’ 분위기는 ‘덤’\\n\\n\\n\\n거리를 가득 ...\n",
              "1  2017-12-27  ...  식품을 낭비없이 먹는 ‘제로 웨이스트’…SNS발달로 이국적 맛 ‘에스닉 푸드’ 등 ...\n",
              "2  2017-12-27  ...  야구르트 아줌마가 배달하는 간편식,백화점의 프리미엄 간편식, 편의점에서 간단히 만나...\n",
              "3  2017-12-26  ...  유통업계가 소비자 라이프스타일 변화에 발맞춰 간편한 한끼 식사가 가능한 제품과 서비...\n",
              "4  2017-12-19  ...  푸드 콘텐츠 커머스 플랫폼 ‘해먹남녀’를 운영하는 바이탈힌트 코리아(대표 정지웅)는...\n",
              "\n",
              "[5 rows x 3 columns]"
            ]
          },
          "metadata": {
            "tags": []
          },
          "execution_count": 7
        }
      ]
    },
    {
      "cell_type": "code",
      "metadata": {
        "colab": {
          "base_uri": "https://localhost:8080/"
        },
        "id": "cpSvCFNF3Ovh",
        "outputId": "74855eeb-ef82-48da-d805-be378062af5a"
      },
      "source": [
        "#본문 리스트 만들기\n",
        "word_list=[]\n",
        "word_list=df['Content']\n",
        "word_list=word_list.reset_index(drop=True)\n",
        "word_list"
      ],
      "execution_count": 8,
      "outputs": [
        {
          "output_type": "execute_result",
          "data": {
            "text/plain": [
              "0      요리하는 재미 ‘쏠쏠~~’ 맛도 ‘일품’ 분위기는 ‘덤’\\n\\n\\n\\n거리를 가득 ...\n",
              "1      식품을 낭비없이 먹는 ‘제로 웨이스트’…SNS발달로 이국적 맛 ‘에스닉 푸드’ 등 ...\n",
              "2      야구르트 아줌마가 배달하는 간편식,백화점의 프리미엄 간편식, 편의점에서 간단히 만나...\n",
              "3      유통업계가 소비자 라이프스타일 변화에 발맞춰 간편한 한끼 식사가 가능한 제품과 서비...\n",
              "4      푸드 콘텐츠 커머스 플랫폼 ‘해먹남녀’를 운영하는 바이탈힌트 코리아(대표 정지웅)는...\n",
              "                             ...                        \n",
              "448    현대백화점의 식품 전문 온라인몰인 ‘e슈퍼마켓’은 백화점 업계 최초로 CJ대한통운과...\n",
              "449    미국의 대형 유통업체들이 밀키트(Meal Kits) 시장에 눈독을 들이고 있다. 밀...\n",
              "450    [아시아경제 이선애 기자] 밀레니얼 세대가 성장해 가정을 꾸리기 시작하면서 각 가정...\n",
              "451    [디지털타임스 김아름 기자] 가정간편식(HMR)의 성장세에 외식업계가 고민에 빠졌다...\n",
              "452    ◀ 앵커 ▶\\n\\n경제 소식, 쉽고 재미있게 전해드리는 <경제, 한 눈에 쏙> 시간...\n",
              "Name: Content, Length: 453, dtype: object"
            ]
          },
          "metadata": {
            "tags": []
          },
          "execution_count": 8
        }
      ]
    },
    {
      "cell_type": "code",
      "metadata": {
        "id": "K5n5SOGubv2W"
      },
      "source": [
        "#기사중복 삭제\n",
        "df_drop=df.drop_duplicates(['Date','Title','Content'], keep='first')"
      ],
      "execution_count": 9,
      "outputs": []
    },
    {
      "cell_type": "code",
      "metadata": {
        "colab": {
          "base_uri": "https://localhost:8080/",
          "height": 419
        },
        "id": "jJ7r5S_ib0Gy",
        "outputId": "2b9f7fdb-674f-44aa-eac7-665af406b454"
      },
      "source": [
        "df_drop"
      ],
      "execution_count": 10,
      "outputs": [
        {
          "output_type": "execute_result",
          "data": {
            "text/html": [
              "<div>\n",
              "<style scoped>\n",
              "    .dataframe tbody tr th:only-of-type {\n",
              "        vertical-align: middle;\n",
              "    }\n",
              "\n",
              "    .dataframe tbody tr th {\n",
              "        vertical-align: top;\n",
              "    }\n",
              "\n",
              "    .dataframe thead th {\n",
              "        text-align: right;\n",
              "    }\n",
              "</style>\n",
              "<table border=\"1\" class=\"dataframe\">\n",
              "  <thead>\n",
              "    <tr style=\"text-align: right;\">\n",
              "      <th></th>\n",
              "      <th>Date</th>\n",
              "      <th>Title</th>\n",
              "      <th>Content</th>\n",
              "    </tr>\n",
              "  </thead>\n",
              "  <tbody>\n",
              "    <tr>\n",
              "      <th>0</th>\n",
              "      <td>2017-12-27</td>\n",
              "      <td>연말연시 ‘홈파티족’ 확산, 홈파티 ‘잇츠온’ 간편식 직접 체험해보니</td>\n",
              "      <td>요리하는 재미 ‘쏠쏠~~’ 맛도 ‘일품’ 분위기는 ‘덤’\\n\\n\\n\\n거리를 가득 ...</td>\n",
              "    </tr>\n",
              "    <tr>\n",
              "      <th>1</th>\n",
              "      <td>2017-12-27</td>\n",
              "      <td>식물성·간편식·슈퍼곡물에 빠졌던 2017년</td>\n",
              "      <td>식품을 낭비없이 먹는 ‘제로 웨이스트’…SNS발달로 이국적 맛 ‘에스닉 푸드’ 등 ...</td>\n",
              "    </tr>\n",
              "    <tr>\n",
              "      <th>2</th>\n",
              "      <td>2017-12-27</td>\n",
              "      <td>올해만 10여개 브랜드 출시, 가정간편식 '춘추전국시대'</td>\n",
              "      <td>야구르트 아줌마가 배달하는 간편식,백화점의 프리미엄 간편식, 편의점에서 간단히 만나...</td>\n",
              "    </tr>\n",
              "    <tr>\n",
              "      <th>3</th>\n",
              "      <td>2017-12-26</td>\n",
              "      <td>유통업계 '밀 솔루션' 경쟁 본격화</td>\n",
              "      <td>유통업계가 소비자 라이프스타일 변화에 발맞춰 간편한 한끼 식사가 가능한 제품과 서비...</td>\n",
              "    </tr>\n",
              "    <tr>\n",
              "      <th>4</th>\n",
              "      <td>2017-12-19</td>\n",
              "      <td>해먹남녀, GS리테일 ‘심플리쿡’ 판매 진행 “칼질 없이 일품요리 즐겨”</td>\n",
              "      <td>푸드 콘텐츠 커머스 플랫폼 ‘해먹남녀’를 운영하는 바이탈힌트 코리아(대표 정지웅)는...</td>\n",
              "    </tr>\n",
              "    <tr>\n",
              "      <th>...</th>\n",
              "      <td>...</td>\n",
              "      <td>...</td>\n",
              "      <td>...</td>\n",
              "    </tr>\n",
              "    <tr>\n",
              "      <th>227</th>\n",
              "      <td>2018-07-17 이선애</td>\n",
              "      <td>한국야쿠르트 HMR '잇츠온' 출시 1년만에 345만개 판매</td>\n",
              "      <td>[아시아경제 이선애 기자]한국야쿠르트 가정간편식(HMR) 브랜드 ‘잇츠온’이 출시 ...</td>\n",
              "    </tr>\n",
              "    <tr>\n",
              "      <th>228</th>\n",
              "      <td>2018-07-16 석유선</td>\n",
              "      <td>[위기의 유통업, 大반전 키워드④ 신선식품] 더 빠르고 싱싱하게…‘새벽배송 전쟁’</td>\n",
              "      <td>현대백화점의 식품 전문 온라인몰인 ‘e슈퍼마켓’은 백화점 업계 최초로 CJ대한통운과...</td>\n",
              "    </tr>\n",
              "    <tr>\n",
              "      <th>229</th>\n",
              "      <td>2018-07-16 육성연 기자</td>\n",
              "      <td>[aT와 함께하는 글로벌푸드 리포트] 美 간편식 등 인기…‘밀키트’시장 가파른 성장세</td>\n",
              "      <td>미국의 대형 유통업체들이 밀키트(Meal Kits) 시장에 눈독을 들이고 있다. 밀...</td>\n",
              "    </tr>\n",
              "    <tr>\n",
              "      <th>0</th>\n",
              "      <td>2019-01-01 이선애</td>\n",
              "      <td>2019년 밀레니얼 가족의 식사 풍경…\"틈새끼니족…간편 식사를 잡아라\"</td>\n",
              "      <td>[아시아경제 이선애 기자] 밀레니얼 세대가 성장해 가정을 꾸리기 시작하면서 각 가정...</td>\n",
              "    </tr>\n",
              "    <tr>\n",
              "      <th>1</th>\n",
              "      <td>2019-01-01 김아름</td>\n",
              "      <td>2019년에도 대세는 HMR…벼랑 끝 외식업계 활로는</td>\n",
              "      <td>[디지털타임스 김아름 기자] 가정간편식(HMR)의 성장세에 외식업계가 고민에 빠졌다...</td>\n",
              "    </tr>\n",
              "  </tbody>\n",
              "</table>\n",
              "<p>452 rows × 3 columns</p>\n",
              "</div>"
            ],
            "text/plain": [
              "                  Date  ...                                            Content\n",
              "0           2017-12-27  ...  요리하는 재미 ‘쏠쏠~~’ 맛도 ‘일품’ 분위기는 ‘덤’\\n\\n\\n\\n거리를 가득 ...\n",
              "1           2017-12-27  ...  식품을 낭비없이 먹는 ‘제로 웨이스트’…SNS발달로 이국적 맛 ‘에스닉 푸드’ 등 ...\n",
              "2           2017-12-27  ...  야구르트 아줌마가 배달하는 간편식,백화점의 프리미엄 간편식, 편의점에서 간단히 만나...\n",
              "3           2017-12-26  ...  유통업계가 소비자 라이프스타일 변화에 발맞춰 간편한 한끼 식사가 가능한 제품과 서비...\n",
              "4           2017-12-19  ...  푸드 콘텐츠 커머스 플랫폼 ‘해먹남녀’를 운영하는 바이탈힌트 코리아(대표 정지웅)는...\n",
              "..                 ...  ...                                                ...\n",
              "227     2018-07-17 이선애  ...  [아시아경제 이선애 기자]한국야쿠르트 가정간편식(HMR) 브랜드 ‘잇츠온’이 출시 ...\n",
              "228     2018-07-16 석유선  ...  현대백화점의 식품 전문 온라인몰인 ‘e슈퍼마켓’은 백화점 업계 최초로 CJ대한통운과...\n",
              "229  2018-07-16 육성연 기자  ...  미국의 대형 유통업체들이 밀키트(Meal Kits) 시장에 눈독을 들이고 있다. 밀...\n",
              "0       2019-01-01 이선애  ...  [아시아경제 이선애 기자] 밀레니얼 세대가 성장해 가정을 꾸리기 시작하면서 각 가정...\n",
              "1       2019-01-01 김아름  ...  [디지털타임스 김아름 기자] 가정간편식(HMR)의 성장세에 외식업계가 고민에 빠졌다...\n",
              "\n",
              "[452 rows x 3 columns]"
            ]
          },
          "metadata": {
            "tags": []
          },
          "execution_count": 10
        }
      ]
    },
    {
      "cell_type": "code",
      "metadata": {
        "id": "_Zvc4iml8ii4"
      },
      "source": [
        "#사전에 단어 추가\n",
        "twitter.add_dictionary('밀키트', 'Noun')"
      ],
      "execution_count": 11,
      "outputs": []
    },
    {
      "cell_type": "code",
      "metadata": {
        "id": "4tnnB2U1Z0Ap"
      },
      "source": [
        "#단어 교체\n",
        "df['Content']=df['Content'].map(lambda x: str(x).replace('밀 키트','밀키트'))"
      ],
      "execution_count": 12,
      "outputs": []
    },
    {
      "cell_type": "markdown",
      "metadata": {
        "id": "cvdNsvNyhrbf"
      },
      "source": [
        "# **형태소 분석**"
      ]
    },
    {
      "cell_type": "code",
      "metadata": {
        "id": "mIEx_ZhUhdeH"
      },
      "source": [
        "from konlpy.tag import Kkma\n",
        "from konlpy.utils import pprint\n",
        "from tqdm import tqdm\n",
        "kkma = Kkma()"
      ],
      "execution_count": 13,
      "outputs": []
    },
    {
      "cell_type": "code",
      "metadata": {
        "colab": {
          "base_uri": "https://localhost:8080/"
        },
        "id": "-IJT50g6jumy",
        "outputId": "a69b9d66-d26f-48aa-ff93-af77b46a1928"
      },
      "source": [
        "temp = [] \n",
        "for x in tqdm(df[\"Content\"]):\n",
        "    try:\n",
        "        temp.append(kkma.nouns(x))\n",
        "    except:\n",
        "        temp.append([\"None\"])"
      ],
      "execution_count": 15,
      "outputs": [
        {
          "output_type": "stream",
          "text": [
            "100%|██████████| 453/453 [03:46<00:00,  2.00it/s]\n"
          ],
          "name": "stderr"
        }
      ]
    },
    {
      "cell_type": "code",
      "metadata": {
        "id": "eVOQb1MMkS4y"
      },
      "source": [
        "konlpy_df= df.copy()\n",
        "konlpy_df[\"ContentNoun\"] = temp"
      ],
      "execution_count": 50,
      "outputs": []
    },
    {
      "cell_type": "code",
      "metadata": {
        "id": "xUmeSYKalc36"
      },
      "source": [
        "konlpy_df.to_json(\"./mealkit_형태소분석결과.json\",orient=\"table\")"
      ],
      "execution_count": 71,
      "outputs": []
    },
    {
      "cell_type": "code",
      "metadata": {
        "id": "tSIm5mVv3QQy"
      },
      "source": [
        "#형태소 분리\n",
        "#sentences_tag=[]\n",
        "\n",
        "#for sentence in word_list:\n",
        " #   morph=twitter.nouns(sentence)\n",
        "  #  sentences_tag.append(morph)\n",
        "   # print(morph)"
      ],
      "execution_count": 72,
      "outputs": []
    },
    {
      "cell_type": "markdown",
      "metadata": {
        "id": "vtRFGzvellDi"
      },
      "source": [
        "# **형태소 분석 된 데이터 읽기**"
      ]
    },
    {
      "cell_type": "code",
      "metadata": {
        "id": "u2UZP1Kylo-C"
      },
      "source": [
        "from sklearn.feature_extraction.text import TfidfVectorizer\n",
        "from collections import defaultdict\n",
        "import pandas as pd\n",
        "from sklearn.decomposition import LatentDirichletAllocation\n",
        "import pickle\n",
        "import re"
      ],
      "execution_count": 73,
      "outputs": []
    },
    {
      "cell_type": "code",
      "metadata": {
        "id": "LAmC_2_IlqpR"
      },
      "source": [
        "corpus = pd.read_json(\"./mealkit_형태소분석결과.json\",orient=\"table\")"
      ],
      "execution_count": 74,
      "outputs": []
    },
    {
      "cell_type": "code",
      "metadata": {
        "id": "YqZV7HDGlsxM"
      },
      "source": [
        "tokenized_doc = list(corpus[\"ContentNoun\"])"
      ],
      "execution_count": 75,
      "outputs": []
    },
    {
      "cell_type": "markdown",
      "metadata": {
        "id": "T-rFJTJfiMmB"
      },
      "source": [
        "# **불용어 제거**"
      ]
    },
    {
      "cell_type": "code",
      "metadata": {
        "id": "bqGGRKv5fPVH"
      },
      "source": [
        "stopword1 = pd.read_csv(\"./한국어불용어100.txt\",header=None,sep=\"\\t\")\n",
        "stopword1 = list(stopword1[0])"
      ],
      "execution_count": 76,
      "outputs": []
    },
    {
      "cell_type": "code",
      "metadata": {
        "id": "HCGfS2STfYtp"
      },
      "source": [
        "stopword2 = pd.read_csv(\"./한국어불용어100_2.txt\",header=None)\n",
        "stopword2 = list(stopword2[0])"
      ],
      "execution_count": 77,
      "outputs": []
    },
    {
      "cell_type": "code",
      "metadata": {
        "id": "v6LGOGBbfjUI"
      },
      "source": [
        "# 직접 제거\n",
        "stopword3 = pd.read_excel(\"./삭제 단어.xlsx\")\n",
        "stopword3.columns =[\"단어\",\"불용어여부\"]\n",
        "stopword3 = stopword3[stopword3.불용어여부 == \"x\"]\n",
        "stopword3 = list(stopword3[\"단어\"])"
      ],
      "execution_count": 78,
      "outputs": []
    },
    {
      "cell_type": "code",
      "metadata": {
        "colab": {
          "base_uri": "https://localhost:8080/"
        },
        "id": "Evy5CF1dfljC",
        "outputId": "e73c6a70-f272-445b-8d43-8a152c55fff1"
      },
      "source": [
        "stopword = list(set(stopword1 + stopword2 + stopword3))\n",
        "stopword = [x for x in stopword if not re.compile(\"[0-9]+\").search(str(x))]\n",
        "print(\"불용어 개수 :\",len(stopword))"
      ],
      "execution_count": 79,
      "outputs": [
        {
          "output_type": "stream",
          "text": [
            "불용어 개수 : 664\n"
          ],
          "name": "stdout"
        }
      ]
    },
    {
      "cell_type": "code",
      "metadata": {
        "id": "WlgTxtX1gWIK"
      },
      "source": [
        "tokenized_doc = [[x for x in y if x not in stopword] for y in tokenized_doc]"
      ],
      "execution_count": 80,
      "outputs": []
    },
    {
      "cell_type": "code",
      "metadata": {
        "id": "J_XInrTagfWZ"
      },
      "source": [
        "corpus[\"ContentNoun\"] = tokenized_doc"
      ],
      "execution_count": 81,
      "outputs": []
    },
    {
      "cell_type": "code",
      "metadata": {
        "id": "EedqH9hJp6Ji"
      },
      "source": [
        "corpus.to_json(\"./mealkit_전처리.json\",orient=\"table\")"
      ],
      "execution_count": 82,
      "outputs": []
    },
    {
      "cell_type": "code",
      "metadata": {
        "colab": {
          "base_uri": "https://localhost:8080/"
        },
        "id": "T9N94oNkp7ta",
        "outputId": "12c7469c-b914-479a-f8f6-a10141211a88"
      },
      "source": [
        "corpus[\"ContentNoun\"]"
      ],
      "execution_count": 83,
      "outputs": [
        {
          "output_type": "execute_result",
          "data": {
            "text/plain": [
              "0      [요리, 재미, 맛, 일품, 분위기, 덤, 거리, 인파, 1, 1시간, 기본, 식당...\n",
              "1      [식품, 낭비, 제로, 웨이스트, 발달, 이국적, 맛, 에스, 에스닉, 닉, 푸드,...\n",
              "2      [야구르트, 아줌마, 배달, 간편, 간편식, 식, 백화점, 프리미엄, 간, 편식, ...\n",
              "3      [유통, 유통업계, 업계, 소비자, 라이프, 라이프스타일, 스타일, 변화, 끼, 식...\n",
              "4      [푸드, 콘텐츠, 머스, 플랫폼, 해먹, 해먹남녀, 남녀, 운영, 바이탈, 바이탈힌...\n",
              "                             ...                        \n",
              "448    [현대, 현대백화점, 백화점, 식품, 전문, 온라인, 온라인몰, 몰, 슈퍼마켓, 은...\n",
              "449    [미국, 대형, 유통, 유통업체, 업체, 키트, 시장, 눈독, 밀, 밀키트, 성장세...\n",
              "450    [아시아, 아시아경제, 경제, 선, 선애, 애, 기자, 밀레, 얼, 세대, 성장, ...\n",
              "451    [디지털, 디지털타임스, 타임스, 김, 김아름, 아름, 기자, 가정, 가정간편식, ...\n",
              "452    [앵커, 경제, 소식, 눈, 경제부, 이지선, 기자, 오늘, 2018, 2018년,...\n",
              "Name: ContentNoun, Length: 453, dtype: object"
            ]
          },
          "metadata": {
            "tags": []
          },
          "execution_count": 83
        }
      ]
    },
    {
      "cell_type": "code",
      "metadata": {
        "colab": {
          "base_uri": "https://localhost:8080/",
          "height": 289
        },
        "id": "cFuFGuwDp88Y",
        "outputId": "f3df2055-d430-4780-fdd6-61211c80c0af"
      },
      "source": [
        "corpus.head()"
      ],
      "execution_count": 84,
      "outputs": [
        {
          "output_type": "execute_result",
          "data": {
            "text/html": [
              "<div>\n",
              "<style scoped>\n",
              "    .dataframe tbody tr th:only-of-type {\n",
              "        vertical-align: middle;\n",
              "    }\n",
              "\n",
              "    .dataframe tbody tr th {\n",
              "        vertical-align: top;\n",
              "    }\n",
              "\n",
              "    .dataframe thead th {\n",
              "        text-align: right;\n",
              "    }\n",
              "</style>\n",
              "<table border=\"1\" class=\"dataframe\">\n",
              "  <thead>\n",
              "    <tr style=\"text-align: right;\">\n",
              "      <th></th>\n",
              "      <th>index</th>\n",
              "      <th>Date</th>\n",
              "      <th>Title</th>\n",
              "      <th>Content</th>\n",
              "      <th>ContentNoun</th>\n",
              "    </tr>\n",
              "  </thead>\n",
              "  <tbody>\n",
              "    <tr>\n",
              "      <th>0</th>\n",
              "      <td>0</td>\n",
              "      <td>2017-12-27</td>\n",
              "      <td>연말연시 ‘홈파티족’ 확산, 홈파티 ‘잇츠온’ 간편식 직접 체험해보니</td>\n",
              "      <td>요리하는 재미 ‘쏠쏠~~’ 맛도 ‘일품’ 분위기는 ‘덤’\\n\\n\\n\\n거리를 가득 ...</td>\n",
              "      <td>[요리, 재미, 맛, 일품, 분위기, 덤, 거리, 인파, 1, 1시간, 기본, 식당...</td>\n",
              "    </tr>\n",
              "    <tr>\n",
              "      <th>1</th>\n",
              "      <td>1</td>\n",
              "      <td>2017-12-27</td>\n",
              "      <td>식물성·간편식·슈퍼곡물에 빠졌던 2017년</td>\n",
              "      <td>식품을 낭비없이 먹는 ‘제로 웨이스트’…SNS발달로 이국적 맛 ‘에스닉 푸드’ 등 ...</td>\n",
              "      <td>[식품, 낭비, 제로, 웨이스트, 발달, 이국적, 맛, 에스, 에스닉, 닉, 푸드,...</td>\n",
              "    </tr>\n",
              "    <tr>\n",
              "      <th>2</th>\n",
              "      <td>2</td>\n",
              "      <td>2017-12-27</td>\n",
              "      <td>올해만 10여개 브랜드 출시, 가정간편식 '춘추전국시대'</td>\n",
              "      <td>야구르트 아줌마가 배달하는 간편식,백화점의 프리미엄 간편식, 편의점에서 간단히 만나...</td>\n",
              "      <td>[야구르트, 아줌마, 배달, 간편, 간편식, 식, 백화점, 프리미엄, 간, 편식, ...</td>\n",
              "    </tr>\n",
              "    <tr>\n",
              "      <th>3</th>\n",
              "      <td>3</td>\n",
              "      <td>2017-12-26</td>\n",
              "      <td>유통업계 '밀 솔루션' 경쟁 본격화</td>\n",
              "      <td>유통업계가 소비자 라이프스타일 변화에 발맞춰 간편한 한끼 식사가 가능한 제품과 서비...</td>\n",
              "      <td>[유통, 유통업계, 업계, 소비자, 라이프, 라이프스타일, 스타일, 변화, 끼, 식...</td>\n",
              "    </tr>\n",
              "    <tr>\n",
              "      <th>4</th>\n",
              "      <td>4</td>\n",
              "      <td>2017-12-19</td>\n",
              "      <td>해먹남녀, GS리테일 ‘심플리쿡’ 판매 진행 “칼질 없이 일품요리 즐겨”</td>\n",
              "      <td>푸드 콘텐츠 커머스 플랫폼 ‘해먹남녀’를 운영하는 바이탈힌트 코리아(대표 정지웅)는...</td>\n",
              "      <td>[푸드, 콘텐츠, 머스, 플랫폼, 해먹, 해먹남녀, 남녀, 운영, 바이탈, 바이탈힌...</td>\n",
              "    </tr>\n",
              "  </tbody>\n",
              "</table>\n",
              "</div>"
            ],
            "text/plain": [
              "   index  ...                                        ContentNoun\n",
              "0      0  ...  [요리, 재미, 맛, 일품, 분위기, 덤, 거리, 인파, 1, 1시간, 기본, 식당...\n",
              "1      1  ...  [식품, 낭비, 제로, 웨이스트, 발달, 이국적, 맛, 에스, 에스닉, 닉, 푸드,...\n",
              "2      2  ...  [야구르트, 아줌마, 배달, 간편, 간편식, 식, 백화점, 프리미엄, 간, 편식, ...\n",
              "3      3  ...  [유통, 유통업계, 업계, 소비자, 라이프, 라이프스타일, 스타일, 변화, 끼, 식...\n",
              "4      4  ...  [푸드, 콘텐츠, 머스, 플랫폼, 해먹, 해먹남녀, 남녀, 운영, 바이탈, 바이탈힌...\n",
              "\n",
              "[5 rows x 5 columns]"
            ]
          },
          "metadata": {
            "tags": []
          },
          "execution_count": 84
        }
      ]
    },
    {
      "cell_type": "code",
      "metadata": {
        "id": "nt-1fnrgqzw5"
      },
      "source": [
        ""
      ],
      "execution_count": 70,
      "outputs": []
    },
    {
      "cell_type": "code",
      "metadata": {
        "id": "Gj_mR6XEry5r"
      },
      "source": [
        ""
      ],
      "execution_count": null,
      "outputs": []
    }
  ]
}
