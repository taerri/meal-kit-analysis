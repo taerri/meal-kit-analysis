{
  "nbformat": 4,
  "nbformat_minor": 0,
  "metadata": {
    "colab": {
      "name": "02-2_빅카인즈_전처리 키워드_추가 전처리.ipynb",
      "provenance": [],
      "collapsed_sections": [],
      "include_colab_link": true
    },
    "kernelspec": {
      "display_name": "Python 3",
      "language": "python",
      "name": "python3"
    },
    "language_info": {
      "codemirror_mode": {
        "name": "ipython",
        "version": 3
      },
      "file_extension": ".py",
      "mimetype": "text/x-python",
      "name": "python",
      "nbconvert_exporter": "python",
      "pygments_lexer": "ipython3",
      "version": "3.8.5"
    }
  },
  "cells": [
    {
      "cell_type": "markdown",
      "metadata": {
        "id": "view-in-github",
        "colab_type": "text"
      },
      "source": [
        "<a href=\"https://colab.research.google.com/github/taerri/meal-kit-analysis/blob/main/02_2_%EB%B9%85%EC%B9%B4%EC%9D%B8%EC%A6%88_%EC%A0%84%EC%B2%98%EB%A6%AC_%ED%82%A4%EC%9B%8C%EB%93%9C_%EC%B6%94%EA%B0%80_%EC%A0%84%EC%B2%98%EB%A6%AC.ipynb\" target=\"_parent\"><img src=\"https://colab.research.google.com/assets/colab-badge.svg\" alt=\"Open In Colab\"/></a>"
      ]
    },
    {
      "cell_type": "markdown",
      "metadata": {
        "id": "JYS9P6cTAWCx"
      },
      "source": [
        "# ** 2-7 추가 전처리**"
      ]
    },
    {
      "cell_type": "markdown",
      "metadata": {
        "id": "Y8LO42WVAWC6"
      },
      "source": [
        "### **빅카인즈에서 제공한 키워드(밀키트 뉴스데이터.csv)에 대해 연구목적에 맞게 추가적으로 전처리를 진행함**"
      ]
    },
    {
      "cell_type": "code",
      "metadata": {
        "id": "RAWW_ujxnknj"
      },
      "source": [
        "import pandas as pd\n",
        "df=pd.read_csv(\"밀키트 뉴스데이터.csv\")"
      ],
      "execution_count": null,
      "outputs": []
    },
    {
      "cell_type": "code",
      "metadata": {
        "id": "Q9jpVQP5peq_"
      },
      "source": [
        "#단어 교체\n",
        "def change(text):\n",
        "    text_list=text.split(',')\n",
        "    result=[]\n",
        "    for c in text_list:\n",
        "        if c=='11번':\n",
        "            c=c.replace('11번','11번가')\n",
        "        if c=='인공지능':\n",
        "            c=c.replace('인공지능','AI')\n",
        "        result.append(c)\n",
        "    return result"
      ],
      "execution_count": null,
      "outputs": []
    },
    {
      "cell_type": "code",
      "metadata": {
        "id": "rrCIqSzAoLxI"
      },
      "source": [
        "df['키워드']=df['키워드'].map(lambda x: change(x))"
      ],
      "execution_count": null,
      "outputs": []
    },
    {
      "cell_type": "code",
      "metadata": {
        "id": "MQ8iP8teshGQ"
      },
      "source": [
        "stopwords=pd.read_csv('불용어 처리.txt',header=None)"
      ],
      "execution_count": null,
      "outputs": []
    },
    {
      "cell_type": "code",
      "metadata": {
        "id": "1-lYD4FsyxFm"
      },
      "source": [
        "stopwords=stopwords[0].tolist()"
      ],
      "execution_count": null,
      "outputs": []
    },
    {
      "cell_type": "code",
      "metadata": {
        "id": "u5JuqpmxqyLN"
      },
      "source": [
        "#불용어처리\n",
        "def remove(text,stopwords):\n",
        "    keywords=','.join([c for c in text if c not in stopwords])\n",
        "    return keywords"
      ],
      "execution_count": null,
      "outputs": []
    },
    {
      "cell_type": "code",
      "metadata": {
        "id": "-sXraeXsrBqV"
      },
      "source": [
        "df['키워드']=df['키워드'].map(lambda x: remove(x,stopwords) )"
      ],
      "execution_count": null,
      "outputs": []
    },
    {
      "cell_type": "code",
      "metadata": {
        "id": "CdWUBdhprbrh"
      },
      "source": [
        "df=df['키워드']"
      ],
      "execution_count": null,
      "outputs": []
    },
    {
      "cell_type": "code",
      "metadata": {
        "colab": {
          "base_uri": "https://localhost:8080/"
        },
        "id": "arPubpU-UjmS",
        "outputId": "c21c008c-93a0-4ac4-c686-8ee1903c4a8b"
      },
      "source": [
        "df"
      ],
      "execution_count": null,
      "outputs": [
        {
          "output_type": "execute_result",
          "data": {
            "text/plain": [
              "0       재배,채소,제공,웰빙,먹거리,하이원리조트,요리사,셰프들,재배,채소,식재료,활용,손님...\n",
              "1       백화점,롯데쇼핑,매출,역성장,실적,롯데쇼핑,백화점,회복세,롯데마트,롯데하이마트,e커...\n",
              "2       밀키트,창업,가정,안산시,밀키트,기탁,브랜드,100호,밀키트,창업,브랜드,최단,기간...\n",
              "3       수산물,할인,정부,소비,촉진,정부,할인,쿠폰,발행,지원,추가,코로나19,최소화,전통...\n",
              "4       소상공인,구독,경제,바우처,제공,소상공인,구독경제,중소벤처기업부,비상,경제,중앙,대...\n",
              "                              ...                        \n",
              "5501    셰프,이국적,한국야쿠르트,이국적,프레시,밀키트,제품,출시,프레시,밀키트,요리,식재료...\n",
              "5502    서경,베스트,히트,상품,밀키트,한국야쿠르트,프레시,손질,요리,배송,가구,증가,각광,...\n",
              "5503    프레시,멕시코,스페인,건강식,한국야쿠르트,잇츠온,일품,나라,대표,요리,이국,풍미,장...\n",
              "5504    제품,PB,혁신,승부,디렉터,콜렌뷔르흐,PL,제조사,협회,영국,슈퍼마켓,세인즈베리,...\n",
              "5505    무풍지대,방문,판매,시장,인공,지능,브랜드,품목,다양화,성장세,대면,우수,상품,추천...\n",
              "Name: 키워드, Length: 5506, dtype: object"
            ]
          },
          "metadata": {},
          "execution_count": 13
        }
      ]
    },
    {
      "cell_type": "code",
      "metadata": {
        "id": "xbzjtCaZt86Q"
      },
      "source": [
        "df.to_csv('밀키트 뉴스데이터 전처리_최종.csv',encoding='utf-8-sig')"
      ],
      "execution_count": null,
      "outputs": []
    }
  ]
}