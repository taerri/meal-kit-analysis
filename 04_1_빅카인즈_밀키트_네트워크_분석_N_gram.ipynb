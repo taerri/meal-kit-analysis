{
  "nbformat": 4,
  "nbformat_minor": 5,
  "metadata": {
    "colab": {
      "name": "04-1_빅카인즈_밀키트_네트워크 분석_N-gram.ipynb",
      "provenance": [],
      "include_colab_link": true
    },
    "kernelspec": {
      "display_name": "Python 3",
      "language": "python",
      "name": "python3"
    },
    "language_info": {
      "codemirror_mode": {
        "name": "ipython",
        "version": 3
      },
      "file_extension": ".py",
      "mimetype": "text/x-python",
      "name": "python",
      "nbconvert_exporter": "python",
      "pygments_lexer": "ipython3",
      "version": "3.8.5"
    }
  },
  "cells": [
    {
      "cell_type": "markdown",
      "metadata": {
        "id": "view-in-github",
        "colab_type": "text"
      },
      "source": [
        "<a href=\"https://colab.research.google.com/github/taerri/meal-kit-analysis/blob/main/04_1_%EB%B9%85%EC%B9%B4%EC%9D%B8%EC%A6%88_%EB%B0%80%ED%82%A4%ED%8A%B8_%EB%84%A4%ED%8A%B8%EC%9B%8C%ED%81%AC_%EB%B6%84%EC%84%9D_N_gram.ipynb\" target=\"_parent\"><img src=\"https://colab.research.google.com/assets/colab-badge.svg\" alt=\"Open In Colab\"/></a>"
      ]
    },
    {
      "cell_type": "markdown",
      "metadata": {
        "id": "i5vCKBLhJFni"
      },
      "source": [
        "# **4. 네트워크 분석**"
      ],
      "id": "i5vCKBLhJFni"
    },
    {
      "cell_type": "markdown",
      "metadata": {
        "id": "gd7C24uLJFns"
      },
      "source": [
        "## **4-1 N-gram 분석 코드**"
      ],
      "id": "gd7C24uLJFns"
    },
    {
      "cell_type": "code",
      "metadata": {
        "id": "bc9cef10-ee98-442c-a0c5-846d6d5212e3"
      },
      "source": [
        "import pandas as pd\n",
        "from collections import Counter\n",
        "from nltk.util import ngrams\n",
        "from itertools import tee, islice"
      ],
      "id": "bc9cef10-ee98-442c-a0c5-846d6d5212e3",
      "execution_count": null,
      "outputs": []
    },
    {
      "cell_type": "code",
      "metadata": {
        "id": "4e36f894-c4aa-4b36-801c-8e4d18504fe1"
      },
      "source": [
        "#파일 읽기\n",
        "df = pd.read_csv('밀키트 뉴스데이터 전처리_최종.csv')"
      ],
      "id": "4e36f894-c4aa-4b36-801c-8e4d18504fe1",
      "execution_count": null,
      "outputs": []
    },
    {
      "cell_type": "code",
      "metadata": {
        "id": "dc337f4b-b1ac-4439-a7a6-0820f48b5bc7",
        "colab": {
          "base_uri": "https://localhost:8080/",
          "height": 204
        },
        "outputId": "afdb05aa-a90b-4b2e-bfd3-acc0ea4f0106"
      },
      "source": [
        "df.head()"
      ],
      "id": "dc337f4b-b1ac-4439-a7a6-0820f48b5bc7",
      "execution_count": null,
      "outputs": [
        {
          "output_type": "execute_result",
          "data": {
            "text/html": [
              "<div>\n",
              "<style scoped>\n",
              "    .dataframe tbody tr th:only-of-type {\n",
              "        vertical-align: middle;\n",
              "    }\n",
              "\n",
              "    .dataframe tbody tr th {\n",
              "        vertical-align: top;\n",
              "    }\n",
              "\n",
              "    .dataframe thead th {\n",
              "        text-align: right;\n",
              "    }\n",
              "</style>\n",
              "<table border=\"1\" class=\"dataframe\">\n",
              "  <thead>\n",
              "    <tr style=\"text-align: right;\">\n",
              "      <th></th>\n",
              "      <th>Unnamed: 0</th>\n",
              "      <th>키워드</th>\n",
              "    </tr>\n",
              "  </thead>\n",
              "  <tbody>\n",
              "    <tr>\n",
              "      <th>0</th>\n",
              "      <td>0</td>\n",
              "      <td>재배,채소,제공,웰빙,먹거리,하이원리조트,요리사,셰프들,재배,채소,식재료,활용,손님...</td>\n",
              "    </tr>\n",
              "    <tr>\n",
              "      <th>1</th>\n",
              "      <td>1</td>\n",
              "      <td>백화점,롯데쇼핑,매출,역성장,실적,롯데쇼핑,백화점,회복세,롯데마트,롯데하이마트,e커...</td>\n",
              "    </tr>\n",
              "    <tr>\n",
              "      <th>2</th>\n",
              "      <td>2</td>\n",
              "      <td>밀키트,창업,가정,안산시,밀키트,기탁,브랜드,100호,밀키트,창업,브랜드,최단,기간...</td>\n",
              "    </tr>\n",
              "    <tr>\n",
              "      <th>3</th>\n",
              "      <td>3</td>\n",
              "      <td>수산물,할인,정부,소비,촉진,정부,할인,쿠폰,발행,지원,추가,코로나19,최소화,전통...</td>\n",
              "    </tr>\n",
              "    <tr>\n",
              "      <th>4</th>\n",
              "      <td>4</td>\n",
              "      <td>소상공인,구독,경제,바우처,제공,소상공인,구독경제,중소벤처기업부,비상,경제,중앙,대...</td>\n",
              "    </tr>\n",
              "  </tbody>\n",
              "</table>\n",
              "</div>"
            ],
            "text/plain": [
              "   Unnamed: 0                                                키워드\n",
              "0           0  재배,채소,제공,웰빙,먹거리,하이원리조트,요리사,셰프들,재배,채소,식재료,활용,손님...\n",
              "1           1  백화점,롯데쇼핑,매출,역성장,실적,롯데쇼핑,백화점,회복세,롯데마트,롯데하이마트,e커...\n",
              "2           2  밀키트,창업,가정,안산시,밀키트,기탁,브랜드,100호,밀키트,창업,브랜드,최단,기간...\n",
              "3           3  수산물,할인,정부,소비,촉진,정부,할인,쿠폰,발행,지원,추가,코로나19,최소화,전통...\n",
              "4           4  소상공인,구독,경제,바우처,제공,소상공인,구독경제,중소벤처기업부,비상,경제,중앙,대..."
            ]
          },
          "metadata": {},
          "execution_count": 3
        }
      ]
    },
    {
      "cell_type": "code",
      "metadata": {
        "id": "0216cd93-cbad-4a87-a376-f904329e5e66"
      },
      "source": [
        "#DataFrame to list\n",
        "df_list = df.values.tolist()"
      ],
      "id": "0216cd93-cbad-4a87-a376-f904329e5e66",
      "execution_count": null,
      "outputs": []
    },
    {
      "cell_type": "code",
      "metadata": {
        "id": "91ba32ea-49b7-4101-9c5c-d3fcc1124dec",
        "colab": {
          "base_uri": "https://localhost:8080/"
        },
        "outputId": "1c06779a-e9b6-45c6-86e5-e45ebb42ef13"
      },
      "source": [
        "df_list[0][0]"
      ],
      "id": "91ba32ea-49b7-4101-9c5c-d3fcc1124dec",
      "execution_count": null,
      "outputs": [
        {
          "output_type": "execute_result",
          "data": {
            "text/plain": [
              "0"
            ]
          },
          "metadata": {},
          "execution_count": 5
        }
      ]
    },
    {
      "cell_type": "code",
      "metadata": {
        "id": "ad6ac8e3-bf54-4490-a6af-21c5ad76f5ef"
      },
      "source": [
        "def ngrams(lst, n):\n",
        "    tlst = lst\n",
        "    while True:\n",
        "        a, b = tee(tlst)\n",
        "        l = tuple(islice(a,n))\n",
        "        if len(l) == n:\n",
        "            yield l\n",
        "            next(b)\n",
        "            tlst = b\n",
        "        else:\n",
        "            break\n",
        "    return tlst"
      ],
      "id": "ad6ac8e3-bf54-4490-a6af-21c5ad76f5ef",
      "execution_count": null,
      "outputs": []
    },
    {
      "cell_type": "code",
      "metadata": {
        "id": "8a03647a-a7e1-4cec-a184-127d916b1ee3"
      },
      "source": [
        "counters = []\n",
        "for index, row in df.iterrows():\n",
        "    keyword_list = row.키워드.split(',')\n",
        "    counters.append(Counter(ngrams(keyword_list, 2)))"
      ],
      "id": "8a03647a-a7e1-4cec-a184-127d916b1ee3",
      "execution_count": null,
      "outputs": []
    },
    {
      "cell_type": "code",
      "metadata": {
        "id": "cce5b23f-eb28-447f-9c8d-fe7a1b3191b5"
      },
      "source": [
        "counts = sum(counters, Counter())"
      ],
      "id": "cce5b23f-eb28-447f-9c8d-fe7a1b3191b5",
      "execution_count": null,
      "outputs": []
    },
    {
      "cell_type": "code",
      "metadata": {
        "id": "86ae6148-ea88-451f-85ab-e2b6c2ee50f1",
        "colab": {
          "base_uri": "https://localhost:8080/"
        },
        "outputId": "7f498bea-88f8-4613-d87e-112a422d4abe"
      },
      "source": [
        "len(counts.items())"
      ],
      "id": "86ae6148-ea88-451f-85ab-e2b6c2ee50f1",
      "execution_count": null,
      "outputs": [
        {
          "output_type": "execute_result",
          "data": {
            "text/plain": [
              "526726"
            ]
          },
          "metadata": {},
          "execution_count": 9
        }
      ]
    },
    {
      "cell_type": "code",
      "metadata": {
        "id": "cef84292-7502-481e-9e76-4285fa11c9b5",
        "colab": {
          "base_uri": "https://localhost:8080/"
        },
        "outputId": "10e9d96a-142e-494d-f935-2bc17fd0dbb3"
      },
      "source": [
        "counts.most_common(20)"
      ],
      "id": "cef84292-7502-481e-9e76-4285fa11c9b5",
      "execution_count": null,
      "outputs": [
        {
          "output_type": "execute_result",
          "data": {
            "text/plain": [
              "[(('밀키트', '시장'), 1175),\n",
              " (('밀키트', '제품'), 928),\n",
              " (('가정', '간편식'), 896),\n",
              " (('배송', '서비스'), 879),\n",
              " (('새벽', '배송'), 696),\n",
              " (('신선', '식품'), 650),\n",
              " (('선물', '세트'), 588),\n",
              " (('동기', '대비'), 562),\n",
              " (('GS', '리테일'), 560),\n",
              " (('밀키트', '상품'), 548),\n",
              " (('밀키트', '브랜드'), 514),\n",
              " (('사회', '거리'), 507),\n",
              " (('코로나19', '사태'), 433),\n",
              " (('손질', '식재료'), 430),\n",
              " (('밀키트', '출시'), 426),\n",
              " (('코로나19', '확산'), 413),\n",
              " (('감염증', '신종'), 398),\n",
              " (('신종', '코로나19'), 388),\n",
              " (('간편식', '시장'), 384),\n",
              " (('전문', '기업'), 383)]"
            ]
          },
          "metadata": {},
          "execution_count": 10
        }
      ]
    },
    {
      "cell_type": "markdown",
      "metadata": {
        "id": "m-xObaM5JFn6"
      },
      "source": [
        "## **4-2 N-gram 분석 결과**"
      ],
      "id": "m-xObaM5JFn6"
    },
    {
      "cell_type": "code",
      "metadata": {
        "id": "7c073c37-3121-4394-99b9-fbb984d94c5a"
      },
      "source": [
        "result = []\n",
        "for i in counts.most_common():\n",
        "    row = list(i)\n",
        "    data = list(i[0]) + [row[1]]\n",
        "    result.append(data)"
      ],
      "id": "7c073c37-3121-4394-99b9-fbb984d94c5a",
      "execution_count": null,
      "outputs": []
    },
    {
      "cell_type": "code",
      "metadata": {
        "id": "9d4fa9d8-526a-4928-89af-0fa64cec6de5"
      },
      "source": [
        "data_frame = pd.DataFrame(result, columns=['word1', 'word2', 'feq'])"
      ],
      "id": "9d4fa9d8-526a-4928-89af-0fa64cec6de5",
      "execution_count": null,
      "outputs": []
    },
    {
      "cell_type": "code",
      "metadata": {
        "id": "27e591ee-e3d2-4a9a-abde-a5e11fc9e295"
      },
      "source": [
        "data_frame.to_csv('n-gram_분석결과.csv', encoding='utf-8-sig')"
      ],
      "id": "27e591ee-e3d2-4a9a-abde-a5e11fc9e295",
      "execution_count": null,
      "outputs": []
    }
  ]
}