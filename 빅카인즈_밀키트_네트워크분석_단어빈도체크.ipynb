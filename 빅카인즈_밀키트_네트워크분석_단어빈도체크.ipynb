{
  "nbformat": 4,
  "nbformat_minor": 0,
  "metadata": {
    "colab": {
      "name": "네트워크 분석_단어 빈도 체크.ipynb",
      "provenance": [],
      "collapsed_sections": [],
      "authorship_tag": "ABX9TyNkbM/7RS9FGojcNPqOf9c9",
      "include_colab_link": true
    },
    "kernelspec": {
      "display_name": "Python 3",
      "name": "python3"
    },
    "language_info": {
      "name": "python"
    }
  },
  "cells": [
    {
      "cell_type": "markdown",
      "metadata": {
        "id": "view-in-github",
        "colab_type": "text"
      },
      "source": [
        "<a href=\"https://colab.research.google.com/github/taerri/meal-kit-analysis/blob/main/%EB%84%A4%ED%8A%B8%EC%9B%8C%ED%81%AC%EB%B6%84%EC%84%9D_%EB%8B%A8%EC%96%B4%EB%B9%88%EB%8F%84%EC%B2%B4%ED%81%AC.ipynb\" target=\"_parent\"><img src=\"https://colab.research.google.com/assets/colab-badge.svg\" alt=\"Open In Colab\"/></a>"
      ]
    },
    {
      "cell_type": "markdown",
      "metadata": {
        "id": "P8721ycBqIRc"
      },
      "source": [
        "# **단어 빈도 체크**"
      ]
    },
    {
      "cell_type": "code",
      "metadata": {
        "id": "SgivSKLQpmpO"
      },
      "source": [
        "import pandas as pd\n",
        "from tqdm import tqdm"
      ],
      "execution_count": null,
      "outputs": []
    },
    {
      "cell_type": "code",
      "metadata": {
        "colab": {
          "base_uri": "https://localhost:8080/"
        },
        "id": "xQnwOsWeqT6x",
        "outputId": "04843727-cb1f-43eb-c06b-03a5d68f02c1"
      },
      "source": [
        "if __name__=='__main__':\n",
        "    dataset=pd.read_csv('mealkit_tfidf1.csv')\n",
        "    #0번째 인덱스에는 빈 칸이 들어오므로 인덱싱을 통해 없애준다\n",
        "    column_list=dataset.columns[1:]\n",
        "    word_length=len(column_list)\n",
        "\n",
        "    count_dict={}\n",
        "\n",
        "    for doc_number in tqdm(range(len(dataset)),desc='단어쌍 만들기 진행중'):\n",
        "        tmp=dataset.loc[doc_number]    #현재 문서의 단어 출현 빈도 데이터 가져오기\n",
        "        for i, word1 in enumerate(column_list):\n",
        "            if tmp[word1]:   #현재 문서에 첫번째 단어가 존재할 경우\n",
        "                for j in range(i+1, word_length):\n",
        "                    if tmp[column_list[j]]:   #현재 문서에 두번째 단어가 존재할 경우\n",
        "                        count_dict[column_list[i],column_list[j]]=count_dict.get((column_list[i],column_list[j]),0)+max(tmp[word1],tmp[column_list[j]])\n",
        "\n",
        "\n",
        "    count_list=[]\n",
        "    \n",
        "    for words in count_dict:\n",
        "        count_list.append([words[0],words[1],count_dict[words]])\n",
        "\n",
        "    df=pd.DataFrame(count_list,columns=['word1','word2','freq'])\n",
        "    df=df.sort_values(by=['freq'],ascending=False)\n",
        "    df=df.reset_index(drop=True)\n",
        "\n",
        "    #작업이 오래 걸리기 때문에 csv파일로 저장\n",
        "    df.to_csv('network_mealkitx.csv',encoding='utf-8-sig')"
      ],
      "execution_count": null,
      "outputs": [
        {
          "output_type": "stream",
          "text": [
            "단어쌍 만들기 진행중: 100%|██████████| 5529/5529 [6:50:11<00:00,  4.45s/it]\n"
          ],
          "name": "stderr"
        }
      ]
    }
  ]
}
