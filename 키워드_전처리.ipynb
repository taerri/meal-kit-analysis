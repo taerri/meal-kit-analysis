{
  "nbformat": 4,
  "nbformat_minor": 0,
  "metadata": {
    "colab": {
      "name": "키워드 전처리.ipynb",
      "provenance": [],
      "collapsed_sections": [],
      "authorship_tag": "ABX9TyPLMZ1moW+CpaPZcDrpt8gE",
      "include_colab_link": true
    },
    "kernelspec": {
      "name": "python3",
      "display_name": "Python 3"
    },
    "language_info": {
      "name": "python"
    }
  },
  "cells": [
    {
      "cell_type": "markdown",
      "metadata": {
        "id": "view-in-github",
        "colab_type": "text"
      },
      "source": [
        "<a href=\"https://colab.research.google.com/github/taerri/meal-kit-analysis/blob/main/%ED%82%A4%EC%9B%8C%EB%93%9C_%EC%A0%84%EC%B2%98%EB%A6%AC.ipynb\" target=\"_parent\"><img src=\"https://colab.research.google.com/assets/colab-badge.svg\" alt=\"Open In Colab\"/></a>"
      ]
    },
    {
      "cell_type": "code",
      "metadata": {
        "id": "RAWW_ujxnknj"
      },
      "source": [
        "import pandas as pd\n",
        "df=pd.read_csv(\"밀키트 뉴스데이터 빅카인즈제공.csv\")"
      ],
      "execution_count": 1,
      "outputs": []
    },
    {
      "cell_type": "code",
      "metadata": {
        "id": "Q9jpVQP5peq_"
      },
      "source": [
        "#단어 교체\n",
        "def change(text):\n",
        "    text_list=text.split(',')\n",
        "    result=[]\n",
        "    for c in text_list:\n",
        "        if c=='11번':\n",
        "            c=c.replace('11번','11번가')\n",
        "        if c=='인공지능':\n",
        "            c=c.replace('인공지능','AI')\n",
        "        result.append(c)\n",
        "    return result"
      ],
      "execution_count": 2,
      "outputs": []
    },
    {
      "cell_type": "code",
      "metadata": {
        "id": "rrCIqSzAoLxI"
      },
      "source": [
        "df['키워드']=df['키워드'].map(lambda x: change(x))"
      ],
      "execution_count": 3,
      "outputs": []
    },
    {
      "cell_type": "code",
      "metadata": {
        "id": "MQ8iP8teshGQ"
      },
      "source": [
        "stopwords=pd.read_csv('불용어 처리.txt',header=None)"
      ],
      "execution_count": 4,
      "outputs": []
    },
    {
      "cell_type": "code",
      "metadata": {
        "id": "1-lYD4FsyxFm"
      },
      "source": [
        "stopwords=stopwords[0].tolist()"
      ],
      "execution_count": 5,
      "outputs": []
    },
    {
      "cell_type": "code",
      "metadata": {
        "id": "u5JuqpmxqyLN"
      },
      "source": [
        "#불용어처리\n",
        "def remove(text,stopwords):\n",
        "    keywords=','.join([c for c in text if c not in stopwords])\n",
        "    return keywords"
      ],
      "execution_count": 6,
      "outputs": []
    },
    {
      "cell_type": "code",
      "metadata": {
        "id": "-sXraeXsrBqV"
      },
      "source": [
        "df['키워드']=df['키워드'].map(lambda x: remove(x,stopwords) )"
      ],
      "execution_count": 7,
      "outputs": []
    },
    {
      "cell_type": "code",
      "metadata": {
        "id": "CdWUBdhprbrh"
      },
      "source": [
        "df=df['키워드']"
      ],
      "execution_count": 8,
      "outputs": []
    },
    {
      "cell_type": "code",
      "metadata": {
        "id": "xbzjtCaZt86Q"
      },
      "source": [
        "df.to_csv('WORD.csv',encoding='utf-8')"
      ],
      "execution_count": 12,
      "outputs": []
    },
    {
      "cell_type": "code",
      "metadata": {
        "id": "zRTRjM6Uuq5E"
      },
      "source": [
        ""
      ],
      "execution_count": null,
      "outputs": []
    }
  ]
}