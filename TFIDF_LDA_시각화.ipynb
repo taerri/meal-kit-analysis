{
  "nbformat": 4,
  "nbformat_minor": 0,
  "metadata": {
    "colab": {
      "name": "TFIDF_LDA_시각화ipynb",
      "provenance": [],
      "collapsed_sections": [],
      "include_colab_link": true
    },
    "kernelspec": {
      "display_name": "Python 3 (ipykernel)",
      "language": "python",
      "name": "python3"
    },
    "language_info": {
      "codemirror_mode": {
        "name": "ipython",
        "version": 3
      },
      "file_extension": ".py",
      "mimetype": "text/x-python",
      "name": "python",
      "nbconvert_exporter": "python",
      "pygments_lexer": "ipython3",
      "version": "3.8.5"
    }
  },
  "cells": [
    {
      "cell_type": "markdown",
      "metadata": {
        "id": "view-in-github",
        "colab_type": "text"
      },
      "source": [
        "<a href=\"https://colab.research.google.com/github/taerri/meal-kit-analysis/blob/main/TFIDF_LDA_%EC%8B%9C%EA%B0%81%ED%99%94.ipynb\" target=\"_parent\"><img src=\"https://colab.research.google.com/assets/colab-badge.svg\" alt=\"Open In Colab\"/></a>"
      ]
    },
    {
      "cell_type": "markdown",
      "metadata": {
        "id": "meTwDF8W0wJB"
      },
      "source": [
        "# 데이터 읽기"
      ]
    },
    {
      "cell_type": "code",
      "metadata": {
        "id": "E7zj87760wJD"
      },
      "source": [
        "import pandas as pd"
      ],
      "execution_count": 1,
      "outputs": []
    },
    {
      "cell_type": "code",
      "metadata": {
        "colab": {
          "base_uri": "https://localhost:8080/",
          "height": 222
        },
        "id": "3k2yjw9q0wJE",
        "outputId": "871beb88-0019-47ae-9804-7937a1071496"
      },
      "source": [
        "Corpus_all = pd.read_csv(\"단어_빅카인즈(전처리 후(df)).csv\", encoding=\"utf8\")\n",
        "print(\"데이터 개수 :\",len(Corpus_all))\n",
        "Corpus_all=Corpus_all.drop(['Unnamed: 0'],axis=1)\n",
        "Corpus_all.head()"
      ],
      "execution_count": 2,
      "outputs": [
        {
          "output_type": "stream",
          "text": [
            "데이터 개수 : 5529\n"
          ],
          "name": "stdout"
        },
        {
          "output_type": "execute_result",
          "data": {
            "text/html": [
              "<div>\n",
              "<style scoped>\n",
              "    .dataframe tbody tr th:only-of-type {\n",
              "        vertical-align: middle;\n",
              "    }\n",
              "\n",
              "    .dataframe tbody tr th {\n",
              "        vertical-align: top;\n",
              "    }\n",
              "\n",
              "    .dataframe thead th {\n",
              "        text-align: right;\n",
              "    }\n",
              "</style>\n",
              "<table border=\"1\" class=\"dataframe\">\n",
              "  <thead>\n",
              "    <tr style=\"text-align: right;\">\n",
              "      <th></th>\n",
              "      <th>키워드</th>\n",
              "    </tr>\n",
              "  </thead>\n",
              "  <tbody>\n",
              "    <tr>\n",
              "      <th>0</th>\n",
              "      <td>재배,채소,제공,웰빙,먹거리,하이원리조트,요리사,셰프들,재배,채소,식재료,활용,손님...</td>\n",
              "    </tr>\n",
              "    <tr>\n",
              "      <th>1</th>\n",
              "      <td>백화점,롯데쇼핑,매출,역성장,실적,롯데쇼핑,백화점,회복세,롯데마트,롯데하이마트,e커...</td>\n",
              "    </tr>\n",
              "    <tr>\n",
              "      <th>2</th>\n",
              "      <td>밀키트,창업,가정,안산시,밀키트,기탁,브랜드,100호,밀키트,창업,브랜드,최단,기간...</td>\n",
              "    </tr>\n",
              "    <tr>\n",
              "      <th>3</th>\n",
              "      <td>수산물,할인,정부,소비,촉진,정부,할인,쿠폰,발행,지원,추가,코로나19,최소화,전통...</td>\n",
              "    </tr>\n",
              "    <tr>\n",
              "      <th>4</th>\n",
              "      <td>소상공인,구독,경제,바우처,제공,소상공인,구독경제,중소벤처기업부,비상,경제,중앙,대...</td>\n",
              "    </tr>\n",
              "  </tbody>\n",
              "</table>\n",
              "</div>"
            ],
            "text/plain": [
              "                                                 키워드\n",
              "0  재배,채소,제공,웰빙,먹거리,하이원리조트,요리사,셰프들,재배,채소,식재료,활용,손님...\n",
              "1  백화점,롯데쇼핑,매출,역성장,실적,롯데쇼핑,백화점,회복세,롯데마트,롯데하이마트,e커...\n",
              "2  밀키트,창업,가정,안산시,밀키트,기탁,브랜드,100호,밀키트,창업,브랜드,최단,기간...\n",
              "3  수산물,할인,정부,소비,촉진,정부,할인,쿠폰,발행,지원,추가,코로나19,최소화,전통...\n",
              "4  소상공인,구독,경제,바우처,제공,소상공인,구독경제,중소벤처기업부,비상,경제,중앙,대..."
            ]
          },
          "metadata": {
            "tags": []
          },
          "execution_count": 2
        }
      ]
    },
    {
      "cell_type": "markdown",
      "metadata": {
        "id": "LzlnUgae0wJH"
      },
      "source": [
        "# 단어 빈도"
      ]
    },
    {
      "cell_type": "code",
      "metadata": {
        "id": "WT4xVAPs0wJI"
      },
      "source": [
        "Words_org = Corpus_all[\"키워드\"]\n",
        "#Words_2019 = Corpus_all[Corpus_all.Date < \"2020/01/01\"][\"all_text\"]\n",
        "#Words_2020 = Corpus_all[Corpus_all.Date >= \"2020/01/01\"][\"all_text\"]\n",
        "Words = [wl.split(\",\")  for wl in Words_org]"
      ],
      "execution_count": 3,
      "outputs": []
    },
    {
      "cell_type": "code",
      "metadata": {
        "colab": {
          "base_uri": "https://localhost:8080/"
        },
        "id": "s8qlZQar3fs0",
        "outputId": "be0693ae-3308-4514-af63-d2f21ed8c030"
      },
      "source": [
        "for wl in Words[:10]:\n",
        "  print(wl)"
      ],
      "execution_count": 4,
      "outputs": [
        {
          "output_type": "stream",
          "text": [
            "['재배', '채소', '제공', '웰빙', '먹거리', '하이원리조트', '요리사', '셰프들', '재배', '채소', '식재료', '활용', '손님', '웰빙', '먹거리', '제공', '호평', '셰프들', '하이원리조트', '호텔', '셰프', '주인공', '호텔', '셰프', '키친', '오가닉팜', '운영', '고객', '건강', '먹거리', '새싹', '허브', '제공', '고객서비스', '에코', '캠페인', '키친가든', '식재료', '활용', '채소', '허브', '열매', '정원', '키친', '오가닉팜', '하이원리조트', '운암정', '조성', '호텔', '셰프', '구슬땀', '20여종', '채소', '허브', '재배', '재배', '채소', '허브', '호텔', '위치', '식음업장', '식재료', '활용', '하이원리조트', 'PB', '상품', 'GOURMET', '고메', '밀키트', '제품', '이용', '채소', '허브', '농법', '재배', '강원랜드', '사내', '벤처', '자원업사이클TF', '도움', '리조트', '배출', '음식물', '쓰레기', '동애등에', '곤충', '먹이', '활용', '자연', '분해', '퇴비', '지원', '활용', '하이원리조트', '조리', '이태규', '부장', '하이원리조트', '호텔', '손님', '정성', '재배', '식재료', '활용', '음식', '대접', '수요', '음식', '노력']\n",
            "['백화점', '롯데쇼핑', '매출', '역성장', '실적', '롯데쇼핑', '백화점', '회복세', '롯데마트', '롯데하이마트', 'e커머스', '롯데온', '주력', '계열사', '부진', '매출', '역성장', '구조', '조정', '성과', '영업이익', '444%', '증가', '시장', '롯데쇼핑', '영업', '이익', '75억', '444.7%', '동기', '대비', '444.7%', '공시', '매출액', '3.5%', '감소', '영업이익', '송도롯데몰', '공사', '지연', '323억', '추징', '세금', '영향', '비용', '제외', '영업', '399억', '시장', '롯데쇼핑', '7조', '매출', '영업이익', '600억', '기록', '예상', '사업부별', '보복', '소비', '효과', '백화점', '매출', '영업이익', '성장', '백화점', '매출', '7210억', '8.2%', '영업이익', '620억', '40.9%', '급증', '회복', '소비', '지속', '해외', '사업', '기조', '효과', '영향', '고성장', '설명', '신장률', '기존점', '신장', '10.3%', '만큼', '회복', '성공', '모습', '할인', '롯데마트', '지점', '축소', '매출', '감소', '부진', '점포', '축소', '매출', '4.8%', '구조', '조정', '효과', '영업적자', '260억', '390억', '개선', '주류', '신선식품', '밀키트', '자릿수', '성장', '기존점', '신장', '1.7%', '성장', '롯데하이마트', '5~6월', '여름', '기온', '에어컨', '판매', '부진', '매출', '동기', '대비', '매출액', '영업이익', '11.4%', '52.3%', '성장세', '제동', '온라인', '성장', '동기', '대비', '26%', '증가', '무더위', '시작', '에어컨', '판매', '실적', '반등', '예상', '슈퍼', '16.8%', '매출', '감소', '부진', '홈쇼핑', '마케팅', '강화', '영업이익', '18.1%', '매출액', '4.9%', '컬처웍스', '기저', '효과', '영향', '매출액', '36.6%', '430억', '기록', '전사적', 'e커머스', '부진', '2분기', '사업부', '매출', '10.4%', '290억', '기록', '셀러', '수수료', '인하', '영향', '영향', '회계', '기준', '변경', '반영', '설명', '영업', '적자', '적자', '확대', '광고', '판촉비', '판관비', '안정', '확대', '비용', '증가', '롯데쇼핑', '관계자', '오픈', '롯데온', '회계', '기준', '영향', '2분기', '반영', '거래액', '트래픽', '지속적', '증가']\n",
            "['밀키트', '창업', '가정', '안산시', '밀키트', '기탁', '브랜드', '100호', '밀키트', '창업', '브랜드', '최단', '기간', '돌파', '저소득가정', '안산시', '관내', '소득', '가정', '이웃', '사랑', '후원', '2천만', '밀키트', '기탁', '안산시', '안산시청', '윤화섭', '안산', '시장', '대표이사', '박상미', '영상', '에프앤비', '대표', '이사', '참석', '전달식', '기탁', '100~200개', '2', '밀키트', '제품', '생활', '1인', '가정', '제공', '예정', '냉장', '냉동', '식품', '감안', '기부식품제공사업장', '푸드뱅크', '기탁처리', '제공', '예정', '관계자', '사회', '거리', '강화', '사회', '복지', '시설', '운영', '축소', '소식', '사회', '공헌', '활동', '마련', '고객', '사랑', '사회', '환원', '활동', '기업', '사회', '책임', '대표', '밀키트', '전문점', '여파', '창업', '시장', '전반적', '침체기', '와중', '100호', '최단', '기간', '가맹', '계약', '체결', '밀키트', '창업', '프랜차이즈', '업계', '활약']\n",
            "['수산물', '할인', '정부', '소비', '촉진', '정부', '할인', '쿠폰', '발행', '지원', '추가', '코로나19', '최소화', '전통시장', '활성화', '정부', '전국', '대형마트', '전통시장', '온라인', '쇼핑몰', '수산물', '대한민국', '수산대전', '행사', '추진', '소비', '촉진', '소득', '유지', '기여', '코로나19', '일본', '후쿠시마', '원전', '오염수', '해양', '방류', '결정', '어려움', '수산업계', '지원', '한편', '물가', '상승', '소비자', '장바구니', '부담', '평가', '해양', '수산', '행사', '대한민국', '수산대전', '상반기', '177억', '규모', '쿠폰', '사용', '온오프라인', '143억', '전통', '시장', '946억', '수산업', '매출액', '발생', '행사', '대한민국', '수산대전', '정부', '수산물', '가격', '지원', '사업', '정부', '수산물', '할인쿠폰', '발행', '수산물', '구입', '한도', '사용', '가능', '정부', '지원', '할인', '판매처', '자체', '할인혜택', '최대', '50~70%', '할인', '혜택', '부담', '제공해', '소비자', '완화', '대형', '마트', '생협', '스타트업', '오프라인', '온라인', '31개', '참여', '행사', '예산', '규모', '본예산', '추가', '경정', '예산', '590억', '해수부', '추가', '경정', '예산', '243억', '확보', '행사', '추가', '배정', '쿠폰', '수산물', '할인', '규모', '추가', '발행', '수산물', '할인', '행사', '6회', '해수부', '풍어기원특별전', '가을특별전', '특별전', '추가', '개최', '6회', '행사', '추진', '품목선정위원회', '할인품목', '선정', '대중적', '고등어', '갈치', '오징어', '명태', '조기', '멸치', '포함', '품목', '평균', '선정', '종전', '회당', '품목', '평균', '대비', '품목', '확대', '예정', '할인방식', '원칙', '할인', '적용', '진행', '추석특별전', '명절', '소비자', '장바구니', '부담', '완화', '한시적', '할인한도', '1인', '최대', '상향', '원물', '활용', '밀키트', '상품', '할인', '동일', '적용', '해수부', '행사', '대한민국', '수산대전', '효과', '소비', '촉진', '어가', '소득', '향상', '전통', '시장', '활성', '기여', '판단', '어가소득', '코로나19', '발생', '9.9%', '증가', '수산물', '가격', '구입', '장바구니', '부담', '평가', '해수부', '쿠폰', '368억', '규모', '사용', '매출액', '1840억', '발생', '예상', '해수부', '관계자', '상생', '할인', '사업', '코로나19', '수산물', '소비', '시장', '규모', '유지', '소비', '위축', '최소화', '산지', '가격', '하락', '방지', '어업', '소득', '기여', '전복', '오징어', '해소', '시중', '적체', '물량', '산지가격', '안정화', '설명']\n",
            "['소상공인', '구독', '경제', '바우처', '제공', '소상공인', '구독경제', '중소벤처기업부', '비상', '경제', '중앙', '대책', '본부', '회의', '소상공인', '구독', '경제', '추진', '방안', '3000명', '소상공인', '구독경제', '진입', '지원', '자료', '중기부', '제공', '소상공인들', '구독경제', '서비스', '지원', '바우처', '제도', '밀키트', '소상공인들', '구독', '경제', '참여', '시범모델', '사업', '연내', '시행', '중소벤처기업부', '비상', '경제', '중앙', '대책', '본부', '회의', '소상공인', '구독', '경제', '추진', '방안', '3000명', '소상공인', '구독경제', '진입', '지원', '정부', '성장', '구독', '경제', '분야', '소상공인들', '진입', '판매', '플랫폼', '물류', '상품', '구성', '구축', '지원', '소상공인', '참여', '밀키트', '구독', '가치소비', '골목', '상권', '선결제', '운영', '모델', '구독', '경제', '제시', '참여', '소상공인', '민간몰', '입점', '판매', '배송', '지원', '방침', '밀키트', '모델', '회사', '선정', '밀키트', '제조', '업체', '민간', '쇼핑몰', '협업', '밀키트', '제조', '판매', '정기배송', '지원', '가치', '소비', '모델', '150개', '선정', '효도상품', '복지상품', '꾸러미', '구독경제관', '판매', '예정', '선결제', '모델', '오프라인', '연계', 'O2O', '기업', '오프라인', '업체', '미용실', '카페', '사용', '선결제', '구축', '골목상권', '창출', '안정', '수익', '지원', '운영', '모델', '전통시장', '농수산조합', '소상공인', '단체', '대상', '물류', '온라인플랫폼', '요소', '구독', '경제', '필수', '지원', '중기부', '구독', '상품', '판매', '지원', '민간', '온라', '인몰', '구독경제관', '소상', '공인', '전용', '구독', '경제관', '개설', '할인쿠폰', '판촉', '비용', '보조', '방식', '예정', '중기부', '제공', '구독', '서비스', '필수', '요소', '판매', '플랫폼', '자사몰', '물류', '풀필먼트', '상품구성', '지원', '바우처', '방식', '지원사업', '신설', '플랫폼', '바우처', '구독', '경제', '지원', '가능', '입점', '민간', '플랫폼', '제공', '구독', '서비스', '자사몰', '구축', '지원', '물류', '바우처', '전문업체', '민간', '물류', '전문', '업체', '활용', '구독상품', '유통', '보관', '배송', '재고관리', '교환', '환불', '배송', '서비스', '지원', '상품', '구성', '바우처', '구독', '상품', '확대', '참여', '소상공인', '구성', '생산자', '조직', '지원', '장관', '중기부', '권칠승', '지원대책', '소상공인', '구독경제', '진입', '문턱', '구독경제', '정기', '판로', '확보', '안정적', '사업', '운영', '가능', '지원', '소상공인분들', '경기변동', '소상공인', '희망']\n",
            "['삼성카드', '간편식', '정기', '쇼핑', '서비스', '출시', '삼성카드', '삼성전자', '밀키트', '간편식', '조리', '최적화', 'BESPOKE', '큐커', '연계', '약정서비스', '간편식', '정기', '쇼핑', '약정', '서비스', '큐커', '플랜', 'BESPOKE', '큐커', '전자레인지', '에어프라이어', '토스트', '포인원', 'in-', '기기', '조리', '요리', '최대', '동시', '멀티쿡', '약정서비스', '간편식', '정기', '쇼핑', '약정', '서비스', '약정기간', '약정', '기간', '파트너', '식품사', '약정금액', '식품', '구매', '조건', '최대', 'BESPOKE', '큐커', '쿠폰', '추가', '할인', '제공', '서비스', '할인쿠폰', '출고', '59만', 'BESPOKE', '큐커', '최저', '구입', '혜택', '제공', '고객', '개월', '약정', '선택', '고객', '직영몰', '파트너', '식품사', '9000원', '이용', '조건', '45만', 'BESPOKE', '큐커', '쿠폰', '추가', '할인', '고객', '삼성카드', '쇼핑몰', '할인', '판매', '가격', '50만', '45만', '추가', '할인', 'BESPOKE', '큐커', '구매', '가능', '삼성카드', '관계자', '서비스', '편식', '정기약정', 'BESPOKE', '큐커', '합리적', '가격', '구매', '현대인들', '편리', '만족', '식생활', '혜택', '서비스', '지속적', '제공', '계획']\n",
            "['농사', '청정', '고원서', '셰프들', '하이원', '공급', '건강식', '재료', '셀프', '셰프들', '하이원리조트', '호텔', '셰프', '키친', '오가닉팜', '운영', '고객', '건강', '먹거리', '새싹', '허브', '제공', '고객서비스', '에코', '캠페인', '하이원', '키친가든', '식재료', '활용', '채소', '허브', '열매', '정원', '하이원리조트', '운암정', '자리', '키친', '오가닉팜', '20여종', '채소', '허브', '셰프들', '정성', '재배', '재배', '고원', '채소', '허브', '호텔', '위치', '식음업장', '식재료', '활용', '하이원리조트', 'PB', '상품', 'GOURMET', '고메', '밀키트', '제품', '이용', '하이원', '오가닉팜', '강원랜드', '사내', '벤처', '자원업사이클TF', '도움', '별도', '비용', '농법', '적용', '리조트', '배출', '음식물', '쓰레기', '동애등에', '곤충', '먹이', '활용', '자연', '분해', '퇴비', '작물', '거름', '방식', '하이원리조트', '여름', '성수기', '고객', '직원들', '대상', '플라스틱', '캠페인', 'ESG경영', '실천', '리조트']\n",
            "['59만', '원짜리', '큐커', '삼성카드', '마이', '큐커', '플랜', '출시', '삼성카드', '삼성전자', '협업', '밀키트', '간편식', '조리', '최적화', '비스포크', '조리', '기기', 'BESPOKE', '큐커', '연계', '약정서비스', '간편식', '정기', '쇼핑', '약정', '서비스', '큐커', '플랜', 'BESPOKE', '큐커', '전자레인지', '에어프라이어', '토스트', '기기', '조리', '구역', '요리', '최대', '동시', '멀티쿡', '특징', '약정서비스', '간편식', '정기', '쇼핑', '약정', '서비스', '약정기간', '약정', '기간', '파트너', '식품사', '약정금액', '식품', '구매', '조건', '최대', 'BESPOKE', '큐커', '쿠폰', '추가', '할인', '제공', '서비스', '할인쿠폰', '출고', '59만', 'BESPOKE', '큐커', '최저', '구입', '혜택', '제공', '고객', '개월', '약정', '선택', '고객', '직영몰', '파트너', '식품사', '9', '000원', '이용', '조건', '45만', 'BESPOKE', '큐커', '쿠폰', '추가', '할인', '고객', '삼성카드', '쇼핑몰', '할인', '판매', '가격', '50만', '45만', '추가', '할인', 'BESPOKE', '큐커', '구매', '가능', '약정서비스', '간편식', '정기', '쇼핑', '약정', '서비스', '삼성카드', '가입', '가능', '약정서비스', '간편식', '정기', '쇼핑', '약정', '서비스', '가입', 'BESPOKE', '큐커', '구매', '고객', '직영몰', '파트너', '식품사', '본인', '명의', '삼성카드', '약정기간', '약정', '기간', '품목', '제한', '약정금액', '구매', '식품사', '약정', '금액', '산정', '파트너', '구매', '금액', '합산', '적용', '직영몰', '파트너', '식품사', '마이셰프', '프레시지', '정원', '풀무원', '오뚜기', '동원몰', '프레딧', '앙트레', '삼성카드', '약정서비스', '간편식', '정기', '쇼핑', '약정', '서비스', '오픈', '기념', '서비스', '가입', 'BESPOKE', '큐커', '구입', '고객', '대상', '결제', '할인', '혜택', '제공', '직영몰', '파트너', '식품사', '합산', '이용', '캐시백', '추가', '제공']\n",
            "['비스', '포크', '큐커', '삼성카드', '약정서비스', '간편식', '정기', '쇼핑', '약정', '서비스', '출시', '서비스', '신청', '삼성카드', '쇼핑', '비스', '포크', '큐커', '최저', '구매', '가능', '삼성카드', '삼성전자', '협업', '밀키트', '간편식', '조리', '최적화', '조리', '기기', '비스', '포크', '큐커', '연계', '약정서비스', '간편식', '정기', '쇼핑', '약정', '서비스', '마이', '큐커', '플랜', '비스포크', '큐커', '전자레인지', '에어프라이어', '토스트', 'in-', '기기', '조리', '요리', '최대', '동시', '멀티쿡', '약정서비스', '간편식', '정기', '쇼핑', '약정', '서비스', '약정기간', '약정', '기간', '파트너', '식품사', '약정금액', '식품', '구매', '조건', '최대', '쿠폰', '비스포크', '큐커', '추가', '할인', '제공', '서비스', '할인쿠폰', '출고', '59만', '비스포크', '큐커', '최저', '구입', '혜택', '제공', '고객', '개월', '약정', '선택', '고객', '직영몰', '파트너', '식품사', '이용', '조건', '45만', '쿠폰', '비스포크', '큐커', '추가', '할인', '고객', '삼성카드', '쇼핑몰', '할인', '판매', '가격', '50만', '45만', '추가', '할인', '비스포크', '큐커', '구매', '가능', '약정서비스', '간편식', '정기', '쇼핑', '약정', '서비스', '삼성카드', '홈페이지', '애플리케이션', '가입', '가능', '서비스', '가입', '비스포크', '큐커', '구매', '고객', '직영몰', '파트너', '식품사', '본인', '명의', '삼성카드', '약정기간', '약정', '기간', '품목', '제한', '약정금액', '구매', '식품사', '약정', '금액', '산정', '파트너', '구매', '금액', '합산', '적용', '직영몰', '파트너', '식품사', '마이셰프', '프레시지', '정원', '풀무원', '오뚜기', '동원몰', '프레딧', '앙트레', '삼성카드', '간편식', '정기', '쇼핑', '약정', '서비스', '오픈', '기념', '이벤트', '진행', '서비스', '가입', '비스포크', '큐커', '구입', '고객', '대상', '결제', '할인', '혜택', '제공', '직영몰', '파트너', '식품사', '합산', '이용', '캐시백', '추가', '제공']\n",
            "['채무', '만기', '연장', '상환', '조치', '유예', '내달', '정부', '지원', '코로나극복', '추경', '신속', '조세', '보험료', '납부', '유예', '홍남기', '사진', '경제부총리', '경제', '부총리', '기획', '재정부', '장관', '설정', '금융', '채무', '만기', '연장', '조치', '상환', '유예', '금융', '지원', '연장', '여부', '검토', '조치', '예정', '홍남기', '부총리', '이날', '회의', '비상', '경제', '중앙', '대책', '본부', '소상공인', '위기', '극복', '추가', '지원', '방안', '논의', '부총리', '충격', '최소', '신속', '지원', '회복', '최대화', '기조', '철저', '방역', '제어', '추가', '경정', '예산', '신속', '지원', '총력', '강조', '예산', '추경', '희망', '회복', '자금', '상생', '국민', '지원금', '집행', '유예', '조세', '납부', '유예', '사회', '보험료', '납부', '지원', '방안', '검토', '예정', '부총리', '소상공인', '자영업자', '피해지원', '노력', '매출', '회복', '경쟁력', '창출', '비즈니스', '모델', '근본', '지원책', '강구', '강조', '소상공인', '신규', '디지털', '판로', '개척', '수입', '안정', '지원', '구독', '경제', '시장', '참여', '활성', '적극', '추진', '구독경제', '참여', '개사', '소상공인', '육성', '확산', '지원', '계획', '설명', '부총리', '밀키트', '모델', '유형', '구독', '경제', '모델', '제시', '플랫폼', '바우처', '신설', '입점', '민간', '쇼핑몰', '판매', '비용', '물류비용', '구독', '상품', '꾸러미', '맞춤형', '지원', '약속']\n"
          ],
          "name": "stdout"
        }
      ]
    },
    {
      "cell_type": "markdown",
      "metadata": {
        "id": "jWM8PdtW3exJ"
      },
      "source": [
        ""
      ]
    },
    {
      "cell_type": "code",
      "metadata": {
        "id": "ZMeIcREb0wJJ"
      },
      "source": [
        "def Word_count(corpus):\n",
        "    word_cnt = dict()\n",
        "    for text in corpus:\n",
        "        for word in text:\n",
        "            if word_cnt.get(word):\n",
        "                word_cnt[word]+=1\n",
        "            else:\n",
        "                word_cnt[word]=1\n",
        "    temp_word = pd.DataFrame.from_dict(word_cnt,orient='index')\n",
        "    temp_word.columns = [\"개수\"]\n",
        "    temp_word = temp_word.sort_values([\"개수\"],ascending=False)\n",
        "    return temp_word"
      ],
      "execution_count": 5,
      "outputs": []
    },
    {
      "cell_type": "code",
      "metadata": {
        "id": "_F9oF-VY0wJK"
      },
      "source": [
        "Words_cnt = Word_count(Words)\n",
        "#Words_2019_cnt = Word_count(Words_2019)\n",
        "#Words_2020_cnt = Word_count(Words_2020)"
      ],
      "execution_count": 6,
      "outputs": []
    },
    {
      "cell_type": "code",
      "metadata": {
        "id": "kZA9_LMs0wJL"
      },
      "source": [
        "# 저장\n",
        "Words_cnt.to_csv(\"단어빈도.csv\")\n",
        "#Words_2019_cnt.to_csv(\"./단어빈도/단어빈도_2019.csv\",encoding=\"cp949\")\n",
        "#Words_2020_cnt.to_csv(\"./단어빈도/단어빈도_2020.csv\",encoding=\"cp949\")"
      ],
      "execution_count": 7,
      "outputs": []
    },
    {
      "cell_type": "markdown",
      "metadata": {
        "id": "H8mDRKrZ0wJM"
      },
      "source": [
        "- 각 문서 단어빈도 => 각 문서 단어빈도 차이가 심하기 때문에 워드 임베딩 해야함"
      ]
    },
    {
      "cell_type": "code",
      "metadata": {
        "colab": {
          "base_uri": "https://localhost:8080/",
          "height": 987
        },
        "id": "SDbITMVM0wJN",
        "outputId": "f707b4ce-1b06-445e-a12f-8d0cf6d9fbaf"
      },
      "source": [
        "import matplotlib.pyplot as plt\n",
        "plt.rcParams[\"font.family\"] = 'NanumGothic'\n",
        "plt.rcParams['axes.unicode_minus'] = False\n",
        "\n",
        "tf_of_doc = [len(x) for x in Corpus_all[\"키워드\"]]\n",
        "print(pd.Series(tf_of_doc).describe())\n",
        "plt.hist(tf_of_doc)\n",
        "plt.title(\"각 문서 단어빈도\")\n",
        "plt.show()"
      ],
      "execution_count": 8,
      "outputs": [
        {
          "output_type": "stream",
          "text": [
            "findfont: Font family ['NanumGothic'] not found. Falling back to DejaVu Sans.\n",
            "/usr/local/lib/python3.7/dist-packages/matplotlib/backends/backend_agg.py:214: RuntimeWarning: Glyph 44033 missing from current font.\n",
            "  font.set_text(s, 0.0, flags=flags)\n",
            "/usr/local/lib/python3.7/dist-packages/matplotlib/backends/backend_agg.py:214: RuntimeWarning: Glyph 47928 missing from current font.\n",
            "  font.set_text(s, 0.0, flags=flags)\n",
            "/usr/local/lib/python3.7/dist-packages/matplotlib/backends/backend_agg.py:214: RuntimeWarning: Glyph 49436 missing from current font.\n",
            "  font.set_text(s, 0.0, flags=flags)\n",
            "/usr/local/lib/python3.7/dist-packages/matplotlib/backends/backend_agg.py:214: RuntimeWarning: Glyph 45800 missing from current font.\n",
            "  font.set_text(s, 0.0, flags=flags)\n",
            "/usr/local/lib/python3.7/dist-packages/matplotlib/backends/backend_agg.py:214: RuntimeWarning: Glyph 50612 missing from current font.\n",
            "  font.set_text(s, 0.0, flags=flags)\n",
            "/usr/local/lib/python3.7/dist-packages/matplotlib/backends/backend_agg.py:214: RuntimeWarning: Glyph 48712 missing from current font.\n",
            "  font.set_text(s, 0.0, flags=flags)\n",
            "/usr/local/lib/python3.7/dist-packages/matplotlib/backends/backend_agg.py:214: RuntimeWarning: Glyph 46020 missing from current font.\n",
            "  font.set_text(s, 0.0, flags=flags)\n",
            "findfont: Font family ['NanumGothic'] not found. Falling back to DejaVu Sans.\n"
          ],
          "name": "stderr"
        },
        {
          "output_type": "stream",
          "text": [
            "count    5529.000000\n",
            "mean      722.797613\n",
            "std       428.895850\n",
            "min        21.000000\n",
            "25%       458.000000\n",
            "50%       633.000000\n",
            "75%       885.000000\n",
            "max      5430.000000\n",
            "dtype: float64\n"
          ],
          "name": "stdout"
        },
        {
          "output_type": "stream",
          "text": [
            "/usr/local/lib/python3.7/dist-packages/matplotlib/backends/backend_agg.py:183: RuntimeWarning: Glyph 44033 missing from current font.\n",
            "  font.set_text(s, 0, flags=flags)\n",
            "/usr/local/lib/python3.7/dist-packages/matplotlib/backends/backend_agg.py:183: RuntimeWarning: Glyph 47928 missing from current font.\n",
            "  font.set_text(s, 0, flags=flags)\n",
            "/usr/local/lib/python3.7/dist-packages/matplotlib/backends/backend_agg.py:183: RuntimeWarning: Glyph 49436 missing from current font.\n",
            "  font.set_text(s, 0, flags=flags)\n",
            "/usr/local/lib/python3.7/dist-packages/matplotlib/backends/backend_agg.py:183: RuntimeWarning: Glyph 45800 missing from current font.\n",
            "  font.set_text(s, 0, flags=flags)\n",
            "/usr/local/lib/python3.7/dist-packages/matplotlib/backends/backend_agg.py:183: RuntimeWarning: Glyph 50612 missing from current font.\n",
            "  font.set_text(s, 0, flags=flags)\n",
            "/usr/local/lib/python3.7/dist-packages/matplotlib/backends/backend_agg.py:183: RuntimeWarning: Glyph 48712 missing from current font.\n",
            "  font.set_text(s, 0, flags=flags)\n",
            "/usr/local/lib/python3.7/dist-packages/matplotlib/backends/backend_agg.py:183: RuntimeWarning: Glyph 46020 missing from current font.\n",
            "  font.set_text(s, 0, flags=flags)\n"
          ],
          "name": "stderr"
        },
        {
          "output_type": "display_data",
          "data": {
            "image/png": "[encoded data removed]",
            "text/plain": [
              "<Figure size 432x288 with 1 Axes>"
            ]
          },
          "metadata": {
            "tags": [],
            "needs_background": "light"
          }
        }
      ]
    },
    {
      "cell_type": "code",
      "metadata": {
        "colab": {
          "base_uri": "https://localhost:8080/"
        },
        "id": "vnFckJUA0wJN",
        "outputId": "c7b5833a-4ef4-4b4c-9618-bb5582f150b8"
      },
      "source": [
        "temp = list(Corpus_all[\"키워드\"])\n",
        "sum([1 if len(x)>700 else 0 for x in temp])"
      ],
      "execution_count": 9,
      "outputs": [
        {
          "output_type": "execute_result",
          "data": {
            "text/plain": [
              "2287"
            ]
          },
          "metadata": {
            "tags": []
          },
          "execution_count": 9
        }
      ]
    },
    {
      "cell_type": "code",
      "metadata": {
        "id": "1tvXmRy-0wJO"
      },
      "source": [
        "temp = list(Corpus_all[\"키워드\"])\n",
        "temp = [x[:700] if len(x)>700 else x for x in temp]\n",
        "Corpus_all[\"키워드\"] = temp"
      ],
      "execution_count": 10,
      "outputs": []
    },
    {
      "cell_type": "code",
      "metadata": {
        "colab": {
          "base_uri": "https://localhost:8080/",
          "height": 951
        },
        "id": "ZjHuijt00wJO",
        "outputId": "8c69d159-3d1d-413a-96fb-08ad94084499"
      },
      "source": [
        "import matplotlib.pyplot as plt\n",
        "plt.rcParams[\"font.family\"] = 'NanumGothic'\n",
        "plt.rcParams['axes.unicode_minus'] = False\n",
        "\n",
        "tf_of_doc = [len(x) for x in Corpus_all[\"키워드\"]]\n",
        "print(pd.Series(tf_of_doc).describe())\n",
        "plt.hist(tf_of_doc)\n",
        "plt.title(\"각 문서 단어빈도\")\n",
        "plt.show()"
      ],
      "execution_count": 11,
      "outputs": [
        {
          "output_type": "stream",
          "text": [
            "/usr/local/lib/python3.7/dist-packages/matplotlib/backends/backend_agg.py:214: RuntimeWarning: Glyph 44033 missing from current font.\n",
            "  font.set_text(s, 0.0, flags=flags)\n",
            "/usr/local/lib/python3.7/dist-packages/matplotlib/backends/backend_agg.py:214: RuntimeWarning: Glyph 47928 missing from current font.\n",
            "  font.set_text(s, 0.0, flags=flags)\n",
            "/usr/local/lib/python3.7/dist-packages/matplotlib/backends/backend_agg.py:214: RuntimeWarning: Glyph 49436 missing from current font.\n",
            "  font.set_text(s, 0.0, flags=flags)\n",
            "/usr/local/lib/python3.7/dist-packages/matplotlib/backends/backend_agg.py:214: RuntimeWarning: Glyph 45800 missing from current font.\n",
            "  font.set_text(s, 0.0, flags=flags)\n",
            "/usr/local/lib/python3.7/dist-packages/matplotlib/backends/backend_agg.py:214: RuntimeWarning: Glyph 50612 missing from current font.\n",
            "  font.set_text(s, 0.0, flags=flags)\n",
            "/usr/local/lib/python3.7/dist-packages/matplotlib/backends/backend_agg.py:214: RuntimeWarning: Glyph 48712 missing from current font.\n",
            "  font.set_text(s, 0.0, flags=flags)\n",
            "/usr/local/lib/python3.7/dist-packages/matplotlib/backends/backend_agg.py:214: RuntimeWarning: Glyph 46020 missing from current font.\n",
            "  font.set_text(s, 0.0, flags=flags)\n"
          ],
          "name": "stderr"
        },
        {
          "output_type": "stream",
          "text": [
            "count    5529.000000\n",
            "mean      567.413095\n",
            "std       156.763463\n",
            "min        21.000000\n",
            "25%       458.000000\n",
            "50%       633.000000\n",
            "75%       700.000000\n",
            "max       700.000000\n",
            "dtype: float64\n"
          ],
          "name": "stdout"
        },
        {
          "output_type": "stream",
          "text": [
            "/usr/local/lib/python3.7/dist-packages/matplotlib/backends/backend_agg.py:183: RuntimeWarning: Glyph 44033 missing from current font.\n",
            "  font.set_text(s, 0, flags=flags)\n",
            "/usr/local/lib/python3.7/dist-packages/matplotlib/backends/backend_agg.py:183: RuntimeWarning: Glyph 47928 missing from current font.\n",
            "  font.set_text(s, 0, flags=flags)\n",
            "/usr/local/lib/python3.7/dist-packages/matplotlib/backends/backend_agg.py:183: RuntimeWarning: Glyph 49436 missing from current font.\n",
            "  font.set_text(s, 0, flags=flags)\n",
            "/usr/local/lib/python3.7/dist-packages/matplotlib/backends/backend_agg.py:183: RuntimeWarning: Glyph 45800 missing from current font.\n",
            "  font.set_text(s, 0, flags=flags)\n",
            "/usr/local/lib/python3.7/dist-packages/matplotlib/backends/backend_agg.py:183: RuntimeWarning: Glyph 50612 missing from current font.\n",
            "  font.set_text(s, 0, flags=flags)\n",
            "/usr/local/lib/python3.7/dist-packages/matplotlib/backends/backend_agg.py:183: RuntimeWarning: Glyph 48712 missing from current font.\n",
            "  font.set_text(s, 0, flags=flags)\n",
            "/usr/local/lib/python3.7/dist-packages/matplotlib/backends/backend_agg.py:183: RuntimeWarning: Glyph 46020 missing from current font.\n",
            "  font.set_text(s, 0, flags=flags)\n"
          ],
          "name": "stderr"
        },
        {
          "output_type": "display_data",
          "data": {
            "image/png": "[encoded data removed]",
            "text/plain": [
              "<Figure size 432x288 with 1 Axes>"
            ]
          },
          "metadata": {
            "tags": [],
            "needs_background": "light"
          }
        }
      ]
    },
    {
      "cell_type": "markdown",
      "metadata": {
        "id": "2NbIHeGP0wJO"
      },
      "source": [
        "---\n",
        "# TF-IDF\n",
        "사이킷런은 TF-IDF를 자동 계산해주는 TfidfVectorizer를 제공"
      ]
    },
    {
      "cell_type": "code",
      "metadata": {
        "id": "lrkrVHNS0wJP"
      },
      "source": [
        "from sklearn.feature_extraction.text import TfidfVectorizer"
      ],
      "execution_count": 12,
      "outputs": []
    },
    {
      "cell_type": "code",
      "metadata": {
        "id": "04S_u_R90wJP"
      },
      "source": [
        "def TF_IDF(data,Words_cnt,path_savefile):\n",
        "    tf_idf = [\" \".join(x) for x in list(data)]\n",
        "    tfidfv = TfidfVectorizer().fit(tf_idf)\n",
        "    tf_idf = tfidfv.transform(tf_idf).toarray()\n",
        "    #print(tf_idf)\n",
        "    return tf_idf\n",
        "    \"\"\"\n",
        "    colnames = pd.DataFrame(tfidfv.vocabulary_.keys())\n",
        "    colnames.index = list(tfidfv.vocabulary_.values())\n",
        "    colnames = colnames.sort_index()\n",
        "    colnames[\"tf_idf\"] = tf_idf.sum(axis=0)\n",
        "    colnames.columns = [\"단어\",\"tf-idf\"]\n",
        "    colnames[\"개수\"] = [Words_cnt.loc[x][0] for x in colnames[\"단어\"]]\n",
        "    sum_cnt = sum(colnames[\"개수\"])\n",
        "    colnames[\"퍼센트\"] = [\"{:.2f}\".format(x/sum_cnt*100) for x in colnames[\"개수\"]]\n",
        "    colnames.to_csv(path_savefile,index=False)\n",
        "    \"\"\""
      ],
      "execution_count": 13,
      "outputs": []
    },
    {
      "cell_type": "code",
      "metadata": {
        "id": "pkgPdmnQ0wJP"
      },
      "source": [
        "tf_idf = TF_IDF(Words,Words_cnt,\"tf_idf.csv\")\n",
        "#TF_IDF(Words_2019,Words_2019_cnt,\"./tf_idf/tf_idf_2019.csv\")\n",
        "#TF_IDF(Words_2020,Words_2020_cnt,\"./tf_idf/tf_idf_2020.csv\")"
      ],
      "execution_count": 14,
      "outputs": []
    },
    {
      "cell_type": "code",
      "metadata": {
        "colab": {
          "base_uri": "https://localhost:8080/"
        },
        "id": "0N21FqllC2T8",
        "outputId": "a5f2f7d2-9f27-4097-f7ee-01980f9a93f4"
      },
      "source": [
        "print(type(tf_idf))\n",
        "print(tf_idf.shape)"
      ],
      "execution_count": 15,
      "outputs": [
        {
          "output_type": "stream",
          "text": [
            "<class 'numpy.ndarray'>\n",
            "(5529, 61293)\n"
          ],
          "name": "stdout"
        }
      ]
    },
    {
      "cell_type": "markdown",
      "metadata": {
        "id": "n4b6_RB60wJP"
      },
      "source": [
        "# LDA"
      ]
    },
    {
      "cell_type": "code",
      "metadata": {
        "id": "NFJz0LAKC2T-"
      },
      "source": [
        ""
      ],
      "execution_count": 15,
      "outputs": []
    },
    {
      "cell_type": "code",
      "metadata": {
        "id": "cg4DGne90wJQ"
      },
      "source": [
        "from sklearn.feature_extraction.text import TfidfVectorizer\n",
        "from collections import defaultdict\n",
        "import pandas as pd\n",
        "from sklearn.decomposition import LatentDirichletAllocation\n",
        "import pickle\n",
        "from gensim import corpora\n",
        "import gensim\n"
      ],
      "execution_count": 16,
      "outputs": []
    },
    {
      "cell_type": "code",
      "metadata": {
        "id": "yCpL6iqA0wJQ"
      },
      "source": [
        "class LDA_model:\n",
        "    def __init__(self,corpus):\n",
        "        self.corpus = corpus\n",
        "        return;\n",
        "    def mk_detokenized_doc(self):\n",
        "        self.detokenized_doc = []\n",
        "        for i in range(len(self.corpus)):\n",
        "            try:\n",
        "                t = ' '.join(self.corpus.iloc[i])\n",
        "                self.detokenized_doc.append(t)\n",
        "            except:\n",
        "                print(i)\n",
        "        return;\n",
        "    def tf_idf_vector(self,max_features):\n",
        "        self.vectorizer = TfidfVectorizer(max_features= max_features) # 상위 1000개의 단어 보존\n",
        "        self.X = self.vectorizer.fit_transform(self.detokenized_doc)\n",
        "        return;\n",
        "    def mk_word2id(self):\n",
        "        self.word2id = defaultdict(lambda : 0)\n",
        "        for idx, feature in enumerate(self.vectorizer.get_feature_names()):\n",
        "            self.word2id[feature] = idx\n",
        "        return;\n",
        "    def print_word2id(self,n=1):\n",
        "        for i, sent in enumerate(self.detokenized_doc):\n",
        "            print('====== document[%d] ======' % i)\n",
        "            print( [ (token, self.X[i, self.word2id[token]]) for token in sent.split() ] )\n",
        "            if i==n:\n",
        "                break\n",
        "        return;\n",
        "    def mk_lda_model(self,n_topic=10,max_iter=1):\n",
        "        self.lda_model=LatentDirichletAllocation(n_components=n_topic,learning_method='online',random_state=777,max_iter=max_iter)\n",
        "        self.lda_top=self.lda_model.fit_transform(self.X)\n",
        "        return;\n",
        "    def print_lda(self):\n",
        "        print(\"-------------------------------------\")\n",
        "        print(self.lda_model.components_)\n",
        "        print(self.lda_model.components_.shape) \n",
        "        return;\n",
        "    def print_topic_lda(self,n=5):\n",
        "        print(\"-------------------------------------\")\n",
        "        terms = self.vectorizer.get_feature_names() # 단어 집합. 1,000개의 단어가 저장됨.\n",
        "        for idx, topic in enumerate(self.lda_model.components_):\n",
        "            print(\"Topic %d:\" % (idx+1), [(terms[i], topic[i].round(2)) for i in topic.argsort()[:-n - 1:-1]])\n",
        "        return;"
      ],
      "execution_count": 17,
      "outputs": []
    },
    {
      "cell_type": "code",
      "metadata": {
        "id": "3dZmh7VX0wJQ"
      },
      "source": [
        "model_all = LDA_model(Words)"
      ],
      "execution_count": 18,
      "outputs": []
    },
    {
      "cell_type": "markdown",
      "metadata": {
        "id": "WOsm3Afl0wJR"
      },
      "source": [
        "# LDA 시각화"
      ]
    },
    {
      "cell_type": "markdown",
      "metadata": {
        "id": "Lwl83ZDB0wJR"
      },
      "source": [
        "- 토픽별 단어 분포"
      ]
    },
    {
      "cell_type": "code",
      "metadata": {
        "colab": {
          "base_uri": "https://localhost:8080/"
        },
        "id": "iqO5mKm_D3Nq",
        "outputId": "abe7295e-ac37-4518-f947-763584fa3b08"
      },
      "source": [
        "!pip install pyLDAvis"
      ],
      "execution_count": 19,
      "outputs": [
        {
          "output_type": "stream",
          "text": [
            "Requirement already satisfied: pyLDAvis in /usr/local/lib/python3.7/dist-packages (3.3.1)\n",
            "Requirement already satisfied: setuptools in /usr/local/lib/python3.7/dist-packages (from pyLDAvis) (57.2.0)\n",
            "Requirement already satisfied: sklearn in /usr/local/lib/python3.7/dist-packages (from pyLDAvis) (0.0)\n",
            "Requirement already satisfied: scipy in /usr/local/lib/python3.7/dist-packages (from pyLDAvis) (1.4.1)\n",
            "Requirement already satisfied: joblib in /usr/local/lib/python3.7/dist-packages (from pyLDAvis) (1.0.1)\n",
            "Requirement already satisfied: gensim in /usr/local/lib/python3.7/dist-packages (from pyLDAvis) (3.6.0)\n",
            "Requirement already satisfied: jinja2 in /usr/local/lib/python3.7/dist-packages (from pyLDAvis) (2.11.3)\n",
            "Requirement already satisfied: numexpr in /usr/local/lib/python3.7/dist-packages (from pyLDAvis) (2.7.3)\n",
            "Requirement already satisfied: future in /usr/local/lib/python3.7/dist-packages (from pyLDAvis) (0.16.0)\n",
            "Requirement already satisfied: numpy>=1.20.0 in /usr/local/lib/python3.7/dist-packages (from pyLDAvis) (1.21.1)\n",
            "Requirement already satisfied: scikit-learn in /usr/local/lib/python3.7/dist-packages (from pyLDAvis) (0.22.2.post1)\n",
            "Requirement already satisfied: pandas>=1.2.0 in /usr/local/lib/python3.7/dist-packages (from pyLDAvis) (1.3.1)\n",
            "Requirement already satisfied: funcy in /usr/local/lib/python3.7/dist-packages (from pyLDAvis) (1.16)\n",
            "Requirement already satisfied: pytz>=2017.3 in /usr/local/lib/python3.7/dist-packages (from pandas>=1.2.0->pyLDAvis) (2018.9)\n",
            "Requirement already satisfied: python-dateutil>=2.7.3 in /usr/local/lib/python3.7/dist-packages (from pandas>=1.2.0->pyLDAvis) (2.8.1)\n",
            "Requirement already satisfied: six>=1.5 in /usr/local/lib/python3.7/dist-packages (from python-dateutil>=2.7.3->pandas>=1.2.0->pyLDAvis) (1.15.0)\n",
            "Requirement already satisfied: smart-open>=1.2.1 in /usr/local/lib/python3.7/dist-packages (from gensim->pyLDAvis) (5.1.0)\n",
            "Requirement already satisfied: MarkupSafe>=0.23 in /usr/local/lib/python3.7/dist-packages (from jinja2->pyLDAvis) (2.0.1)\n"
          ],
          "name": "stdout"
        }
      ]
    },
    {
      "cell_type": "code",
      "metadata": {
        "id": "KOjVHLSR0wJS",
        "colab": {
          "base_uri": "https://localhost:8080/"
        },
        "outputId": "2c7d442f-f828-4ab2-a305-6c2c1908cc02"
      },
      "source": [
        "dictionary = corpora.Dictionary(model_all.corpus)\n",
        "corpus = [dictionary.doc2bow(text) for text in model_all.corpus]\n",
        "NUM_TOPICS = 6\n",
        "num_words = 30\n",
        "ldamodel = gensim.models.ldamodel.LdaModel(corpus, num_topics = NUM_TOPICS, id2word=dictionary, passes=15)\n",
        "topics = ldamodel.print_topics(num_words=num_words)\n",
        "for topic in topics:\n",
        "    print(topic)\n",
        "dictionary.save('dictionary_전처리.gensim')\n",
        "pickle.dump(corpus, open('corpus_전처리.pkl', 'wb'))\n",
        "ldamodel.save('gensim_model_전처리.gensim')"
      ],
      "execution_count": 20,
      "outputs": [
        {
          "output_type": "stream",
          "text": [
            "(0, '0.012*\"세트\" + 0.011*\"판매\" + 0.010*\"진행\" + 0.009*\"행사\" + 0.009*\"선물\" + 0.008*\"할인\" + 0.008*\"상품\" + 0.008*\"밀키트\" + 0.006*\"준비\" + 0.006*\"이벤트\" + 0.006*\"방송\" + 0.005*\"명절\" + 0.005*\"구성\" + 0.005*\"제공\" + 0.004*\"인기\" + 0.004*\"최대\" + 0.004*\"크리스마스\" + 0.004*\"산천어\" + 0.004*\"추석\" + 0.004*\"구매\" + 0.004*\"고객\" + 0.004*\"홈파티\" + 0.004*\"캠핑\" + 0.004*\"브랜드\" + 0.004*\"연말\" + 0.003*\"프로그램\" + 0.003*\"요리\" + 0.003*\"온라인\" + 0.003*\"참여\" + 0.003*\"라이브\"')\n",
            "(1, '0.017*\"상품\" + 0.016*\"매출\" + 0.012*\"증가\" + 0.011*\"배송\" + 0.010*\"판매\" + 0.009*\"코로나19\" + 0.009*\"온라인\" + 0.009*\"대비\" + 0.007*\"밀키트\" + 0.007*\"주문\" + 0.007*\"이마트\" + 0.006*\"구매\" + 0.006*\"식품\" + 0.005*\"기간\" + 0.005*\"수요\" + 0.005*\"매장\" + 0.005*\"가격\" + 0.005*\"고객\" + 0.005*\"서비스\" + 0.004*\"소비\" + 0.004*\"인기\" + 0.004*\"할인\" + 0.004*\"새벽\" + 0.004*\"SSG닷컴\" + 0.004*\"확대\" + 0.004*\"간편식\" + 0.003*\"배달\" + 0.003*\"선물\" + 0.003*\"관계자\" + 0.003*\"지역\"')\n",
            "(2, '0.024*\"서비스\" + 0.017*\"배송\" + 0.014*\"고객\" + 0.012*\"상품\" + 0.011*\"GS리테일\" + 0.010*\"배달\" + 0.009*\"심플리쿡\" + 0.009*\"제품\" + 0.009*\"GS\" + 0.008*\"주문\" + 0.008*\"한국야쿠르트\" + 0.007*\"제공\" + 0.006*\"밀키트\" + 0.006*\"확대\" + 0.006*\"브랜드\" + 0.006*\"온라인\" + 0.005*\"운영\" + 0.005*\"판매\" + 0.005*\"GS25\" + 0.005*\"매장\" + 0.005*\"소비자\" + 0.005*\"계획\" + 0.004*\"시장\" + 0.004*\"모바일\" + 0.004*\"오프라인\" + 0.004*\"구독\" + 0.004*\"이용\" + 0.004*\"구매\" + 0.004*\"시작\" + 0.004*\"편의점\"')\n",
            "(3, '0.013*\"투자\" + 0.012*\"사업\" + 0.012*\"기업\" + 0.008*\"밀키트\" + 0.008*\"시장\" + 0.008*\"대표\" + 0.007*\"프레시지\" + 0.007*\"온라인\" + 0.006*\"스타트업\" + 0.006*\"지원\" + 0.006*\"업체\" + 0.005*\"성장\" + 0.005*\"유통\" + 0.004*\"코로나19\" + 0.004*\"플랫폼\" + 0.004*\"운영\" + 0.004*\"계획\" + 0.003*\"지역\" + 0.003*\"판매\" + 0.003*\"제품\" + 0.003*\"확대\" + 0.003*\"매출\" + 0.003*\"생산\" + 0.003*\"회사\" + 0.003*\"활용\" + 0.003*\"규모\" + 0.003*\"진행\" + 0.003*\"선정\" + 0.003*\"소상공인\" + 0.003*\"수산물\"')\n",
            "(4, '0.034*\"밀키트\" + 0.018*\"제품\" + 0.015*\"시장\" + 0.015*\"요리\" + 0.011*\"메뉴\" + 0.011*\"출시\" + 0.010*\"간편식\" + 0.007*\"브랜드\" + 0.007*\"조리\" + 0.006*\"식품\" + 0.006*\"음식\" + 0.006*\"판매\" + 0.006*\"식재료\" + 0.005*\"재료\" + 0.005*\"셰프\" + 0.005*\"인기\" + 0.005*\"레시피\" + 0.005*\"가정\" + 0.004*\"소비자\" + 0.004*\"소스\" + 0.004*\"손질\" + 0.004*\"성장\" + 0.004*\"프리미엄\" + 0.004*\"CJ제일제당\" + 0.004*\"상품\" + 0.003*\"구성\" + 0.003*\"식사\" + 0.003*\"매출\" + 0.003*\"트렌드\" + 0.003*\"스테이크\"')\n",
            "(5, '0.011*\"지원\" + 0.008*\"식품\" + 0.007*\"사업\" + 0.007*\"지역\" + 0.006*\"기업\" + 0.006*\"밀키트\" + 0.005*\"코로나19\" + 0.005*\"대표\" + 0.005*\"사회\" + 0.005*\"경제\" + 0.004*\"산업\" + 0.004*\"공간\" + 0.004*\"시장\" + 0.004*\"소상공인\" + 0.004*\"창업\" + 0.004*\"가구\" + 0.004*\"선정\" + 0.003*\"제품\" + 0.003*\"정부\" + 0.003*\"센터\" + 0.003*\"생산\" + 0.003*\"변화\" + 0.003*\"계획\" + 0.003*\"분야\" + 0.003*\"가치\" + 0.003*\"진행\" + 0.002*\"대상\" + 0.002*\"운영\" + 0.002*\"판매\" + 0.002*\"확대\"')\n"
          ],
          "name": "stdout"
        }
      ]
    },
    {
      "cell_type": "code",
      "metadata": {
        "colab": {
          "base_uri": "https://localhost:8080/"
        },
        "id": "UvYv7eWVC2UF",
        "outputId": "ace0aff2-cf7b-4742-9afa-207a62ecac21"
      },
      "source": [
        "import pyLDAvis\n",
        "import pyLDAvis.gensim_models\n",
        "pyLDAvis.enable_notebook()\n",
        "vis = pyLDAvis.gensim_models.prepare(ldamodel, corpus, dictionary)\n",
        "pyLDAvis.save_html(vis,\"lda_전처리.html\")"
      ],
      "execution_count": 21,
      "outputs": [
        {
          "output_type": "stream",
          "text": [
            "/usr/local/lib/python3.7/dist-packages/past/types/oldstr.py:5: DeprecationWarning: Using or importing the ABCs from 'collections' instead of from 'collections.abc' is deprecated since Python 3.3,and in 3.9 it will stop working\n",
            "  from collections import Iterable\n",
            "/usr/local/lib/python3.7/dist-packages/pyLDAvis/_prepare.py:247: FutureWarning: In a future version of pandas all arguments of DataFrame.drop except for the argument 'labels' will be keyword-only\n",
            "  by='saliency', ascending=False).head(R).drop('saliency', 1)\n"
          ],
          "name": "stderr"
        }
      ]
    },
    {
      "cell_type": "code",
      "metadata": {
        "id": "hW-8Ng220wJT",
        "colab": {
          "base_uri": "https://localhost:8080/"
        },
        "outputId": "d6570bc0-edb2-477e-82b0-9c47554339e8"
      },
      "source": [
        "len(dictionary) # 각 단어의 정수형 표시"
      ],
      "execution_count": 22,
      "outputs": [
        {
          "output_type": "execute_result",
          "data": {
            "text/plain": [
              "63967"
            ]
          },
          "metadata": {
            "tags": []
          },
          "execution_count": 22
        }
      ]
    },
    {
      "cell_type": "code",
      "metadata": {
        "id": "VnjLTNhz0wJT",
        "colab": {
          "base_uri": "https://localhost:8080/"
        },
        "outputId": "3d766a7c-d22d-4892-af6a-b486bf1d3e1b"
      },
      "source": [
        "NUM_TOPICS = 6\n",
        "num_words = 30\n",
        "#ldamodel = gensim.models.ldamodel.LdaModel(corpus, num_topics = NUM_TOPICS, id2word=dictionary, passes=15)\n",
        "topics = ldamodel.print_topics(num_words=num_words)\n",
        "for topic in topics:\n",
        "    print(topic)"
      ],
      "execution_count": 23,
      "outputs": [
        {
          "output_type": "stream",
          "text": [
            "(0, '0.012*\"세트\" + 0.011*\"판매\" + 0.010*\"진행\" + 0.009*\"행사\" + 0.009*\"선물\" + 0.008*\"할인\" + 0.008*\"상품\" + 0.008*\"밀키트\" + 0.006*\"준비\" + 0.006*\"이벤트\" + 0.006*\"방송\" + 0.005*\"명절\" + 0.005*\"구성\" + 0.005*\"제공\" + 0.004*\"인기\" + 0.004*\"최대\" + 0.004*\"크리스마스\" + 0.004*\"산천어\" + 0.004*\"추석\" + 0.004*\"구매\" + 0.004*\"고객\" + 0.004*\"홈파티\" + 0.004*\"캠핑\" + 0.004*\"브랜드\" + 0.004*\"연말\" + 0.003*\"프로그램\" + 0.003*\"요리\" + 0.003*\"온라인\" + 0.003*\"참여\" + 0.003*\"라이브\"')\n",
            "(1, '0.017*\"상품\" + 0.016*\"매출\" + 0.012*\"증가\" + 0.011*\"배송\" + 0.010*\"판매\" + 0.009*\"코로나19\" + 0.009*\"온라인\" + 0.009*\"대비\" + 0.007*\"밀키트\" + 0.007*\"주문\" + 0.007*\"이마트\" + 0.006*\"구매\" + 0.006*\"식품\" + 0.005*\"기간\" + 0.005*\"수요\" + 0.005*\"매장\" + 0.005*\"가격\" + 0.005*\"고객\" + 0.005*\"서비스\" + 0.004*\"소비\" + 0.004*\"인기\" + 0.004*\"할인\" + 0.004*\"새벽\" + 0.004*\"SSG닷컴\" + 0.004*\"확대\" + 0.004*\"간편식\" + 0.003*\"배달\" + 0.003*\"선물\" + 0.003*\"관계자\" + 0.003*\"지역\"')\n",
            "(2, '0.024*\"서비스\" + 0.017*\"배송\" + 0.014*\"고객\" + 0.012*\"상품\" + 0.011*\"GS리테일\" + 0.010*\"배달\" + 0.009*\"심플리쿡\" + 0.009*\"제품\" + 0.009*\"GS\" + 0.008*\"주문\" + 0.008*\"한국야쿠르트\" + 0.007*\"제공\" + 0.006*\"밀키트\" + 0.006*\"확대\" + 0.006*\"브랜드\" + 0.006*\"온라인\" + 0.005*\"운영\" + 0.005*\"판매\" + 0.005*\"GS25\" + 0.005*\"매장\" + 0.005*\"소비자\" + 0.005*\"계획\" + 0.004*\"시장\" + 0.004*\"모바일\" + 0.004*\"오프라인\" + 0.004*\"구독\" + 0.004*\"이용\" + 0.004*\"구매\" + 0.004*\"시작\" + 0.004*\"편의점\"')\n",
            "(3, '0.013*\"투자\" + 0.012*\"사업\" + 0.012*\"기업\" + 0.008*\"밀키트\" + 0.008*\"시장\" + 0.008*\"대표\" + 0.007*\"프레시지\" + 0.007*\"온라인\" + 0.006*\"스타트업\" + 0.006*\"지원\" + 0.006*\"업체\" + 0.005*\"성장\" + 0.005*\"유통\" + 0.004*\"코로나19\" + 0.004*\"플랫폼\" + 0.004*\"운영\" + 0.004*\"계획\" + 0.003*\"지역\" + 0.003*\"판매\" + 0.003*\"제품\" + 0.003*\"확대\" + 0.003*\"매출\" + 0.003*\"생산\" + 0.003*\"회사\" + 0.003*\"활용\" + 0.003*\"규모\" + 0.003*\"진행\" + 0.003*\"선정\" + 0.003*\"소상공인\" + 0.003*\"수산물\"')\n",
            "(4, '0.034*\"밀키트\" + 0.018*\"제품\" + 0.015*\"시장\" + 0.015*\"요리\" + 0.011*\"메뉴\" + 0.011*\"출시\" + 0.010*\"간편식\" + 0.007*\"브랜드\" + 0.007*\"조리\" + 0.006*\"식품\" + 0.006*\"음식\" + 0.006*\"판매\" + 0.006*\"식재료\" + 0.005*\"재료\" + 0.005*\"셰프\" + 0.005*\"인기\" + 0.005*\"레시피\" + 0.005*\"가정\" + 0.004*\"소비자\" + 0.004*\"소스\" + 0.004*\"손질\" + 0.004*\"성장\" + 0.004*\"프리미엄\" + 0.004*\"CJ제일제당\" + 0.004*\"상품\" + 0.003*\"구성\" + 0.003*\"식사\" + 0.003*\"매출\" + 0.003*\"트렌드\" + 0.003*\"스테이크\"')\n",
            "(5, '0.011*\"지원\" + 0.008*\"식품\" + 0.007*\"사업\" + 0.007*\"지역\" + 0.006*\"기업\" + 0.006*\"밀키트\" + 0.005*\"코로나19\" + 0.005*\"대표\" + 0.005*\"사회\" + 0.005*\"경제\" + 0.004*\"산업\" + 0.004*\"공간\" + 0.004*\"시장\" + 0.004*\"소상공인\" + 0.004*\"창업\" + 0.004*\"가구\" + 0.004*\"선정\" + 0.003*\"제품\" + 0.003*\"정부\" + 0.003*\"센터\" + 0.003*\"생산\" + 0.003*\"변화\" + 0.003*\"계획\" + 0.003*\"분야\" + 0.003*\"가치\" + 0.003*\"진행\" + 0.002*\"대상\" + 0.002*\"운영\" + 0.002*\"판매\" + 0.002*\"확대\"')\n"
          ],
          "name": "stdout"
        }
      ]
    },
    {
      "cell_type": "code",
      "metadata": {
        "id": "2a0PAg4m0wJU",
        "colab": {
          "base_uri": "https://localhost:8080/"
        },
        "outputId": "1655a8d3-5460-4599-ac99-2419bc302291"
      },
      "source": [
        "dictionary.save('dictionary_전처리.gensim')\n",
        "pickle.dump(corpus, open('corpus_전처리.pkl', 'wb'))\n",
        "ldamodel.save('gensim_model_전처리.gensim')"
      ],
      "execution_count": 24,
      "outputs": [
        {
          "output_type": "stream",
          "text": [
            "/usr/local/lib/python3.7/dist-packages/smart_open/smart_open_lib.py:494: DeprecationWarning: This function is deprecated.  See https://github.com/RaRe-Technologies/smart_open/blob/develop/MIGRATING_FROM_OLDER_VERSIONS.rst for more information\n",
            "  warnings.warn(message, category=DeprecationWarning)\n",
            "/usr/local/lib/python3.7/dist-packages/smart_open/smart_open_lib.py:494: DeprecationWarning: This function is deprecated.  See https://github.com/RaRe-Technologies/smart_open/blob/develop/MIGRATING_FROM_OLDER_VERSIONS.rst for more information\n",
            "  warnings.warn(message, category=DeprecationWarning)\n",
            "/usr/local/lib/python3.7/dist-packages/smart_open/smart_open_lib.py:494: DeprecationWarning: This function is deprecated.  See https://github.com/RaRe-Technologies/smart_open/blob/develop/MIGRATING_FROM_OLDER_VERSIONS.rst for more information\n",
            "  warnings.warn(message, category=DeprecationWarning)\n",
            "/usr/local/lib/python3.7/dist-packages/smart_open/smart_open_lib.py:494: DeprecationWarning: This function is deprecated.  See https://github.com/RaRe-Technologies/smart_open/blob/develop/MIGRATING_FROM_OLDER_VERSIONS.rst for more information\n",
            "  warnings.warn(message, category=DeprecationWarning)\n"
          ],
          "name": "stderr"
        }
      ]
    },
    {
      "cell_type": "markdown",
      "metadata": {
        "id": "8UOWFO2P0wJU"
      },
      "source": [
        "---\n",
        "# 불러와서 분석"
      ]
    },
    {
      "cell_type": "code",
      "metadata": {
        "id": "zdK4rGo40wJU",
        "colab": {
          "base_uri": "https://localhost:8080/"
        },
        "outputId": "9f30222c-d1f2-40dc-e124-24416c3c23c1"
      },
      "source": [
        "dictionary = gensim.corpora.Dictionary.load('dictionary_전처리.gensim')\n",
        "corpus = pickle.load(open('corpus_전처리.pkl', 'rb'))\n",
        "ldamodel = gensim.models.ldamodel.LdaModel.load('gensim_model_전처리.gensim')"
      ],
      "execution_count": 25,
      "outputs": [
        {
          "output_type": "stream",
          "text": [
            "/usr/local/lib/python3.7/dist-packages/smart_open/smart_open_lib.py:494: DeprecationWarning: This function is deprecated.  See https://github.com/RaRe-Technologies/smart_open/blob/develop/MIGRATING_FROM_OLDER_VERSIONS.rst for more information\n",
            "  warnings.warn(message, category=DeprecationWarning)\n",
            "/usr/local/lib/python3.7/dist-packages/smart_open/smart_open_lib.py:494: DeprecationWarning: This function is deprecated.  See https://github.com/RaRe-Technologies/smart_open/blob/develop/MIGRATING_FROM_OLDER_VERSIONS.rst for more information\n",
            "  warnings.warn(message, category=DeprecationWarning)\n",
            "/usr/local/lib/python3.7/dist-packages/smart_open/smart_open_lib.py:494: DeprecationWarning: This function is deprecated.  See https://github.com/RaRe-Technologies/smart_open/blob/develop/MIGRATING_FROM_OLDER_VERSIONS.rst for more information\n",
            "  warnings.warn(message, category=DeprecationWarning)\n",
            "/usr/local/lib/python3.7/dist-packages/smart_open/smart_open_lib.py:494: DeprecationWarning: This function is deprecated.  See https://github.com/RaRe-Technologies/smart_open/blob/develop/MIGRATING_FROM_OLDER_VERSIONS.rst for more information\n",
            "  warnings.warn(message, category=DeprecationWarning)\n"
          ],
          "name": "stderr"
        }
      ]
    }
  ]
}