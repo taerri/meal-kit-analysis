{
  "nbformat": 4,
  "nbformat_minor": 5,
  "metadata": {
    "kernelspec": {
      "display_name": "Python 3",
      "language": "python",
      "name": "python3"
    },
    "language_info": {
      "codemirror_mode": {
        "name": "ipython",
        "version": 3
      },
      "file_extension": ".py",
      "mimetype": "text/x-python",
      "name": "python",
      "nbconvert_exporter": "python",
      "pygments_lexer": "ipython3",
      "version": "3.8.11"
    },
    "colab": {
      "name": "04_빅카인즈_밀키트_bigram.ipynb",
      "provenance": [],
      "include_colab_link": true
    }
  },
  "cells": [
    {
      "cell_type": "markdown",
      "metadata": {
        "id": "view-in-github",
        "colab_type": "text"
      },
      "source": [
        "<a href=\"https://colab.research.google.com/github/taerri/meal-kit-analysis/blob/main/04_%EB%B9%85%EC%B9%B4%EC%9D%B8%EC%A6%88_%EB%B0%80%ED%82%A4%ED%8A%B8_bigram.ipynb\" target=\"_parent\"><img src=\"https://colab.research.google.com/assets/colab-badge.svg\" alt=\"Open In Colab\"/></a>"
      ]
    },
    {
      "cell_type": "code",
      "metadata": {
        "id": "bc9cef10-ee98-442c-a0c5-846d6d5212e3"
      },
      "source": [
        "import pandas as pd\n",
        "from collections import Counter\n",
        "from nltk.util import ngrams\n",
        "from itertools import tee, islice"
      ],
      "id": "bc9cef10-ee98-442c-a0c5-846d6d5212e3",
      "execution_count": null,
      "outputs": []
    },
    {
      "cell_type": "code",
      "metadata": {
        "id": "4e36f894-c4aa-4b36-801c-8e4d18504fe1"
      },
      "source": [
        "#파일 읽기\n",
        "df = pd.read_csv('datasets/words.csv')"
      ],
      "id": "4e36f894-c4aa-4b36-801c-8e4d18504fe1",
      "execution_count": null,
      "outputs": []
    },
    {
      "cell_type": "code",
      "metadata": {
        "id": "dc337f4b-b1ac-4439-a7a6-0820f48b5bc7",
        "outputId": "8e9633cd-8c83-478c-8041-d51844322c7f"
      },
      "source": [
        "df.head()"
      ],
      "id": "dc337f4b-b1ac-4439-a7a6-0820f48b5bc7",
      "execution_count": null,
      "outputs": [
        {
          "data": {
            "text/html": [
              "<div>\n",
              "<style scoped>\n",
              "    .dataframe tbody tr th:only-of-type {\n",
              "        vertical-align: middle;\n",
              "    }\n",
              "\n",
              "    .dataframe tbody tr th {\n",
              "        vertical-align: top;\n",
              "    }\n",
              "\n",
              "    .dataframe thead th {\n",
              "        text-align: right;\n",
              "    }\n",
              "</style>\n",
              "<table border=\"1\" class=\"dataframe\">\n",
              "  <thead>\n",
              "    <tr style=\"text-align: right;\">\n",
              "      <th></th>\n",
              "      <th>키워드</th>\n",
              "    </tr>\n",
              "  </thead>\n",
              "  <tbody>\n",
              "    <tr>\n",
              "      <th>0</th>\n",
              "      <td>재배,채소,제공,웰빙,먹거리,하이원리조트,요리사,셰프들,재배,채소,식재료,활용,손님...</td>\n",
              "    </tr>\n",
              "    <tr>\n",
              "      <th>1</th>\n",
              "      <td>백화점,롯데쇼핑,매출,역성장,실적,롯데쇼핑,백화점,회복세,롯데마트,롯데하이마트,e커...</td>\n",
              "    </tr>\n",
              "    <tr>\n",
              "      <th>2</th>\n",
              "      <td>밀키트,창업,가정,안산시,밀키트,기탁,브랜드,100호,밀키트,창업,브랜드,최단,기간...</td>\n",
              "    </tr>\n",
              "    <tr>\n",
              "      <th>3</th>\n",
              "      <td>수산물,할인,정부,소비,촉진,정부,할인,쿠폰,발행,지원,추가,코로나19,최소화,전통...</td>\n",
              "    </tr>\n",
              "    <tr>\n",
              "      <th>4</th>\n",
              "      <td>소상공인,구독,경제,바우처,제공,소상공인,구독경제,중소벤처기업부,비상,경제,중앙,대...</td>\n",
              "    </tr>\n",
              "  </tbody>\n",
              "</table>\n",
              "</div>"
            ],
            "text/plain": [
              "                                                 키워드\n",
              "0  재배,채소,제공,웰빙,먹거리,하이원리조트,요리사,셰프들,재배,채소,식재료,활용,손님...\n",
              "1  백화점,롯데쇼핑,매출,역성장,실적,롯데쇼핑,백화점,회복세,롯데마트,롯데하이마트,e커...\n",
              "2  밀키트,창업,가정,안산시,밀키트,기탁,브랜드,100호,밀키트,창업,브랜드,최단,기간...\n",
              "3  수산물,할인,정부,소비,촉진,정부,할인,쿠폰,발행,지원,추가,코로나19,최소화,전통...\n",
              "4  소상공인,구독,경제,바우처,제공,소상공인,구독경제,중소벤처기업부,비상,경제,중앙,대..."
            ]
          },
          "execution_count": 3,
          "metadata": {},
          "output_type": "execute_result"
        }
      ]
    },
    {
      "cell_type": "code",
      "metadata": {
        "id": "0216cd93-cbad-4a87-a376-f904329e5e66"
      },
      "source": [
        "#DataFrame to list\n",
        "df_list = df.values.tolist()"
      ],
      "id": "0216cd93-cbad-4a87-a376-f904329e5e66",
      "execution_count": null,
      "outputs": []
    },
    {
      "cell_type": "code",
      "metadata": {
        "id": "91ba32ea-49b7-4101-9c5c-d3fcc1124dec",
        "outputId": "0fcf43a3-5d4f-45aa-b6d7-406740c67e93"
      },
      "source": [
        "df_list[0][0]"
      ],
      "id": "91ba32ea-49b7-4101-9c5c-d3fcc1124dec",
      "execution_count": null,
      "outputs": [
        {
          "data": {
            "text/plain": [
              "'재배,채소,제공,웰빙,먹거리,하이원리조트,요리사,셰프들,재배,채소,식재료,활용,손님,웰빙,먹거리,제공,호평,셰프들,하이원리조트,호텔,셰프,주인공,호텔,셰프,키친,오가닉팜,운영,고객,건강,먹거리,새싹,허브,제공,고객서비스,에코,캠페인,키친가든,식재료,활용,채소,허브,열매,정원,키친,오가닉팜,하이원리조트,운암정,조성,호텔,셰프,구슬땀,20여종,채소,허브,재배,재배,채소,허브,호텔,위치,식음업장,식재료,활용,하이원리조트,PB,상품,GOURMET,고메,밀키트,제품,이용,채소,허브,농법,재배,강원랜드,사내,벤처,자원업사이클TF,도움,리조트,배출,음식물,쓰레기,동애등에,곤충,먹이,활용,자연,분해,퇴비,지원,활용,하이원리조트,조리,이태규,부장,하이원리조트,호텔,손님,정성,재배,식재료,활용,음식,대접,수요,음식,노력'"
            ]
          },
          "execution_count": 24,
          "metadata": {},
          "output_type": "execute_result"
        }
      ]
    },
    {
      "cell_type": "code",
      "metadata": {
        "id": "ad6ac8e3-bf54-4490-a6af-21c5ad76f5ef"
      },
      "source": [
        "def ngrams(lst, n):\n",
        "    tlst = lst\n",
        "    while True:\n",
        "        a, b = tee(tlst)\n",
        "        l = tuple(islice(a,n))\n",
        "        if len(l) == n:\n",
        "            yield l\n",
        "            next(b)\n",
        "            tlst = b\n",
        "        else:\n",
        "            break\n",
        "    return tlst"
      ],
      "id": "ad6ac8e3-bf54-4490-a6af-21c5ad76f5ef",
      "execution_count": null,
      "outputs": []
    },
    {
      "cell_type": "code",
      "metadata": {
        "id": "8a03647a-a7e1-4cec-a184-127d916b1ee3"
      },
      "source": [
        "counters = []\n",
        "for index, row in df.iterrows():\n",
        "    keyword_list = row.키워드.split(',')\n",
        "    counters.append(Counter(ngrams(keyword_list, 2)))"
      ],
      "id": "8a03647a-a7e1-4cec-a184-127d916b1ee3",
      "execution_count": null,
      "outputs": []
    },
    {
      "cell_type": "code",
      "metadata": {
        "id": "cce5b23f-eb28-447f-9c8d-fe7a1b3191b5"
      },
      "source": [
        "counts = sum(counters, Counter())"
      ],
      "id": "cce5b23f-eb28-447f-9c8d-fe7a1b3191b5",
      "execution_count": null,
      "outputs": []
    },
    {
      "cell_type": "code",
      "metadata": {
        "id": "86ae6148-ea88-451f-85ab-e2b6c2ee50f1",
        "outputId": "eda6fc07-4368-4781-aa4a-f8370cca4711"
      },
      "source": [
        "len(counts.items())"
      ],
      "id": "86ae6148-ea88-451f-85ab-e2b6c2ee50f1",
      "execution_count": null,
      "outputs": [
        {
          "data": {
            "text/plain": [
              "529037"
            ]
          },
          "execution_count": 62,
          "metadata": {},
          "output_type": "execute_result"
        }
      ]
    },
    {
      "cell_type": "code",
      "metadata": {
        "id": "cef84292-7502-481e-9e76-4285fa11c9b5",
        "outputId": "eca83c5d-48d0-42ec-9e5a-b1b5ca28e724"
      },
      "source": [
        "counts.most_common(20)"
      ],
      "id": "cef84292-7502-481e-9e76-4285fa11c9b5",
      "execution_count": null,
      "outputs": [
        {
          "data": {
            "text/plain": [
              "[(('밀키트', '시장'), 1184),\n",
              " (('밀키트', '제품'), 935),\n",
              " (('가정', '간편식'), 896),\n",
              " (('배송', '서비스'), 879),\n",
              " (('새벽', '배송'), 696),\n",
              " (('신선', '식품'), 656),\n",
              " (('선물', '세트'), 607),\n",
              " (('동기', '대비'), 565),\n",
              " (('GS', '리테일'), 560),\n",
              " (('밀키트', '상품'), 548),\n",
              " (('밀키트', '브랜드'), 514),\n",
              " (('사회', '거리'), 507),\n",
              " (('손질', '식재료'), 438),\n",
              " (('코로나19', '사태'), 433),\n",
              " (('밀키트', '출시'), 428),\n",
              " (('코로나19', '확산'), 413),\n",
              " (('감염증', '신종'), 398),\n",
              " (('신종', '코로나19'), 388),\n",
              " (('간편식', '시장'), 386),\n",
              " (('전문', '기업'), 384)]"
            ]
          },
          "execution_count": 65,
          "metadata": {},
          "output_type": "execute_result"
        }
      ]
    },
    {
      "cell_type": "code",
      "metadata": {
        "id": "7c073c37-3121-4394-99b9-fbb984d94c5a"
      },
      "source": [
        "result = []\n",
        "for i in counts.most_common():\n",
        "    row = list(i)\n",
        "    data = list(i[0]) + [row[1]]\n",
        "    result.append(data)"
      ],
      "id": "7c073c37-3121-4394-99b9-fbb984d94c5a",
      "execution_count": null,
      "outputs": []
    },
    {
      "cell_type": "code",
      "metadata": {
        "id": "9d4fa9d8-526a-4928-89af-0fa64cec6de5"
      },
      "source": [
        "data_frame = pd.DataFrame(result, columns=['word1', 'word2', 'feq'])"
      ],
      "id": "9d4fa9d8-526a-4928-89af-0fa64cec6de5",
      "execution_count": null,
      "outputs": []
    },
    {
      "cell_type": "code",
      "metadata": {
        "id": "27e591ee-e3d2-4a9a-abde-a5e11fc9e295"
      },
      "source": [
        "data_frame.to_csv('word_freq.csv', encoding='utf-8-sig')"
      ],
      "id": "27e591ee-e3d2-4a9a-abde-a5e11fc9e295",
      "execution_count": null,
      "outputs": []
    },
    {
      "cell_type": "code",
      "metadata": {
        "id": "88019568-fb05-4e86-88f9-a0619e720ae3"
      },
      "source": [
        ""
      ],
      "id": "88019568-fb05-4e86-88f9-a0619e720ae3",
      "execution_count": null,
      "outputs": []
    }
  ]
}