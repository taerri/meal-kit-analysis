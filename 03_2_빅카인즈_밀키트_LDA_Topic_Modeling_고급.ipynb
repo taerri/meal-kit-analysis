{
  "nbformat": 4,
  "nbformat_minor": 0,
  "metadata": {
    "colab": {
      "name": "03-2_빅카인즈_밀키트_LDA_Topic Modeling_고급.ipynb",
      "provenance": [],
      "include_colab_link": true
    },
    "kernelspec": {
      "display_name": "Python 3",
      "language": "python",
      "name": "python3"
    },
    "language_info": {
      "codemirror_mode": {
        "name": "ipython",
        "version": 3
      },
      "file_extension": ".py",
      "mimetype": "text/x-python",
      "name": "python",
      "nbconvert_exporter": "python",
      "pygments_lexer": "ipython3",
      "version": "3.8.5"
    }
  },
  "cells": [
    {
      "cell_type": "markdown",
      "metadata": {
        "id": "view-in-github",
        "colab_type": "text"
      },
      "source": [
        "<a href=\"https://colab.research.google.com/github/taerri/meal-kit-analysis/blob/main/03_2_%EB%B9%85%EC%B9%B4%EC%9D%B8%EC%A6%88_%EB%B0%80%ED%82%A4%ED%8A%B8_LDA_Topic_Modeling_%EA%B3%A0%EA%B8%89.ipynb\" target=\"_parent\"><img src=\"https://colab.research.google.com/assets/colab-badge.svg\" alt=\"Open In Colab\"/></a>"
      ]
    },
    {
      "cell_type": "markdown",
      "metadata": {
        "id": "lcjF4Fo1F3de"
      },
      "source": [
        "# **3-3 토픽모델링_시각화_코드 및 시각화**"
      ]
    },
    {
      "cell_type": "code",
      "metadata": {
        "colab": {
          "base_uri": "https://localhost:8080/",
          "height": 542
        },
        "id": "jfsB5FhpEOeY",
        "outputId": "7bd21753-3fc8-49b4-f052-2745aaf1bd00"
      },
      "source": [
        "import plotly.graph_objects as go\n",
        "\n",
        "first_list = [ \"브랜드\", \"지역 및 기업 연계\", \"요리의 제품화\", \"휴일과 이벤트\", \"시장 성장\", \"코로나 19 이슈\", \"유통\", \"트랜드\"]\n",
        "second_list = [ \"밀키트\", \"밀키트\", \"밀키트\", \"밀키트\", \"밀키트\", \"밀키트\", \"밀키트\", \"밀키트\"]\n",
        "value_list = [18, 16, 13, 13, 12, 12, 9, 7]\n",
        "\n",
        "topic_1_1 = ['시장', '제품', '브렌드', '한국야쿠르트', '프레시지', '이마트', '피코크', '심플리쿡', 'CJ제일제당', '잇츠온']\n",
        "topic_1_2 = ['브랜드', '브랜드', '브랜드','브랜드', '브랜드', '브랜드', '브랜드', '브랜드', '브랜드','브랜드']\n",
        "topic_1_3 = [3.7, 3.5, 2, 1.6, 1.5, 1.4, 1.3, 1.2, 1, 0.8]\n",
        "\n",
        "topic_2_1 = ['지원', '지역', '사업', '밀키트1', '소상공인', '기업', '창업', '참여', '운영']\n",
        "topic_2_2 = ['지역 및 기업 연계', '지역 및 기업 연계', '지역 및 기업 연계', '지역 및 기업 연계','지역 및 기업 연계','지역 및 기업 연계','지역 및 기업 연계','지역 및 기업 연계','지역 및 기업 연계']\n",
        "topic_2_3 = [3.7, 2.5, 2.1, 1.8, 1.6, 1.3, 1.2, 1.1, 0.7]\n",
        "\n",
        "topic_3_1 = ['요리', '음식', '메뉴', '재품', '출시', '인기', '레스토랑', '호텔', '편스토랑']\n",
        "topic_3_2 = ['요리의 제품화', '요리의 제품화', '요리의 제품화', '요리의 제품화', '요리의 제품화', '요리의 제품화', '요리의 제품화', '요리의 제품화', '요리의 제품화']\n",
        "topic_3_3 = [3, 2.5, 2, 1.8, 1.4, 1.1, 0.6, 0.3, 0.3]\n",
        "\n",
        "topic_4_1 = ['상품', '판매', '할인', '선물', '세트', '행사', '명절', '이벤트', '크리스마스', '산천어']\n",
        "topic_4_2 = ['휴일과 이벤트', '휴일과 이벤트', '휴일과 이벤트', '휴일과 이벤트', '휴일과 이벤트', '휴일과 이벤트', '휴일과 이벤트', '휴일과 이벤트', '휴일과 이벤트', '휴일과 이벤트']\n",
        "topic_4_3 = [2.5, 2, 1.7, 1.6, 1.5, 1.3, 0.9, 0.7, 0.4, 0.4]\n",
        "\n",
        "topic_5_1 = ['식품', '투자', '사업2', '기업2', '성장', '스타트업', '온라인', '확대', '플랫폼', '오프라인', '규모']\n",
        "topic_5_2 = ['시장 성장', '시장 성장', '시장 성장', '시장 성장', '시장 성장', '시장 성장', '시장 성장', '시장 성장', '시장 성장', '시장 성장', '시장 성장']\n",
        "topic_5_3 = [2.1, 1.9, 1.6, 1.6, 0.9, 0.9, 0.8, 0.7, 0.6, 0.5, 0.4]\n",
        "\n",
        "topic_6_1 = ['매출', '증가', '코로나 19', '대비', '온라인1', '소비', '주문', '판매1', '급증', '마켓컬리', '밀키트2']\n",
        "topic_6_2 = ['코로나 19 이슈', '코로나 19 이슈', '코로나 19 이슈', '코로나 19 이슈', '코로나 19 이슈', '코로나 19 이슈', '코로나 19 이슈', '코로나 19 이슈', '코로나 19 이슈', '코로나 19 이슈', '코로나 19 이슈']\n",
        "topic_6_3 = [2.6, 2.2, 1.7, 1.5, 1.3, 0.7, 0.6, 0.5, 0.4, 0.3, 0.2]\n",
        "\n",
        "topic_7_1 = ['배송', '서비스', '주문1', '고객','물류','신선','새벽배송','모바일','정기']\n",
        "topic_7_2 = ['유통','유통','유통','유통','유통','유통','유통','유통','유통']\n",
        "topic_7_3 = [2.6, 2.5, 1.2, 0.7, 0.6, 0.5, 0.4, 0.3, 0.2]\n",
        "\n",
        "topic_8_1 = ['공간', '트렌드', '변화', '시대', '가전', '문화', '영상', '세대', '여행']\n",
        "topic_8_2 = ['트랜드','트랜드','트랜드','트랜드','트랜드','트랜드','트랜드','트랜드','트랜드']\n",
        "topic_8_3 = [1.5, 1.3, 1.2, 1, 0.7, 0.5, 0.4, 0.3, 0.1]\n",
        "\n",
        "fig =go.Figure(go.Sunburst(\n",
        "    labels=first_list + topic_1_1 + topic_2_1 + topic_3_1 + topic_4_1 + topic_5_1 + topic_6_1 + topic_7_1 + topic_8_1,\n",
        "    parents=second_list + topic_1_2 + topic_2_2 + topic_3_2 + topic_4_2 + topic_5_2 + topic_6_2 + topic_7_2 + topic_8_2,\n",
        "    values=value_list + topic_1_3 + topic_2_3 + topic_3_3 + topic_4_3 + topic_5_3 + topic_6_3 + topic_7_3 + topic_8_3,\n",
        "    branchvalues=\"total\"\n",
        "))\n",
        "fig.update_traces(textfont_size=20)\n",
        "\n",
        "\n",
        "fig.update_layout(margin = dict(t=0, l=0, r=0, b=0))\n",
        "fig.show()"
      ],
      "execution_count": null,
      "outputs": [
        {
          "output_type": "display_data",
          "data": {
            "text/html": [
              "<html>\n",
              "<head><meta charset=\"utf-8\" /></head>\n",
              "<body>\n",
              "    <div>\n",
              "            <script src=\"https://cdnjs.cloudflare.com/ajax/libs/mathjax/2.7.5/MathJax.js?config=TeX-AMS-MML_SVG\"></script><script type=\"text/javascript\">if (window.MathJax) {MathJax.Hub.Config({SVG: {font: \"STIX-Web\"}});}</script>\n",
              "                <script type=\"text/javascript\">window.PlotlyConfig = {MathJaxConfig: 'local'};</script>\n",
              "        <script src=\"https://cdn.plot.ly/plotly-latest.min.js\"></script>    \n",
              "            <div id=\"88ddc9ea-5928-412f-8185-e3afcb4cfa01\" class=\"plotly-graph-div\" style=\"height:525px; width:100%;\"></div>\n",
              "            <script type=\"text/javascript\">\n",
              "                \n",
              "                    window.PLOTLYENV=window.PLOTLYENV || {};\n",
              "                    \n",
              "                if (document.getElementById(\"88ddc9ea-5928-412f-8185-e3afcb4cfa01\")) {\n",
              "                    Plotly.newPlot(\n",
              "                        '88ddc9ea-5928-412f-8185-e3afcb4cfa01',\n",
              "                        [{\"branchvalues\": \"total\", \"labels\": [\"\\ube0c\\ub79c\\ub4dc\", \"\\uc9c0\\uc5ed \\ubc0f \\uae30\\uc5c5 \\uc5f0\\uacc4\", \"\\uc694\\ub9ac\\uc758 \\uc81c\\ud488\\ud654\", \"\\ud734\\uc77c\\uacfc \\uc774\\ubca4\\ud2b8\", \"\\uc2dc\\uc7a5 \\uc131\\uc7a5\", \"\\ucf54\\ub85c\\ub098 19 \\uc774\\uc288\", \"\\uc720\\ud1b5\", \"\\ud2b8\\ub79c\\ub4dc\", \"\\uc2dc\\uc7a5\", \"\\uc81c\\ud488\", \"\\ube0c\\ub80c\\ub4dc\", \"\\ud55c\\uad6d\\uc57c\\ucfe0\\ub974\\ud2b8\", \"\\ud504\\ub808\\uc2dc\\uc9c0\", \"\\uc774\\ub9c8\\ud2b8\", \"\\ud53c\\ucf54\\ud06c\", \"\\uc2ec\\ud50c\\ub9ac\\ucfe1\", \"CJ\\uc81c\\uc77c\\uc81c\\ub2f9\", \"\\uc787\\uce20\\uc628\", \"\\uc9c0\\uc6d0\", \"\\uc9c0\\uc5ed\", \"\\uc0ac\\uc5c5\", \"\\ubc00\\ud0a4\\ud2b81\", \"\\uc18c\\uc0c1\\uacf5\\uc778\", \"\\uae30\\uc5c5\", \"\\ucc3d\\uc5c5\", \"\\ucc38\\uc5ec\", \"\\uc6b4\\uc601\", \"\\uc694\\ub9ac\", \"\\uc74c\\uc2dd\", \"\\uba54\\ub274\", \"\\uc7ac\\ud488\", \"\\ucd9c\\uc2dc\", \"\\uc778\\uae30\", \"\\ub808\\uc2a4\\ud1a0\\ub791\", \"\\ud638\\ud154\", \"\\ud3b8\\uc2a4\\ud1a0\\ub791\", \"\\uc0c1\\ud488\", \"\\ud310\\ub9e4\", \"\\ud560\\uc778\", \"\\uc120\\ubb3c\", \"\\uc138\\ud2b8\", \"\\ud589\\uc0ac\", \"\\uba85\\uc808\", \"\\uc774\\ubca4\\ud2b8\", \"\\ud06c\\ub9ac\\uc2a4\\ub9c8\\uc2a4\", \"\\uc0b0\\ucc9c\\uc5b4\", \"\\uc2dd\\ud488\", \"\\ud22c\\uc790\", \"\\uc0ac\\uc5c52\", \"\\uae30\\uc5c52\", \"\\uc131\\uc7a5\", \"\\uc2a4\\ud0c0\\ud2b8\\uc5c5\", \"\\uc628\\ub77c\\uc778\", \"\\ud655\\ub300\", \"\\ud50c\\ub7ab\\ud3fc\", \"\\uc624\\ud504\\ub77c\\uc778\", \"\\uaddc\\ubaa8\", \"\\ub9e4\\ucd9c\", \"\\uc99d\\uac00\", \"\\ucf54\\ub85c\\ub098 19\", \"\\ub300\\ube44\", \"\\uc628\\ub77c\\uc7781\", \"\\uc18c\\ube44\", \"\\uc8fc\\ubb38\", \"\\ud310\\ub9e41\", \"\\uae09\\uc99d\", \"\\ub9c8\\ucf13\\uceec\\ub9ac\", \"\\ubc00\\ud0a4\\ud2b82\", \"\\ubc30\\uc1a1\", \"\\uc11c\\ube44\\uc2a4\", \"\\uc8fc\\ubb381\", \"\\uace0\\uac1d\", \"\\ubb3c\\ub958\", \"\\uc2e0\\uc120\", \"\\uc0c8\\ubcbd\\ubc30\\uc1a1\", \"\\ubaa8\\ubc14\\uc77c\", \"\\uc815\\uae30\", \"\\uacf5\\uac04\", \"\\ud2b8\\ub80c\\ub4dc\", \"\\ubcc0\\ud654\", \"\\uc2dc\\ub300\", \"\\uac00\\uc804\", \"\\ubb38\\ud654\", \"\\uc601\\uc0c1\", \"\\uc138\\ub300\", \"\\uc5ec\\ud589\"], \"parents\": [\"\\ubc00\\ud0a4\\ud2b8\", \"\\ubc00\\ud0a4\\ud2b8\", \"\\ubc00\\ud0a4\\ud2b8\", \"\\ubc00\\ud0a4\\ud2b8\", \"\\ubc00\\ud0a4\\ud2b8\", \"\\ubc00\\ud0a4\\ud2b8\", \"\\ubc00\\ud0a4\\ud2b8\", \"\\ubc00\\ud0a4\\ud2b8\", \"\\ube0c\\ub79c\\ub4dc\", \"\\ube0c\\ub79c\\ub4dc\", \"\\ube0c\\ub79c\\ub4dc\", \"\\ube0c\\ub79c\\ub4dc\", \"\\ube0c\\ub79c\\ub4dc\", \"\\ube0c\\ub79c\\ub4dc\", \"\\ube0c\\ub79c\\ub4dc\", \"\\ube0c\\ub79c\\ub4dc\", \"\\ube0c\\ub79c\\ub4dc\", \"\\ube0c\\ub79c\\ub4dc\", \"\\uc9c0\\uc5ed \\ubc0f \\uae30\\uc5c5 \\uc5f0\\uacc4\", \"\\uc9c0\\uc5ed \\ubc0f \\uae30\\uc5c5 \\uc5f0\\uacc4\", \"\\uc9c0\\uc5ed \\ubc0f \\uae30\\uc5c5 \\uc5f0\\uacc4\", \"\\uc9c0\\uc5ed \\ubc0f \\uae30\\uc5c5 \\uc5f0\\uacc4\", \"\\uc9c0\\uc5ed \\ubc0f \\uae30\\uc5c5 \\uc5f0\\uacc4\", \"\\uc9c0\\uc5ed \\ubc0f \\uae30\\uc5c5 \\uc5f0\\uacc4\", \"\\uc9c0\\uc5ed \\ubc0f \\uae30\\uc5c5 \\uc5f0\\uacc4\", \"\\uc9c0\\uc5ed \\ubc0f \\uae30\\uc5c5 \\uc5f0\\uacc4\", \"\\uc9c0\\uc5ed \\ubc0f \\uae30\\uc5c5 \\uc5f0\\uacc4\", \"\\uc694\\ub9ac\\uc758 \\uc81c\\ud488\\ud654\", \"\\uc694\\ub9ac\\uc758 \\uc81c\\ud488\\ud654\", \"\\uc694\\ub9ac\\uc758 \\uc81c\\ud488\\ud654\", \"\\uc694\\ub9ac\\uc758 \\uc81c\\ud488\\ud654\", \"\\uc694\\ub9ac\\uc758 \\uc81c\\ud488\\ud654\", \"\\uc694\\ub9ac\\uc758 \\uc81c\\ud488\\ud654\", \"\\uc694\\ub9ac\\uc758 \\uc81c\\ud488\\ud654\", \"\\uc694\\ub9ac\\uc758 \\uc81c\\ud488\\ud654\", \"\\uc694\\ub9ac\\uc758 \\uc81c\\ud488\\ud654\", \"\\ud734\\uc77c\\uacfc \\uc774\\ubca4\\ud2b8\", \"\\ud734\\uc77c\\uacfc \\uc774\\ubca4\\ud2b8\", \"\\ud734\\uc77c\\uacfc \\uc774\\ubca4\\ud2b8\", \"\\ud734\\uc77c\\uacfc \\uc774\\ubca4\\ud2b8\", \"\\ud734\\uc77c\\uacfc \\uc774\\ubca4\\ud2b8\", \"\\ud734\\uc77c\\uacfc \\uc774\\ubca4\\ud2b8\", \"\\ud734\\uc77c\\uacfc \\uc774\\ubca4\\ud2b8\", \"\\ud734\\uc77c\\uacfc \\uc774\\ubca4\\ud2b8\", \"\\ud734\\uc77c\\uacfc \\uc774\\ubca4\\ud2b8\", \"\\ud734\\uc77c\\uacfc \\uc774\\ubca4\\ud2b8\", \"\\uc2dc\\uc7a5 \\uc131\\uc7a5\", \"\\uc2dc\\uc7a5 \\uc131\\uc7a5\", \"\\uc2dc\\uc7a5 \\uc131\\uc7a5\", \"\\uc2dc\\uc7a5 \\uc131\\uc7a5\", \"\\uc2dc\\uc7a5 \\uc131\\uc7a5\", \"\\uc2dc\\uc7a5 \\uc131\\uc7a5\", \"\\uc2dc\\uc7a5 \\uc131\\uc7a5\", \"\\uc2dc\\uc7a5 \\uc131\\uc7a5\", \"\\uc2dc\\uc7a5 \\uc131\\uc7a5\", \"\\uc2dc\\uc7a5 \\uc131\\uc7a5\", \"\\uc2dc\\uc7a5 \\uc131\\uc7a5\", \"\\ucf54\\ub85c\\ub098 19 \\uc774\\uc288\", \"\\ucf54\\ub85c\\ub098 19 \\uc774\\uc288\", \"\\ucf54\\ub85c\\ub098 19 \\uc774\\uc288\", \"\\ucf54\\ub85c\\ub098 19 \\uc774\\uc288\", \"\\ucf54\\ub85c\\ub098 19 \\uc774\\uc288\", \"\\ucf54\\ub85c\\ub098 19 \\uc774\\uc288\", \"\\ucf54\\ub85c\\ub098 19 \\uc774\\uc288\", \"\\ucf54\\ub85c\\ub098 19 \\uc774\\uc288\", \"\\ucf54\\ub85c\\ub098 19 \\uc774\\uc288\", \"\\ucf54\\ub85c\\ub098 19 \\uc774\\uc288\", \"\\ucf54\\ub85c\\ub098 19 \\uc774\\uc288\", \"\\uc720\\ud1b5\", \"\\uc720\\ud1b5\", \"\\uc720\\ud1b5\", \"\\uc720\\ud1b5\", \"\\uc720\\ud1b5\", \"\\uc720\\ud1b5\", \"\\uc720\\ud1b5\", \"\\uc720\\ud1b5\", \"\\uc720\\ud1b5\", \"\\ud2b8\\ub79c\\ub4dc\", \"\\ud2b8\\ub79c\\ub4dc\", \"\\ud2b8\\ub79c\\ub4dc\", \"\\ud2b8\\ub79c\\ub4dc\", \"\\ud2b8\\ub79c\\ub4dc\", \"\\ud2b8\\ub79c\\ub4dc\", \"\\ud2b8\\ub79c\\ub4dc\", \"\\ud2b8\\ub79c\\ub4dc\", \"\\ud2b8\\ub79c\\ub4dc\"], \"textfont\": {\"size\": 20}, \"type\": \"sunburst\", \"values\": [18, 16, 13, 13, 12, 12, 9, 7, 3.7, 3.5, 2, 1.6, 1.5, 1.4, 1.3, 1.2, 1, 0.8, 3.7, 2.5, 2.1, 1.8, 1.6, 1.3, 1.2, 1.1, 0.7, 3, 2.5, 2, 1.8, 1.4, 1.1, 0.6, 0.3, 0.3, 2.5, 2, 1.7, 1.6, 1.5, 1.3, 0.9, 0.7, 0.4, 0.4, 2.1, 1.9, 1.6, 1.6, 0.9, 0.9, 0.8, 0.7, 0.6, 0.5, 0.4, 2.6, 2.2, 1.7, 1.5, 1.3, 0.7, 0.6, 0.5, 0.4, 0.3, 0.2, 2.6, 2.5, 1.2, 0.7, 0.6, 0.5, 0.4, 0.3, 0.2, 1.5, 1.3, 1.2, 1, 0.7, 0.5, 0.4, 0.3, 0.1]}],\n",
              "                        {\"margin\": {\"b\": 0, \"l\": 0, \"r\": 0, \"t\": 0}, \"template\": {\"data\": {\"bar\": [{\"error_x\": {\"color\": \"#2a3f5f\"}, \"error_y\": {\"color\": \"#2a3f5f\"}, \"marker\": {\"line\": {\"color\": \"#E5ECF6\", \"width\": 0.5}}, \"type\": \"bar\"}], \"barpolar\": [{\"marker\": {\"line\": {\"color\": \"#E5ECF6\", \"width\": 0.5}}, \"type\": \"barpolar\"}], \"carpet\": [{\"aaxis\": {\"endlinecolor\": \"#2a3f5f\", \"gridcolor\": \"white\", \"linecolor\": \"white\", \"minorgridcolor\": \"white\", \"startlinecolor\": \"#2a3f5f\"}, \"baxis\": {\"endlinecolor\": \"#2a3f5f\", \"gridcolor\": \"white\", \"linecolor\": \"white\", \"minorgridcolor\": \"white\", \"startlinecolor\": \"#2a3f5f\"}, \"type\": \"carpet\"}], \"choropleth\": [{\"colorbar\": {\"outlinewidth\": 0, \"ticks\": \"\"}, \"type\": \"choropleth\"}], \"contour\": [{\"colorbar\": {\"outlinewidth\": 0, \"ticks\": \"\"}, \"colorscale\": [[0.0, \"#0d0887\"], [0.1111111111111111, \"#46039f\"], [0.2222222222222222, \"#7201a8\"], [0.3333333333333333, \"#9c179e\"], [0.4444444444444444, \"#bd3786\"], [0.5555555555555556, \"#d8576b\"], [0.6666666666666666, \"#ed7953\"], [0.7777777777777778, \"#fb9f3a\"], [0.8888888888888888, \"#fdca26\"], [1.0, \"#f0f921\"]], \"type\": \"contour\"}], \"contourcarpet\": [{\"colorbar\": {\"outlinewidth\": 0, \"ticks\": \"\"}, \"type\": \"contourcarpet\"}], \"heatmap\": [{\"colorbar\": {\"outlinewidth\": 0, \"ticks\": \"\"}, \"colorscale\": [[0.0, \"#0d0887\"], [0.1111111111111111, \"#46039f\"], [0.2222222222222222, \"#7201a8\"], [0.3333333333333333, \"#9c179e\"], [0.4444444444444444, \"#bd3786\"], [0.5555555555555556, \"#d8576b\"], [0.6666666666666666, \"#ed7953\"], [0.7777777777777778, \"#fb9f3a\"], [0.8888888888888888, \"#fdca26\"], [1.0, \"#f0f921\"]], \"type\": \"heatmap\"}], \"heatmapgl\": [{\"colorbar\": {\"outlinewidth\": 0, \"ticks\": \"\"}, \"colorscale\": [[0.0, \"#0d0887\"], [0.1111111111111111, \"#46039f\"], [0.2222222222222222, \"#7201a8\"], [0.3333333333333333, \"#9c179e\"], [0.4444444444444444, \"#bd3786\"], [0.5555555555555556, \"#d8576b\"], [0.6666666666666666, \"#ed7953\"], [0.7777777777777778, \"#fb9f3a\"], [0.8888888888888888, \"#fdca26\"], [1.0, \"#f0f921\"]], \"type\": \"heatmapgl\"}], \"histogram\": [{\"marker\": {\"colorbar\": {\"outlinewidth\": 0, \"ticks\": \"\"}}, \"type\": \"histogram\"}], \"histogram2d\": [{\"colorbar\": {\"outlinewidth\": 0, \"ticks\": \"\"}, \"colorscale\": [[0.0, \"#0d0887\"], [0.1111111111111111, \"#46039f\"], [0.2222222222222222, \"#7201a8\"], [0.3333333333333333, \"#9c179e\"], [0.4444444444444444, \"#bd3786\"], [0.5555555555555556, \"#d8576b\"], [0.6666666666666666, \"#ed7953\"], [0.7777777777777778, \"#fb9f3a\"], [0.8888888888888888, \"#fdca26\"], [1.0, \"#f0f921\"]], \"type\": \"histogram2d\"}], \"histogram2dcontour\": [{\"colorbar\": {\"outlinewidth\": 0, \"ticks\": \"\"}, \"colorscale\": [[0.0, \"#0d0887\"], [0.1111111111111111, \"#46039f\"], [0.2222222222222222, \"#7201a8\"], [0.3333333333333333, \"#9c179e\"], [0.4444444444444444, \"#bd3786\"], [0.5555555555555556, \"#d8576b\"], [0.6666666666666666, \"#ed7953\"], [0.7777777777777778, \"#fb9f3a\"], [0.8888888888888888, \"#fdca26\"], [1.0, \"#f0f921\"]], \"type\": \"histogram2dcontour\"}], \"mesh3d\": [{\"colorbar\": {\"outlinewidth\": 0, \"ticks\": \"\"}, \"type\": \"mesh3d\"}], \"parcoords\": [{\"line\": {\"colorbar\": {\"outlinewidth\": 0, \"ticks\": \"\"}}, \"type\": \"parcoords\"}], \"pie\": [{\"automargin\": true, \"type\": \"pie\"}], \"scatter\": [{\"marker\": {\"colorbar\": {\"outlinewidth\": 0, \"ticks\": \"\"}}, \"type\": \"scatter\"}], \"scatter3d\": [{\"line\": {\"colorbar\": {\"outlinewidth\": 0, \"ticks\": \"\"}}, \"marker\": {\"colorbar\": {\"outlinewidth\": 0, \"ticks\": \"\"}}, \"type\": \"scatter3d\"}], \"scattercarpet\": [{\"marker\": {\"colorbar\": {\"outlinewidth\": 0, \"ticks\": \"\"}}, \"type\": \"scattercarpet\"}], \"scattergeo\": [{\"marker\": {\"colorbar\": {\"outlinewidth\": 0, \"ticks\": \"\"}}, \"type\": \"scattergeo\"}], \"scattergl\": [{\"marker\": {\"colorbar\": {\"outlinewidth\": 0, \"ticks\": \"\"}}, \"type\": \"scattergl\"}], \"scattermapbox\": [{\"marker\": {\"colorbar\": {\"outlinewidth\": 0, \"ticks\": \"\"}}, \"type\": \"scattermapbox\"}], \"scatterpolar\": [{\"marker\": {\"colorbar\": {\"outlinewidth\": 0, \"ticks\": \"\"}}, \"type\": \"scatterpolar\"}], \"scatterpolargl\": [{\"marker\": {\"colorbar\": {\"outlinewidth\": 0, \"ticks\": \"\"}}, \"type\": \"scatterpolargl\"}], \"scatterternary\": [{\"marker\": {\"colorbar\": {\"outlinewidth\": 0, \"ticks\": \"\"}}, \"type\": \"scatterternary\"}], \"surface\": [{\"colorbar\": {\"outlinewidth\": 0, \"ticks\": \"\"}, \"colorscale\": [[0.0, \"#0d0887\"], [0.1111111111111111, \"#46039f\"], [0.2222222222222222, \"#7201a8\"], [0.3333333333333333, \"#9c179e\"], [0.4444444444444444, \"#bd3786\"], [0.5555555555555556, \"#d8576b\"], [0.6666666666666666, \"#ed7953\"], [0.7777777777777778, \"#fb9f3a\"], [0.8888888888888888, \"#fdca26\"], [1.0, \"#f0f921\"]], \"type\": \"surface\"}], \"table\": [{\"cells\": {\"fill\": {\"color\": \"#EBF0F8\"}, \"line\": {\"color\": \"white\"}}, \"header\": {\"fill\": {\"color\": \"#C8D4E3\"}, \"line\": {\"color\": \"white\"}}, \"type\": \"table\"}]}, \"layout\": {\"annotationdefaults\": {\"arrowcolor\": \"#2a3f5f\", \"arrowhead\": 0, \"arrowwidth\": 1}, \"coloraxis\": {\"colorbar\": {\"outlinewidth\": 0, \"ticks\": \"\"}}, \"colorscale\": {\"diverging\": [[0, \"#8e0152\"], [0.1, \"#c51b7d\"], [0.2, \"#de77ae\"], [0.3, \"#f1b6da\"], [0.4, \"#fde0ef\"], [0.5, \"#f7f7f7\"], [0.6, \"#e6f5d0\"], [0.7, \"#b8e186\"], [0.8, \"#7fbc41\"], [0.9, \"#4d9221\"], [1, \"#276419\"]], \"sequential\": [[0.0, \"#0d0887\"], [0.1111111111111111, \"#46039f\"], [0.2222222222222222, \"#7201a8\"], [0.3333333333333333, \"#9c179e\"], [0.4444444444444444, \"#bd3786\"], [0.5555555555555556, \"#d8576b\"], [0.6666666666666666, \"#ed7953\"], [0.7777777777777778, \"#fb9f3a\"], [0.8888888888888888, \"#fdca26\"], [1.0, \"#f0f921\"]], \"sequentialminus\": [[0.0, \"#0d0887\"], [0.1111111111111111, \"#46039f\"], [0.2222222222222222, \"#7201a8\"], [0.3333333333333333, \"#9c179e\"], [0.4444444444444444, \"#bd3786\"], [0.5555555555555556, \"#d8576b\"], [0.6666666666666666, \"#ed7953\"], [0.7777777777777778, \"#fb9f3a\"], [0.8888888888888888, \"#fdca26\"], [1.0, \"#f0f921\"]]}, \"colorway\": [\"#636efa\", \"#EF553B\", \"#00cc96\", \"#ab63fa\", \"#FFA15A\", \"#19d3f3\", \"#FF6692\", \"#B6E880\", \"#FF97FF\", \"#FECB52\"], \"font\": {\"color\": \"#2a3f5f\"}, \"geo\": {\"bgcolor\": \"white\", \"lakecolor\": \"white\", \"landcolor\": \"#E5ECF6\", \"showlakes\": true, \"showland\": true, \"subunitcolor\": \"white\"}, \"hoverlabel\": {\"align\": \"left\"}, \"hovermode\": \"closest\", \"mapbox\": {\"style\": \"light\"}, \"paper_bgcolor\": \"white\", \"plot_bgcolor\": \"#E5ECF6\", \"polar\": {\"angularaxis\": {\"gridcolor\": \"white\", \"linecolor\": \"white\", \"ticks\": \"\"}, \"bgcolor\": \"#E5ECF6\", \"radialaxis\": {\"gridcolor\": \"white\", \"linecolor\": \"white\", \"ticks\": \"\"}}, \"scene\": {\"xaxis\": {\"backgroundcolor\": \"#E5ECF6\", \"gridcolor\": \"white\", \"gridwidth\": 2, \"linecolor\": \"white\", \"showbackground\": true, \"ticks\": \"\", \"zerolinecolor\": \"white\"}, \"yaxis\": {\"backgroundcolor\": \"#E5ECF6\", \"gridcolor\": \"white\", \"gridwidth\": 2, \"linecolor\": \"white\", \"showbackground\": true, \"ticks\": \"\", \"zerolinecolor\": \"white\"}, \"zaxis\": {\"backgroundcolor\": \"#E5ECF6\", \"gridcolor\": \"white\", \"gridwidth\": 2, \"linecolor\": \"white\", \"showbackground\": true, \"ticks\": \"\", \"zerolinecolor\": \"white\"}}, \"shapedefaults\": {\"line\": {\"color\": \"#2a3f5f\"}}, \"ternary\": {\"aaxis\": {\"gridcolor\": \"white\", \"linecolor\": \"white\", \"ticks\": \"\"}, \"baxis\": {\"gridcolor\": \"white\", \"linecolor\": \"white\", \"ticks\": \"\"}, \"bgcolor\": \"#E5ECF6\", \"caxis\": {\"gridcolor\": \"white\", \"linecolor\": \"white\", \"ticks\": \"\"}}, \"title\": {\"x\": 0.05}, \"xaxis\": {\"automargin\": true, \"gridcolor\": \"white\", \"linecolor\": \"white\", \"ticks\": \"\", \"title\": {\"standoff\": 15}, \"zerolinecolor\": \"white\", \"zerolinewidth\": 2}, \"yaxis\": {\"automargin\": true, \"gridcolor\": \"white\", \"linecolor\": \"white\", \"ticks\": \"\", \"title\": {\"standoff\": 15}, \"zerolinecolor\": \"white\", \"zerolinewidth\": 2}}}},\n",
              "                        {\"responsive\": true}\n",
              "                    ).then(function(){\n",
              "                            \n",
              "var gd = document.getElementById('88ddc9ea-5928-412f-8185-e3afcb4cfa01');\n",
              "var x = new MutationObserver(function (mutations, observer) {{\n",
              "        var display = window.getComputedStyle(gd).display;\n",
              "        if (!display || display === 'none') {{\n",
              "            console.log([gd, 'removed!']);\n",
              "            Plotly.purge(gd);\n",
              "            observer.disconnect();\n",
              "        }}\n",
              "}});\n",
              "\n",
              "// Listen for the removal of the full notebook cells\n",
              "var notebookContainer = gd.closest('#notebook-container');\n",
              "if (notebookContainer) {{\n",
              "    x.observe(notebookContainer, {childList: true});\n",
              "}}\n",
              "\n",
              "// Listen for the clearing of the current output cell\n",
              "var outputEl = gd.closest('.output');\n",
              "if (outputEl) {{\n",
              "    x.observe(outputEl, {childList: true});\n",
              "}}\n",
              "\n",
              "                        })\n",
              "                };\n",
              "                \n",
              "            </script>\n",
              "        </div>\n",
              "</body>\n",
              "</html>"
            ]
          },
          "metadata": {}
        }
      ]
    }
  ]
}