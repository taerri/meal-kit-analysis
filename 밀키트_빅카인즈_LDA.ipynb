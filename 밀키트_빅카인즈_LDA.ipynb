{
  "nbformat": 4,
  "nbformat_minor": 0,
  "metadata": {
    "colab": {
      "name": "TF-IDF_LDA_SNA_Analysis.ipynb",
      "provenance": [],
      "collapsed_sections": [],
      "include_colab_link": true
    },
    "kernelspec": {
      "display_name": "Python 3",
      "language": "python",
      "name": "python3"
    },
    "language_info": {
      "codemirror_mode": {
        "name": "ipython",
        "version": 3
      },
      "file_extension": ".py",
      "mimetype": "text/x-python",
      "name": "python",
      "nbconvert_exporter": "python",
      "pygments_lexer": "ipython3",
      "version": "3.8.3"
    }
  },
  "cells": [
    {
      "cell_type": "markdown",
      "metadata": {
        "id": "view-in-github",
        "colab_type": "text"
      },
      "source": [
        "<a href=\"https://colab.research.google.com/github/taerri/meal-kit-analysis/blob/main/%EB%B0%80%ED%82%A4%ED%8A%B8_%EB%B9%85%EC%B9%B4%EC%9D%B8%EC%A6%88_LDA.ipynb\" target=\"_parent\"><img src=\"https://colab.research.google.com/assets/colab-badge.svg\" alt=\"Open In Colab\"/></a>"
      ]
    },
    {
      "cell_type": "markdown",
      "metadata": {
        "id": "meTwDF8W0wJB"
      },
      "source": [
        "# **데이터 읽기**"
      ]
    },
    {
      "cell_type": "code",
      "metadata": {
        "id": "E7zj87760wJD"
      },
      "source": [
        "import pandas as pd"
      ],
      "execution_count": 1,
      "outputs": []
    },
    {
      "cell_type": "code",
      "metadata": {
        "colab": {
          "base_uri": "https://localhost:8080/",
          "height": 221
        },
        "id": "3k2yjw9q0wJE",
        "outputId": "1f9e67b7-ee60-4712-a535-79f436c4ca7a"
      },
      "source": [
        "Corpus_all = pd.read_csv(\"단어_빅카인즈(전처리 후(df)).csv\", encoding=\"utf8\")\n",
        "print(\"데이터 개수 :\",len(Corpus_all))\n",
        "Corpus_all.head()"
      ],
      "execution_count": 2,
      "outputs": [
        {
          "output_type": "stream",
          "name": "stdout",
          "text": [
            "데이터 개수 : 5529\n"
          ]
        },
        {
          "output_type": "execute_result",
          "data": {
            "text/html": [
              "<div>\n",
              "<style scoped>\n",
              "    .dataframe tbody tr th:only-of-type {\n",
              "        vertical-align: middle;\n",
              "    }\n",
              "\n",
              "    .dataframe tbody tr th {\n",
              "        vertical-align: top;\n",
              "    }\n",
              "\n",
              "    .dataframe thead th {\n",
              "        text-align: right;\n",
              "    }\n",
              "</style>\n",
              "<table border=\"1\" class=\"dataframe\">\n",
              "  <thead>\n",
              "    <tr style=\"text-align: right;\">\n",
              "      <th></th>\n",
              "      <th>키워드</th>\n",
              "    </tr>\n",
              "  </thead>\n",
              "  <tbody>\n",
              "    <tr>\n",
              "      <th>0</th>\n",
              "      <td>재배,채소,제공,웰빙,먹거리,하이원리조트,요리사,셰프들,재배,채소,식재료,활용,손님...</td>\n",
              "    </tr>\n",
              "    <tr>\n",
              "      <th>1</th>\n",
              "      <td>백화점,롯데쇼핑,매출,역성장,실적,롯데쇼핑,백화점,회복세,롯데마트,롯데하이마트,e커...</td>\n",
              "    </tr>\n",
              "    <tr>\n",
              "      <th>2</th>\n",
              "      <td>밀키트,창업,가정,안산시,밀키트,기탁,브랜드,100호,밀키트,창업,브랜드,최단,기간...</td>\n",
              "    </tr>\n",
              "    <tr>\n",
              "      <th>3</th>\n",
              "      <td>수산물,할인,정부,소비,촉진,정부,할인,쿠폰,발행,지원,추가,코로나19,최소화,전통...</td>\n",
              "    </tr>\n",
              "    <tr>\n",
              "      <th>4</th>\n",
              "      <td>소상공인,구독,경제,바우처,제공,소상공인,구독경제,중소벤처기업부,비상,경제,중앙,대...</td>\n",
              "    </tr>\n",
              "  </tbody>\n",
              "</table>\n",
              "</div>"
            ],
            "text/plain": [
              "                                                 키워드\n",
              "0  재배,채소,제공,웰빙,먹거리,하이원리조트,요리사,셰프들,재배,채소,식재료,활용,손님...\n",
              "1  백화점,롯데쇼핑,매출,역성장,실적,롯데쇼핑,백화점,회복세,롯데마트,롯데하이마트,e커...\n",
              "2  밀키트,창업,가정,안산시,밀키트,기탁,브랜드,100호,밀키트,창업,브랜드,최단,기간...\n",
              "3  수산물,할인,정부,소비,촉진,정부,할인,쿠폰,발행,지원,추가,코로나19,최소화,전통...\n",
              "4  소상공인,구독,경제,바우처,제공,소상공인,구독경제,중소벤처기업부,비상,경제,중앙,대..."
            ]
          },
          "metadata": {},
          "execution_count": 2
        }
      ]
    },
    {
      "cell_type": "markdown",
      "metadata": {
        "id": "LzlnUgae0wJH"
      },
      "source": [
        "# **단어 빈도**"
      ]
    },
    {
      "cell_type": "code",
      "metadata": {
        "id": "WT4xVAPs0wJI"
      },
      "source": [
        "Corpus_org = Corpus_all[\"키워드\"]\n",
        "#Words_2019 = Corpus_all[Corpus_all.Date < \"2020/01/01\"][\"all_text\"]\n",
        "#Words_2020 = Corpus_all[Corpus_all.Date >= \"2020/01/01\"][\"all_text\"]\n",
        "Corpus = [wl.split(\",\")  for wl in Corpus_org]"
      ],
      "execution_count": 3,
      "outputs": []
    },
    {
      "cell_type": "code",
      "metadata": {
        "id": "kHtwftskbTGe"
      },
      "source": [
        "def isHangulOrAlphabet(word):\n",
        "    return word[0].isalpha() \n"
      ],
      "execution_count": 4,
      "outputs": []
    },
    {
      "cell_type": "code",
      "metadata": {
        "id": "eZ8qkZUQbTGf",
        "colab": {
          "base_uri": "https://localhost:8080/"
        },
        "outputId": "14488a2c-a7ce-4d1e-dec0-e27f778ebca1"
      },
      "source": [
        "isHangulOrAlphabet(\"12\")"
      ],
      "execution_count": 5,
      "outputs": [
        {
          "output_type": "execute_result",
          "data": {
            "text/plain": [
              "False"
            ]
          },
          "metadata": {},
          "execution_count": 5
        }
      ]
    },
    {
      "cell_type": "code",
      "metadata": {
        "colab": {
          "base_uri": "https://localhost:8080/"
        },
        "id": "s8qlZQar3fs0",
        "outputId": "a2435fc9-81b0-436c-ea43-1a37c71985aa"
      },
      "source": [
        "for wl in Corpus[:3]:\n",
        "  print(wl)"
      ],
      "execution_count": 6,
      "outputs": [
        {
          "output_type": "stream",
          "name": "stdout",
          "text": [
            "['재배', '채소', '제공', '웰빙', '먹거리', '하이원리조트', '요리사', '셰프들', '재배', '채소', '식재료', '활용', '손님', '웰빙', '먹거리', '제공', '호평', '셰프들', '하이원리조트', '호텔', '셰프', '주인공', '호텔', '셰프', '키친', '오가닉팜', '운영', '고객', '건강', '먹거리', '새싹', '허브', '제공', '고객서비스', '에코', '캠페인', '키친가든', '식재료', '활용', '채소', '허브', '열매', '정원', '키친', '오가닉팜', '하이원리조트', '운암정', '조성', '호텔', '셰프', '구슬땀', '20여종', '채소', '허브', '재배', '재배', '채소', '허브', '호텔', '위치', '식음업장', '식재료', '활용', '하이원리조트', 'PB', '상품', 'GOURMET', '고메', '밀키트', '제품', '이용', '채소', '허브', '농법', '재배', '강원랜드', '사내', '벤처', '자원업사이클TF', '도움', '리조트', '배출', '음식물', '쓰레기', '동애등에', '곤충', '먹이', '활용', '자연', '분해', '퇴비', '지원', '활용', '하이원리조트', '조리', '이태규', '부장', '하이원리조트', '호텔', '손님', '정성', '재배', '식재료', '활용', '음식', '대접', '수요', '음식', '노력']\n",
            "['백화점', '롯데쇼핑', '매출', '역성장', '실적', '롯데쇼핑', '백화점', '회복세', '롯데마트', '롯데하이마트', 'e커머스', '롯데온', '주력', '계열사', '부진', '매출', '역성장', '구조', '조정', '성과', '영업이익', '444%', '증가', '시장', '롯데쇼핑', '영업', '이익', '75억', '444.7%', '동기', '대비', '444.7%', '공시', '매출액', '3.5%', '감소', '영업이익', '송도롯데몰', '공사', '지연', '323억', '추징', '세금', '영향', '비용', '제외', '영업', '399억', '시장', '롯데쇼핑', '7조', '매출', '영업이익', '600억', '기록', '예상', '사업부별', '보복', '소비', '효과', '백화점', '매출', '영업이익', '성장', '백화점', '매출', '7210억', '8.2%', '영업이익', '620억', '40.9%', '급증', '회복', '소비', '지속', '해외', '사업', '기조', '효과', '영향', '고성장', '설명', '신장률', '기존점', '신장', '10.3%', '만큼', '회복', '성공', '모습', '할인', '롯데마트', '지점', '축소', '매출', '감소', '부진', '점포', '축소', '매출', '4.8%', '구조', '조정', '효과', '영업적자', '260억', '390억', '개선', '주류', '신선식품', '밀키트', '자릿수', '성장', '기존점', '신장', '1.7%', '성장', '롯데하이마트', '5~6월', '여름', '기온', '에어컨', '판매', '부진', '매출', '동기', '대비', '매출액', '영업이익', '11.4%', '52.3%', '성장세', '제동', '온라인', '성장', '동기', '대비', '26%', '증가', '무더위', '시작', '에어컨', '판매', '실적', '반등', '예상', '슈퍼', '16.8%', '매출', '감소', '부진', '홈쇼핑', '마케팅', '강화', '영업이익', '18.1%', '매출액', '4.9%', '컬처웍스', '기저', '효과', '영향', '매출액', '36.6%', '430억', '기록', '전사적', 'e커머스', '부진', '2분기', '사업부', '매출', '10.4%', '290억', '기록', '셀러', '수수료', '인하', '영향', '영향', '회계', '기준', '변경', '반영', '설명', '영업', '적자', '적자', '확대', '광고', '판촉비', '판관비', '안정', '확대', '비용', '증가', '롯데쇼핑', '관계자', '오픈', '롯데온', '회계', '기준', '영향', '2분기', '반영', '거래액', '트래픽', '지속적', '증가']\n",
            "['밀키트', '창업', '가정', '안산시', '밀키트', '기탁', '브랜드', '100호', '밀키트', '창업', '브랜드', '최단', '기간', '돌파', '저소득가정', '안산시', '관내', '소득', '가정', '이웃', '사랑', '후원', '2천만', '밀키트', '기탁', '안산시', '안산시청', '윤화섭', '안산', '시장', '대표이사', '박상미', '영상', '에프앤비', '대표', '이사', '참석', '전달식', '기탁', '100~200개', '2', '밀키트', '제품', '생활', '1인', '가정', '제공', '예정', '냉장', '냉동', '식품', '감안', '기부식품제공사업장', '푸드뱅크', '기탁처리', '제공', '예정', '관계자', '사회', '거리', '강화', '사회', '복지', '시설', '운영', '축소', '소식', '사회', '공헌', '활동', '마련', '고객', '사랑', '사회', '환원', '활동', '기업', '사회', '책임', '대표', '밀키트', '전문점', '여파', '창업', '시장', '전반적', '침체기', '와중', '100호', '최단', '기간', '가맹', '계약', '체결', '밀키트', '창업', '프랜차이즈', '업계', '활약']\n"
          ]
        }
      ]
    },
    {
      "cell_type": "markdown",
      "metadata": {
        "id": "jWM8PdtW3exJ"
      },
      "source": [
        ""
      ]
    },
    {
      "cell_type": "code",
      "metadata": {
        "id": "ZMeIcREb0wJJ"
      },
      "source": [
        "def Word_count(corpus):\n",
        "    word_cnt = dict()\n",
        "    for text in corpus:\n",
        "        for word in text:\n",
        "            if word_cnt.get(word):\n",
        "                word_cnt[word]+=1\n",
        "            else:\n",
        "                word_cnt[word]=1\n",
        "    cnt_df = pd.DataFrame.from_dict(word_cnt, orient='index')\n",
        "    cnt_df.columns = [\"개수\"]\n",
        "    cnt_df = cnt_df.sort_values([\"개수\"],ascending=False)\n",
        "    return word_cnt, cnt_df"
      ],
      "execution_count": 7,
      "outputs": []
    },
    {
      "cell_type": "code",
      "metadata": {
        "id": "_F9oF-VY0wJK"
      },
      "source": [
        "Words_cnt, Cnt_df = Word_count(Corpus)\n",
        "#Words_2019_cnt = Word_count(Words_2019)\n",
        "#Words_2020_cnt = Word_count(Words_2020)"
      ],
      "execution_count": 8,
      "outputs": []
    },
    {
      "cell_type": "code",
      "metadata": {
        "colab": {
          "base_uri": "https://localhost:8080/"
        },
        "id": "dYlhGfazKn9Q",
        "outputId": "ba27f9fb-2112-49ee-f062-6326fba4a07c"
      },
      "source": [
        "len(Cnt_df)"
      ],
      "execution_count": 23,
      "outputs": [
        {
          "output_type": "execute_result",
          "data": {
            "text/plain": [
              "63967"
            ]
          },
          "metadata": {},
          "execution_count": 23
        }
      ]
    },
    {
      "cell_type": "code",
      "metadata": {
        "id": "kZA9_LMs0wJL"
      },
      "source": [
        "# 저장\n",
        "Cnt_df.to_csv(\"단어빈도.csv\", encoding=\"utf-8-sig\")\n",
        "#Words_2019_cnt.to_csv(\"./단어빈도/단어빈도_2019.csv\",encoding=\"cp949\")\n",
        "#Words_2020_cnt.to_csv(\"./단어빈도/단어빈도_2020.csv\",encoding=\"cp949\")"
      ],
      "execution_count": 9,
      "outputs": []
    },
    {
      "cell_type": "code",
      "metadata": {
        "id": "zalE9StybTGo"
      },
      "source": [
        "def is_good_word(word):\n",
        "    if len(word) == 0:\n",
        "        return False\n",
        "    # 숫자로 시작하는 단어 제외\n",
        "    if word[0].isdigit():\n",
        "        return False\n",
        "    # 빈도수 n 이하이면 제외\n",
        "    if Words_cnt.get(word, 0) < 5: \n",
        "        return False\n",
        "    return True"
      ],
      "execution_count": 10,
      "outputs": []
    },
    {
      "cell_type": "code",
      "metadata": {
        "id": "f1NrdObCbTGq"
      },
      "source": [
        "Good_Corpus = []\n",
        "for wl in Corpus:\n",
        "    wl2 = [w for w in wl if is_good_word(w)]\n",
        "    Good_Corpus.append(wl2)"
      ],
      "execution_count": 11,
      "outputs": []
    },
    {
      "cell_type": "code",
      "metadata": {
        "id": "eMIF2ZO3bTGr",
        "colab": {
          "base_uri": "https://localhost:8080/"
        },
        "outputId": "e9df0985-77a4-4d59-b1f8-64c6a7f95c72"
      },
      "source": [
        "for wl in Good_Corpus[:3]:\n",
        "    print(wl)"
      ],
      "execution_count": 12,
      "outputs": [
        {
          "output_type": "stream",
          "name": "stdout",
          "text": [
            "['재배', '채소', '제공', '웰빙', '먹거리', '하이원리조트', '요리사', '셰프들', '재배', '채소', '식재료', '활용', '손님', '웰빙', '먹거리', '제공', '호평', '셰프들', '하이원리조트', '호텔', '셰프', '주인공', '호텔', '셰프', '키친', '오가닉팜', '운영', '고객', '건강', '먹거리', '허브', '제공', '고객서비스', '에코', '캠페인', '식재료', '활용', '채소', '허브', '열매', '정원', '키친', '오가닉팜', '하이원리조트', '조성', '호텔', '셰프', '구슬땀', '채소', '허브', '재배', '재배', '채소', '허브', '호텔', '위치', '식재료', '활용', '하이원리조트', 'PB', '상품', '고메', '밀키트', '제품', '이용', '채소', '허브', '재배', '사내', '벤처', '도움', '리조트', '배출', '음식물', '쓰레기', '곤충', '먹이', '활용', '자연', '분해', '퇴비', '지원', '활용', '하이원리조트', '조리', '부장', '하이원리조트', '호텔', '손님', '정성', '재배', '식재료', '활용', '음식', '대접', '수요', '음식', '노력']\n",
            "['백화점', '롯데쇼핑', '매출', '역성장', '실적', '롯데쇼핑', '백화점', '회복세', '롯데마트', '롯데하이마트', 'e커머스', '롯데온', '주력', '계열사', '부진', '매출', '역성장', '구조', '조정', '성과', '영업이익', '증가', '시장', '롯데쇼핑', '영업', '이익', '동기', '대비', '공시', '매출액', '감소', '영업이익', '공사', '지연', '세금', '영향', '비용', '제외', '영업', '시장', '롯데쇼핑', '매출', '영업이익', '기록', '예상', '보복', '소비', '효과', '백화점', '매출', '영업이익', '성장', '백화점', '매출', '영업이익', '급증', '회복', '소비', '지속', '해외', '사업', '기조', '효과', '영향', '고성장', '설명', '신장률', '기존점', '신장', '만큼', '회복', '성공', '모습', '할인', '롯데마트', '지점', '축소', '매출', '감소', '부진', '점포', '축소', '매출', '구조', '조정', '효과', '개선', '주류', '신선식품', '밀키트', '자릿수', '성장', '기존점', '신장', '성장', '롯데하이마트', '여름', '기온', '에어컨', '판매', '부진', '매출', '동기', '대비', '매출액', '영업이익', '성장세', '제동', '온라인', '성장', '동기', '대비', '증가', '무더위', '시작', '에어컨', '판매', '실적', '반등', '예상', '슈퍼', '매출', '감소', '부진', '홈쇼핑', '마케팅', '강화', '영업이익', '매출액', '기저', '효과', '영향', '매출액', '기록', 'e커머스', '부진', '사업부', '매출', '기록', '셀러', '수수료', '인하', '영향', '영향', '회계', '기준', '변경', '반영', '설명', '영업', '적자', '적자', '확대', '광고', '판관비', '안정', '확대', '비용', '증가', '롯데쇼핑', '관계자', '오픈', '롯데온', '회계', '기준', '영향', '반영', '거래액', '트래픽', '지속적', '증가']\n",
            "['밀키트', '창업', '가정', '안산시', '밀키트', '기탁', '브랜드', '밀키트', '창업', '브랜드', '최단', '기간', '돌파', '저소득가정', '안산시', '관내', '소득', '가정', '이웃', '사랑', '후원', '밀키트', '기탁', '안산시', '안산', '시장', '대표이사', '영상', '대표', '이사', '참석', '전달식', '기탁', '밀키트', '제품', '생활', '가정', '제공', '예정', '냉장', '냉동', '식품', '감안', '푸드뱅크', '제공', '예정', '관계자', '사회', '거리', '강화', '사회', '복지', '시설', '운영', '축소', '소식', '사회', '공헌', '활동', '마련', '고객', '사랑', '사회', '환원', '활동', '기업', '사회', '책임', '대표', '밀키트', '전문점', '여파', '창업', '시장', '전반적', '침체기', '와중', '최단', '기간', '가맹', '계약', '체결', '밀키트', '창업', '프랜차이즈', '업계', '활약']\n"
          ]
        }
      ]
    },
    {
      "cell_type": "markdown",
      "metadata": {
        "id": "n4b6_RB60wJP"
      },
      "source": [
        "# **LDA**"
      ]
    },
    {
      "cell_type": "code",
      "metadata": {
        "id": "XvIt0KntbTGy"
      },
      "source": [
        ""
      ],
      "execution_count": 12,
      "outputs": []
    },
    {
      "cell_type": "code",
      "metadata": {
        "id": "cg4DGne90wJQ"
      },
      "source": [
        "from sklearn.feature_extraction.text import TfidfVectorizer\n",
        "from collections import defaultdict\n",
        "import pandas as pd\n",
        "from sklearn.decomposition import LatentDirichletAllocation\n",
        "import pickle\n",
        "from gensim import corpora\n",
        "import gensim\n"
      ],
      "execution_count": 13,
      "outputs": []
    },
    {
      "cell_type": "code",
      "metadata": {
        "id": "yCpL6iqA0wJQ"
      },
      "source": [
        "class LDA_model:\n",
        "    def __init__(self,corpus):\n",
        "        self.corpus = corpus\n",
        "        return;\n",
        "    def mk_detokenized_doc(self):\n",
        "        self.detokenized_doc = []\n",
        "        for i in range(len(self.corpus)):\n",
        "            try:\n",
        "                t = ' '.join(self.corpus.iloc[i])\n",
        "                self.detokenized_doc.append(t)\n",
        "            except:\n",
        "                print(i)\n",
        "        return;\n",
        "    def tf_idf_vector(self,max_features):\n",
        "        self.vectorizer = TfidfVectorizer(max_features= max_features) # 상위 1000개의 단어 보존\n",
        "        self.X = self.vectorizer.fit_transform(self.detokenized_doc)\n",
        "        return;\n",
        "    def mk_word2id(self):\n",
        "        self.word2id = defaultdict(lambda : 0)\n",
        "        for idx, feature in enumerate(self.vectorizer.get_feature_names()):\n",
        "            self.word2id[feature] = idx\n",
        "        return;\n",
        "    def print_word2id(self,n=1):\n",
        "        for i, sent in enumerate(self.detokenized_doc):\n",
        "            print('====== document[%d] ======' % i)\n",
        "            print( [ (token, self.X[i, self.word2id[token]]) for token in sent.split() ] )\n",
        "            if i==n:\n",
        "                break\n",
        "        return;\n",
        "    def mk_lda_model(self,n_topic=10,max_iter=1):\n",
        "        self.lda_model=LatentDirichletAllocation(n_components=n_topic,learning_method='online',random_state=777,max_iter=max_iter)\n",
        "        self.lda_top=self.lda_model.fit_transform(self.X)\n",
        "        return;\n",
        "    def print_lda(self):\n",
        "        print(\"-------------------------------------\")\n",
        "        print(self.lda_model.components_)\n",
        "        print(self.lda_model.components_.shape) \n",
        "        return;\n",
        "    def print_topic_lda(self,n=5):\n",
        "        print(\"-------------------------------------\")\n",
        "        terms = self.vectorizer.get_feature_names() # 단어 집합. 1,000개의 단어가 저장됨.\n",
        "        for idx, topic in enumerate(self.lda_model.components_):\n",
        "            print(\"Topic %d:\" % (idx+1), [(terms[i], topic[i].round(2)) for i in topic.argsort()[:-n - 1:-1]])\n",
        "        return;"
      ],
      "execution_count": 14,
      "outputs": []
    },
    {
      "cell_type": "code",
      "metadata": {
        "id": "3dZmh7VX0wJQ"
      },
      "source": [
        "model_all = LDA_model(Corpus)"
      ],
      "execution_count": 15,
      "outputs": []
    },
    {
      "cell_type": "markdown",
      "metadata": {
        "id": "WOsm3Afl0wJR"
      },
      "source": [
        "# **LDA 시각화**"
      ]
    },
    {
      "cell_type": "markdown",
      "metadata": {
        "id": "Lwl83ZDB0wJR"
      },
      "source": [
        "- 토픽별 단어 분포"
      ]
    },
    {
      "cell_type": "code",
      "metadata": {
        "id": "KOjVHLSR0wJS",
        "colab": {
          "base_uri": "https://localhost:8080/"
        },
        "outputId": "c5575482-5a1d-43d4-bff7-160a1166d40a"
      },
      "source": [
        "dictionary = corpora.Dictionary(model_all.corpus)\n",
        "corpus = [dictionary.doc2bow(text) for text in model_all.corpus]\n",
        "NUM_TOPICS = 3\n",
        "num_words = 30\n",
        "ldamodel = gensim.models.ldamodel.LdaModel(corpus, num_topics = NUM_TOPICS, id2word=dictionary, passes=15)\n",
        "topics = ldamodel.print_topics(num_words=num_words)\n",
        "for topic in topics:\n",
        "    print(topic)\n",
        "dictionary.save('dictionary_전처리.gensim')\n",
        "pickle.dump(corpus, open('corpus_전처리.pkl', 'wb'))\n",
        "ldamodel.save('gensim_model_전처리.gensim')\n",
        "\n"
      ],
      "execution_count": 16,
      "outputs": [
        {
          "output_type": "stream",
          "name": "stdout",
          "text": [
            "(0, '0.017*\"밀키트\" + 0.009*\"상품\" + 0.009*\"제품\" + 0.008*\"판매\" + 0.007*\"매출\" + 0.007*\"요리\" + 0.007*\"증가\" + 0.006*\"간편식\" + 0.006*\"출시\" + 0.006*\"인기\" + 0.005*\"음식\" + 0.005*\"시장\" + 0.005*\"세트\" + 0.005*\"이마트\" + 0.005*\"메뉴\" + 0.004*\"코로나19\" + 0.004*\"대비\" + 0.004*\"브랜드\" + 0.004*\"선물\" + 0.004*\"식품\" + 0.004*\"조리\" + 0.004*\"구매\" + 0.004*\"할인\" + 0.003*\"가격\" + 0.003*\"재료\" + 0.003*\"프리미엄\" + 0.003*\"가정\" + 0.003*\"매장\" + 0.003*\"고객\" + 0.003*\"준비\"')\n",
            "(1, '0.008*\"지원\" + 0.008*\"사업\" + 0.007*\"기업\" + 0.006*\"코로나19\" + 0.006*\"식품\" + 0.005*\"투자\" + 0.005*\"밀키트\" + 0.005*\"시장\" + 0.005*\"지역\" + 0.004*\"대표\" + 0.004*\"온라인\" + 0.004*\"서비스\" + 0.003*\"판매\" + 0.003*\"운영\" + 0.003*\"산업\" + 0.003*\"플랫폼\" + 0.003*\"진행\" + 0.003*\"성장\" + 0.003*\"경제\" + 0.003*\"사회\" + 0.003*\"계획\" + 0.003*\"제공\" + 0.003*\"소상공인\" + 0.003*\"제품\" + 0.003*\"업체\" + 0.003*\"선정\" + 0.003*\"창업\" + 0.002*\"확대\" + 0.002*\"스타트업\" + 0.002*\"활용\"')\n",
            "(2, '0.021*\"밀키트\" + 0.014*\"배송\" + 0.012*\"제품\" + 0.011*\"시장\" + 0.011*\"서비스\" + 0.010*\"상품\" + 0.009*\"고객\" + 0.007*\"판매\" + 0.006*\"브랜드\" + 0.006*\"온라인\" + 0.006*\"요리\" + 0.006*\"메뉴\" + 0.006*\"주문\" + 0.006*\"한국야쿠르트\" + 0.005*\"확대\" + 0.005*\"식품\" + 0.005*\"제공\" + 0.005*\"GS리테일\" + 0.005*\"출시\" + 0.005*\"프레시지\" + 0.005*\"심플리쿡\" + 0.004*\"진행\" + 0.004*\"간편식\" + 0.004*\"운영\" + 0.004*\"GS\" + 0.004*\"계획\" + 0.004*\"소비자\" + 0.004*\"성장\" + 0.004*\"시작\" + 0.004*\"매출\"')\n"
          ]
        }
      ]
    },
    {
      "cell_type": "code",
      "metadata": {
        "colab": {
          "base_uri": "https://localhost:8080/"
        },
        "id": "B889GseaJ3WK",
        "outputId": "89d7c874-74d3-4ee6-fdc4-5ffa1fb27d36"
      },
      "source": [
        "pip install pyLDAvis"
      ],
      "execution_count": 17,
      "outputs": [
        {
          "output_type": "stream",
          "name": "stdout",
          "text": [
            "Requirement already satisfied: pyLDAvis in /usr/local/lib/python3.7/dist-packages (3.3.1)\n",
            "Requirement already satisfied: sklearn in /usr/local/lib/python3.7/dist-packages (from pyLDAvis) (0.0)\n",
            "Requirement already satisfied: scikit-learn in /usr/local/lib/python3.7/dist-packages (from pyLDAvis) (0.22.2.post1)\n",
            "Requirement already satisfied: setuptools in /usr/local/lib/python3.7/dist-packages (from pyLDAvis) (57.4.0)\n",
            "Requirement already satisfied: joblib in /usr/local/lib/python3.7/dist-packages (from pyLDAvis) (1.0.1)\n",
            "Requirement already satisfied: numpy>=1.20.0 in /usr/local/lib/python3.7/dist-packages (from pyLDAvis) (1.21.2)\n",
            "Requirement already satisfied: numexpr in /usr/local/lib/python3.7/dist-packages (from pyLDAvis) (2.7.3)\n",
            "Requirement already satisfied: pandas>=1.2.0 in /usr/local/lib/python3.7/dist-packages (from pyLDAvis) (1.3.2)\n",
            "Requirement already satisfied: gensim in /usr/local/lib/python3.7/dist-packages (from pyLDAvis) (3.6.0)\n",
            "Requirement already satisfied: scipy in /usr/local/lib/python3.7/dist-packages (from pyLDAvis) (1.4.1)\n",
            "Requirement already satisfied: future in /usr/local/lib/python3.7/dist-packages (from pyLDAvis) (0.16.0)\n",
            "Requirement already satisfied: jinja2 in /usr/local/lib/python3.7/dist-packages (from pyLDAvis) (2.11.3)\n",
            "Requirement already satisfied: funcy in /usr/local/lib/python3.7/dist-packages (from pyLDAvis) (1.16)\n",
            "Requirement already satisfied: pytz>=2017.3 in /usr/local/lib/python3.7/dist-packages (from pandas>=1.2.0->pyLDAvis) (2018.9)\n",
            "Requirement already satisfied: python-dateutil>=2.7.3 in /usr/local/lib/python3.7/dist-packages (from pandas>=1.2.0->pyLDAvis) (2.8.2)\n",
            "Requirement already satisfied: six>=1.5 in /usr/local/lib/python3.7/dist-packages (from python-dateutil>=2.7.3->pandas>=1.2.0->pyLDAvis) (1.15.0)\n",
            "Requirement already satisfied: smart-open>=1.2.1 in /usr/local/lib/python3.7/dist-packages (from gensim->pyLDAvis) (5.1.0)\n",
            "Requirement already satisfied: MarkupSafe>=0.23 in /usr/local/lib/python3.7/dist-packages (from jinja2->pyLDAvis) (2.0.1)\n"
          ]
        }
      ]
    },
    {
      "cell_type": "code",
      "metadata": {
        "id": "vRJpW46dbTG2",
        "colab": {
          "base_uri": "https://localhost:8080/"
        },
        "outputId": "94df780d-93b8-4e0d-cdad-62b4c91a48c4"
      },
      "source": [
        "import pyLDAvis\n",
        "import pyLDAvis.gensim_models\n",
        "pyLDAvis.enable_notebook()\n",
        "vis = pyLDAvis.gensim_models.prepare(ldamodel, corpus, dictionary)\n",
        "pyLDAvis.save_html(vis,\"lda_전처리.html\")"
      ],
      "execution_count": 18,
      "outputs": [
        {
          "output_type": "stream",
          "name": "stderr",
          "text": [
            "/usr/local/lib/python3.7/dist-packages/past/types/oldstr.py:5: DeprecationWarning: Using or importing the ABCs from 'collections' instead of from 'collections.abc' is deprecated since Python 3.3,and in 3.9 it will stop working\n",
            "  from collections import Iterable\n",
            "/usr/local/lib/python3.7/dist-packages/pyLDAvis/_prepare.py:247: FutureWarning: In a future version of pandas all arguments of DataFrame.drop except for the argument 'labels' will be keyword-only\n",
            "  by='saliency', ascending=False).head(R).drop('saliency', 1)\n"
          ]
        }
      ]
    },
    {
      "cell_type": "code",
      "metadata": {
        "id": "hW-8Ng220wJT",
        "colab": {
          "base_uri": "https://localhost:8080/"
        },
        "outputId": "4ca7fe9e-5190-4cc4-c9f5-963c692210f1"
      },
      "source": [
        "len(dictionary) # 각 단어의 정수형 표시"
      ],
      "execution_count": 19,
      "outputs": [
        {
          "output_type": "execute_result",
          "data": {
            "text/plain": [
              "63967"
            ]
          },
          "metadata": {},
          "execution_count": 19
        }
      ]
    },
    {
      "cell_type": "code",
      "metadata": {
        "id": "VnjLTNhz0wJT",
        "colab": {
          "base_uri": "https://localhost:8080/"
        },
        "outputId": "51f513b4-953e-40ca-e922-0d22a62cc87a"
      },
      "source": [
        "NUM_TOPICS = 3\n",
        "num_words = 30\n",
        "#ldamodel = gensim.models.ldamodel.LdaModel(corpus, num_topics = NUM_TOPICS, id2word=dictionary, passes=15)\n",
        "topics = ldamodel.print_topics(num_words=num_words)\n",
        "for topic in topics:\n",
        "    print(topic)"
      ],
      "execution_count": 20,
      "outputs": [
        {
          "output_type": "stream",
          "name": "stdout",
          "text": [
            "(0, '0.017*\"밀키트\" + 0.009*\"상품\" + 0.009*\"제품\" + 0.008*\"판매\" + 0.007*\"매출\" + 0.007*\"요리\" + 0.007*\"증가\" + 0.006*\"간편식\" + 0.006*\"출시\" + 0.006*\"인기\" + 0.005*\"음식\" + 0.005*\"시장\" + 0.005*\"세트\" + 0.005*\"이마트\" + 0.005*\"메뉴\" + 0.004*\"코로나19\" + 0.004*\"대비\" + 0.004*\"브랜드\" + 0.004*\"선물\" + 0.004*\"식품\" + 0.004*\"조리\" + 0.004*\"구매\" + 0.004*\"할인\" + 0.003*\"가격\" + 0.003*\"재료\" + 0.003*\"프리미엄\" + 0.003*\"가정\" + 0.003*\"매장\" + 0.003*\"고객\" + 0.003*\"준비\"')\n",
            "(1, '0.008*\"지원\" + 0.008*\"사업\" + 0.007*\"기업\" + 0.006*\"코로나19\" + 0.006*\"식품\" + 0.005*\"투자\" + 0.005*\"밀키트\" + 0.005*\"시장\" + 0.005*\"지역\" + 0.004*\"대표\" + 0.004*\"온라인\" + 0.004*\"서비스\" + 0.003*\"판매\" + 0.003*\"운영\" + 0.003*\"산업\" + 0.003*\"플랫폼\" + 0.003*\"진행\" + 0.003*\"성장\" + 0.003*\"경제\" + 0.003*\"사회\" + 0.003*\"계획\" + 0.003*\"제공\" + 0.003*\"소상공인\" + 0.003*\"제품\" + 0.003*\"업체\" + 0.003*\"선정\" + 0.003*\"창업\" + 0.002*\"확대\" + 0.002*\"스타트업\" + 0.002*\"활용\"')\n",
            "(2, '0.021*\"밀키트\" + 0.014*\"배송\" + 0.012*\"제품\" + 0.011*\"시장\" + 0.011*\"서비스\" + 0.010*\"상품\" + 0.009*\"고객\" + 0.007*\"판매\" + 0.006*\"브랜드\" + 0.006*\"온라인\" + 0.006*\"요리\" + 0.006*\"메뉴\" + 0.006*\"주문\" + 0.006*\"한국야쿠르트\" + 0.005*\"확대\" + 0.005*\"식품\" + 0.005*\"제공\" + 0.005*\"GS리테일\" + 0.005*\"출시\" + 0.005*\"프레시지\" + 0.005*\"심플리쿡\" + 0.004*\"진행\" + 0.004*\"간편식\" + 0.004*\"운영\" + 0.004*\"GS\" + 0.004*\"계획\" + 0.004*\"소비자\" + 0.004*\"성장\" + 0.004*\"시작\" + 0.004*\"매출\"')\n"
          ]
        }
      ]
    },
    {
      "cell_type": "markdown",
      "metadata": {
        "id": "8UOWFO2P0wJU"
      },
      "source": [
        "---\n",
        "# **불러와서 분석**"
      ]
    },
    {
      "cell_type": "code",
      "metadata": {
        "id": "zdK4rGo40wJU",
        "colab": {
          "base_uri": "https://localhost:8080/"
        },
        "outputId": "686c0da7-0282-45d2-c423-7c38f2d86d02"
      },
      "source": [
        "dictionary = gensim.corpora.Dictionary.load('dictionary_전처리.gensim')\n",
        "corpus = pickle.load(open('corpus_전처리.pkl', 'rb'))\n",
        "ldamodel = gensim.models.ldamodel.LdaModel.load('gensim_model_전처리.gensim')"
      ],
      "execution_count": 21,
      "outputs": [
        {
          "output_type": "stream",
          "name": "stderr",
          "text": [
            "/usr/local/lib/python3.7/dist-packages/smart_open/smart_open_lib.py:494: DeprecationWarning: This function is deprecated.  See https://github.com/RaRe-Technologies/smart_open/blob/develop/MIGRATING_FROM_OLDER_VERSIONS.rst for more information\n",
            "  warnings.warn(message, category=DeprecationWarning)\n",
            "/usr/local/lib/python3.7/dist-packages/smart_open/smart_open_lib.py:494: DeprecationWarning: This function is deprecated.  See https://github.com/RaRe-Technologies/smart_open/blob/develop/MIGRATING_FROM_OLDER_VERSIONS.rst for more information\n",
            "  warnings.warn(message, category=DeprecationWarning)\n",
            "/usr/local/lib/python3.7/dist-packages/smart_open/smart_open_lib.py:494: DeprecationWarning: This function is deprecated.  See https://github.com/RaRe-Technologies/smart_open/blob/develop/MIGRATING_FROM_OLDER_VERSIONS.rst for more information\n",
            "  warnings.warn(message, category=DeprecationWarning)\n",
            "/usr/local/lib/python3.7/dist-packages/smart_open/smart_open_lib.py:494: DeprecationWarning: This function is deprecated.  See https://github.com/RaRe-Technologies/smart_open/blob/develop/MIGRATING_FROM_OLDER_VERSIONS.rst for more information\n",
            "  warnings.warn(message, category=DeprecationWarning)\n"
          ]
        }
      ]
    },
    {
      "cell_type": "code",
      "metadata": {
        "id": "xWKD29dvbTG4"
      },
      "source": [
        ""
      ],
      "execution_count": 21,
      "outputs": []
    }
  ]
}